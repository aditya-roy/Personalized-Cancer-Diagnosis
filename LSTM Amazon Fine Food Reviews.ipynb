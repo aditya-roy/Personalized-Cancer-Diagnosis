{
 "cells": [
  {
   "cell_type": "markdown",
   "metadata": {},
   "source": [
    "# Amazon Fine Food Reviews Analysis\n",
    "\n",
    "\n",
    "Data Source: https://www.kaggle.com/snap/amazon-fine-food-reviews <br>\n",
    "\n",
    "EDA: https://nycdatascience.com/blog/student-works/amazon-fine-foods-visualization/\n",
    "\n",
    "\n",
    "The Amazon Fine Food Reviews dataset consists of reviews of fine foods from Amazon.<br>\n",
    "\n",
    "Number of reviews: 568,454<br>\n",
    "Number of users: 256,059<br>\n",
    "Number of products: 74,258<br>\n",
    "Timespan: Oct 1999 - Oct 2012<br>\n",
    "Number of Attributes/Columns in data: 10 \n",
    "\n",
    "Attribute Information:\n",
    "\n",
    "1. Id\n",
    "2. ProductId - unique identifier for the product\n",
    "3. UserId - unqiue identifier for the user\n",
    "4. ProfileName\n",
    "5. HelpfulnessNumerator - number of users who found the review helpful\n",
    "6. HelpfulnessDenominator - number of users who indicated whether they found the review helpful or not\n",
    "7. Score - rating between 1 and 5\n",
    "8. Time - timestamp for the review\n",
    "9. Summary - brief summary of the review\n",
    "10. Text - text of the review\n",
    "\n",
    "\n",
    "#### Objective:\n",
    "Given a review, determine whether the review is positive (rating of 4 or 5) or negative (rating of 1 or 2).\n",
    "\n",
    "<br>\n",
    "[Q] How to determine if a review is positive or negative?<br>\n",
    "<br> \n",
    "[Ans] We could use Score/Rating. A rating of 4 or 5 can be cosnidered as a positive review. A rating of 1 or 2 can be considered as negative one. A review of rating 3 is considered nuetral and such reviews are ignored from our analysis. This is an approximate and proxy way of determining the polarity (positivity/negativity) of a review.\n",
    "\n",
    "\n"
   ]
  },
  {
   "cell_type": "markdown",
   "metadata": {},
   "source": [
    "# [1]. Reading Data"
   ]
  },
  {
   "cell_type": "markdown",
   "metadata": {},
   "source": [
    "## [1.1] Loading the data\n",
    "\n",
    "The dataset is available in two forms\n",
    "1. .csv file\n",
    "2. SQLite Database\n",
    "\n",
    "In order to load the data, We have used the SQLITE dataset as it is easier to query the data and visualise the data efficiently.\n",
    "<br> \n",
    "\n",
    "Here as we only want to get the global sentiment of the recommendations (positive or negative), we will purposefully ignore all Scores equal to 3. If the score is above 3, then the recommendation wil be set to \"positive\". Otherwise, it will be set to \"negative\"."
   ]
  },
  {
   "cell_type": "code",
   "execution_count": 34,
   "metadata": {},
   "outputs": [],
   "source": [
    "%matplotlib inline\n",
    "import warnings\n",
    "warnings.filterwarnings(\"ignore\")\n",
    "import sqlite3\n",
    "import pandas as pd\n",
    "import numpy as np\n",
    "import nltk\n",
    "import string\n",
    "import re\n",
    "import string\n",
    "from nltk.corpus import stopwords\n",
    "from nltk.stem import PorterStemmer\n",
    "from nltk.stem.wordnet import WordNetLemmatizer\n",
    "from tqdm import tqdm\n",
    "import os\n",
    "import numpy\n",
    "import pandas as pd\n",
    "from keras.datasets import imdb\n",
    "from keras.models import Sequential\n",
    "from keras.layers import Dense\n",
    "from keras.layers import LSTM\n",
    "from keras.layers import Dropout\n",
    "from keras.layers.embeddings import Embedding\n",
    "from keras.preprocessing import sequence\n",
    "from keras.preprocessing.text import Tokenizer"
   ]
  },
  {
   "cell_type": "code",
   "execution_count": 2,
   "metadata": {},
   "outputs": [
    {
     "name": "stdout",
     "output_type": "stream",
     "text": [
      "Number of data points in our data (50000, 10)\n"
     ]
    },
    {
     "data": {
      "text/html": [
       "<div>\n",
       "<style scoped>\n",
       "    .dataframe tbody tr th:only-of-type {\n",
       "        vertical-align: middle;\n",
       "    }\n",
       "\n",
       "    .dataframe tbody tr th {\n",
       "        vertical-align: top;\n",
       "    }\n",
       "\n",
       "    .dataframe thead th {\n",
       "        text-align: right;\n",
       "    }\n",
       "</style>\n",
       "<table border=\"1\" class=\"dataframe\">\n",
       "  <thead>\n",
       "    <tr style=\"text-align: right;\">\n",
       "      <th></th>\n",
       "      <th>Id</th>\n",
       "      <th>ProductId</th>\n",
       "      <th>UserId</th>\n",
       "      <th>ProfileName</th>\n",
       "      <th>HelpfulnessNumerator</th>\n",
       "      <th>HelpfulnessDenominator</th>\n",
       "      <th>Score</th>\n",
       "      <th>Time</th>\n",
       "      <th>Summary</th>\n",
       "      <th>Text</th>\n",
       "    </tr>\n",
       "  </thead>\n",
       "  <tbody>\n",
       "    <tr>\n",
       "      <th>0</th>\n",
       "      <td>1</td>\n",
       "      <td>B001E4KFG0</td>\n",
       "      <td>A3SGXH7AUHU8GW</td>\n",
       "      <td>delmartian</td>\n",
       "      <td>1</td>\n",
       "      <td>1</td>\n",
       "      <td>1</td>\n",
       "      <td>1303862400</td>\n",
       "      <td>Good Quality Dog Food</td>\n",
       "      <td>I have bought several of the Vitality canned d...</td>\n",
       "    </tr>\n",
       "    <tr>\n",
       "      <th>1</th>\n",
       "      <td>2</td>\n",
       "      <td>B00813GRG4</td>\n",
       "      <td>A1D87F6ZCVE5NK</td>\n",
       "      <td>dll pa</td>\n",
       "      <td>0</td>\n",
       "      <td>0</td>\n",
       "      <td>0</td>\n",
       "      <td>1346976000</td>\n",
       "      <td>Not as Advertised</td>\n",
       "      <td>Product arrived labeled as Jumbo Salted Peanut...</td>\n",
       "    </tr>\n",
       "    <tr>\n",
       "      <th>2</th>\n",
       "      <td>3</td>\n",
       "      <td>B000LQOCH0</td>\n",
       "      <td>ABXLMWJIXXAIN</td>\n",
       "      <td>Natalia Corres \"Natalia Corres\"</td>\n",
       "      <td>1</td>\n",
       "      <td>1</td>\n",
       "      <td>1</td>\n",
       "      <td>1219017600</td>\n",
       "      <td>\"Delight\" says it all</td>\n",
       "      <td>This is a confection that has been around a fe...</td>\n",
       "    </tr>\n",
       "  </tbody>\n",
       "</table>\n",
       "</div>"
      ],
      "text/plain": [
       "   Id   ProductId          UserId                      ProfileName  \\\n",
       "0   1  B001E4KFG0  A3SGXH7AUHU8GW                       delmartian   \n",
       "1   2  B00813GRG4  A1D87F6ZCVE5NK                           dll pa   \n",
       "2   3  B000LQOCH0   ABXLMWJIXXAIN  Natalia Corres \"Natalia Corres\"   \n",
       "\n",
       "   HelpfulnessNumerator  HelpfulnessDenominator  Score        Time  \\\n",
       "0                     1                       1      1  1303862400   \n",
       "1                     0                       0      0  1346976000   \n",
       "2                     1                       1      1  1219017600   \n",
       "\n",
       "                 Summary                                               Text  \n",
       "0  Good Quality Dog Food  I have bought several of the Vitality canned d...  \n",
       "1      Not as Advertised  Product arrived labeled as Jumbo Salted Peanut...  \n",
       "2  \"Delight\" says it all  This is a confection that has been around a fe...  "
      ]
     },
     "execution_count": 2,
     "metadata": {},
     "output_type": "execute_result"
    }
   ],
   "source": [
    "# using SQLite Table to read data.\n",
    "con = sqlite3.connect('C:\\\\Users\\\\admin\\\\Downloads\\\\AppliedAi\\\\Amazon Fine Food Reviews\\\\database.sqlite') \n",
    "\n",
    "# filtering only positive and negative reviews i.e. \n",
    "# not taking into consideration those reviews with Score=3\n",
    "# SELECT * FROM Reviews WHERE Score != 3 LIMIT 500000, will give top 500000 data points\n",
    "# you can change the number to any other number based on your computing power\n",
    "\n",
    "# filtered_data = pd.read_sql_query(\"\"\" SELECT * FROM Reviews WHERE Score != 3 LIMIT 500000\"\"\", con) \n",
    "# for tsne assignment you can take 5k data points\n",
    "\n",
    "filtered_data = pd.read_sql_query(\"\"\" SELECT * FROM Reviews WHERE Score != 3 LIMIT 50000\"\"\", con) \n",
    "\n",
    "# Give reviews with Score>3 a positive rating(1), and reviews with a score<3 a negative rating(0).\n",
    "def partition(x):\n",
    "    if x < 3:\n",
    "        return 0\n",
    "    return 1\n",
    "\n",
    "#changing reviews with score less than 3 to be positive and vice-versa\n",
    "actualScore = filtered_data['Score']\n",
    "positiveNegative = actualScore.map(partition) \n",
    "filtered_data['Score'] = positiveNegative\n",
    "print(\"Number of data points in our data\", filtered_data.shape)\n",
    "filtered_data.head(3)"
   ]
  },
  {
   "cell_type": "code",
   "execution_count": 3,
   "metadata": {},
   "outputs": [],
   "source": [
    "display = pd.read_sql_query(\"\"\"\n",
    "SELECT UserId, ProductId, ProfileName, Time, Score, Text, COUNT(*)\n",
    "FROM Reviews\n",
    "GROUP BY UserId\n",
    "HAVING COUNT(*)>1\n",
    "\"\"\", con)"
   ]
  },
  {
   "cell_type": "code",
   "execution_count": 4,
   "metadata": {
    "scrolled": true
   },
   "outputs": [
    {
     "name": "stdout",
     "output_type": "stream",
     "text": [
      "(80668, 7)\n"
     ]
    },
    {
     "data": {
      "text/html": [
       "<div>\n",
       "<style scoped>\n",
       "    .dataframe tbody tr th:only-of-type {\n",
       "        vertical-align: middle;\n",
       "    }\n",
       "\n",
       "    .dataframe tbody tr th {\n",
       "        vertical-align: top;\n",
       "    }\n",
       "\n",
       "    .dataframe thead th {\n",
       "        text-align: right;\n",
       "    }\n",
       "</style>\n",
       "<table border=\"1\" class=\"dataframe\">\n",
       "  <thead>\n",
       "    <tr style=\"text-align: right;\">\n",
       "      <th></th>\n",
       "      <th>UserId</th>\n",
       "      <th>ProductId</th>\n",
       "      <th>ProfileName</th>\n",
       "      <th>Time</th>\n",
       "      <th>Score</th>\n",
       "      <th>Text</th>\n",
       "      <th>COUNT(*)</th>\n",
       "    </tr>\n",
       "  </thead>\n",
       "  <tbody>\n",
       "    <tr>\n",
       "      <th>0</th>\n",
       "      <td>#oc-R115TNMSPFT9I7</td>\n",
       "      <td>B005ZBZLT4</td>\n",
       "      <td>Breyton</td>\n",
       "      <td>1331510400</td>\n",
       "      <td>2</td>\n",
       "      <td>Overall its just OK when considering the price...</td>\n",
       "      <td>2</td>\n",
       "    </tr>\n",
       "    <tr>\n",
       "      <th>1</th>\n",
       "      <td>#oc-R11D9D7SHXIJB9</td>\n",
       "      <td>B005HG9ESG</td>\n",
       "      <td>Louis E. Emory \"hoppy\"</td>\n",
       "      <td>1342396800</td>\n",
       "      <td>5</td>\n",
       "      <td>My wife has recurring extreme muscle spasms, u...</td>\n",
       "      <td>3</td>\n",
       "    </tr>\n",
       "    <tr>\n",
       "      <th>2</th>\n",
       "      <td>#oc-R11DNU2NBKQ23Z</td>\n",
       "      <td>B005ZBZLT4</td>\n",
       "      <td>Kim Cieszykowski</td>\n",
       "      <td>1348531200</td>\n",
       "      <td>1</td>\n",
       "      <td>This coffee is horrible and unfortunately not ...</td>\n",
       "      <td>2</td>\n",
       "    </tr>\n",
       "    <tr>\n",
       "      <th>3</th>\n",
       "      <td>#oc-R11O5J5ZVQE25C</td>\n",
       "      <td>B005HG9ESG</td>\n",
       "      <td>Penguin Chick</td>\n",
       "      <td>1346889600</td>\n",
       "      <td>5</td>\n",
       "      <td>This will be the bottle that you grab from the...</td>\n",
       "      <td>3</td>\n",
       "    </tr>\n",
       "    <tr>\n",
       "      <th>4</th>\n",
       "      <td>#oc-R12KPBODL2B5ZD</td>\n",
       "      <td>B007OSBEV0</td>\n",
       "      <td>Christopher P. Presta</td>\n",
       "      <td>1348617600</td>\n",
       "      <td>1</td>\n",
       "      <td>I didnt like this coffee. Instead of telling y...</td>\n",
       "      <td>2</td>\n",
       "    </tr>\n",
       "  </tbody>\n",
       "</table>\n",
       "</div>"
      ],
      "text/plain": [
       "               UserId   ProductId             ProfileName        Time  Score  \\\n",
       "0  #oc-R115TNMSPFT9I7  B005ZBZLT4                 Breyton  1331510400      2   \n",
       "1  #oc-R11D9D7SHXIJB9  B005HG9ESG  Louis E. Emory \"hoppy\"  1342396800      5   \n",
       "2  #oc-R11DNU2NBKQ23Z  B005ZBZLT4        Kim Cieszykowski  1348531200      1   \n",
       "3  #oc-R11O5J5ZVQE25C  B005HG9ESG           Penguin Chick  1346889600      5   \n",
       "4  #oc-R12KPBODL2B5ZD  B007OSBEV0   Christopher P. Presta  1348617600      1   \n",
       "\n",
       "                                                Text  COUNT(*)  \n",
       "0  Overall its just OK when considering the price...         2  \n",
       "1  My wife has recurring extreme muscle spasms, u...         3  \n",
       "2  This coffee is horrible and unfortunately not ...         2  \n",
       "3  This will be the bottle that you grab from the...         3  \n",
       "4  I didnt like this coffee. Instead of telling y...         2  "
      ]
     },
     "execution_count": 4,
     "metadata": {},
     "output_type": "execute_result"
    }
   ],
   "source": [
    "print(display.shape)\n",
    "display.head()"
   ]
  },
  {
   "cell_type": "code",
   "execution_count": 5,
   "metadata": {},
   "outputs": [
    {
     "data": {
      "text/html": [
       "<div>\n",
       "<style scoped>\n",
       "    .dataframe tbody tr th:only-of-type {\n",
       "        vertical-align: middle;\n",
       "    }\n",
       "\n",
       "    .dataframe tbody tr th {\n",
       "        vertical-align: top;\n",
       "    }\n",
       "\n",
       "    .dataframe thead th {\n",
       "        text-align: right;\n",
       "    }\n",
       "</style>\n",
       "<table border=\"1\" class=\"dataframe\">\n",
       "  <thead>\n",
       "    <tr style=\"text-align: right;\">\n",
       "      <th></th>\n",
       "      <th>UserId</th>\n",
       "      <th>ProductId</th>\n",
       "      <th>ProfileName</th>\n",
       "      <th>Time</th>\n",
       "      <th>Score</th>\n",
       "      <th>Text</th>\n",
       "      <th>COUNT(*)</th>\n",
       "    </tr>\n",
       "  </thead>\n",
       "  <tbody>\n",
       "    <tr>\n",
       "      <th>80638</th>\n",
       "      <td>AZY10LLTJ71NX</td>\n",
       "      <td>B001ATMQK2</td>\n",
       "      <td>undertheshrine \"undertheshrine\"</td>\n",
       "      <td>1296691200</td>\n",
       "      <td>5</td>\n",
       "      <td>I bought this 6 pack because for the price tha...</td>\n",
       "      <td>5</td>\n",
       "    </tr>\n",
       "  </tbody>\n",
       "</table>\n",
       "</div>"
      ],
      "text/plain": [
       "              UserId   ProductId                      ProfileName        Time  \\\n",
       "80638  AZY10LLTJ71NX  B001ATMQK2  undertheshrine \"undertheshrine\"  1296691200   \n",
       "\n",
       "       Score                                               Text  COUNT(*)  \n",
       "80638      5  I bought this 6 pack because for the price tha...         5  "
      ]
     },
     "execution_count": 5,
     "metadata": {},
     "output_type": "execute_result"
    }
   ],
   "source": [
    "display[display['UserId']=='AZY10LLTJ71NX']"
   ]
  },
  {
   "cell_type": "code",
   "execution_count": 6,
   "metadata": {},
   "outputs": [
    {
     "data": {
      "text/plain": [
       "393063"
      ]
     },
     "execution_count": 6,
     "metadata": {},
     "output_type": "execute_result"
    }
   ],
   "source": [
    "display['COUNT(*)'].sum()"
   ]
  },
  {
   "cell_type": "markdown",
   "metadata": {},
   "source": [
    "#  [2] Exploratory Data Analysis"
   ]
  },
  {
   "cell_type": "markdown",
   "metadata": {},
   "source": [
    "## [2.1] Data Cleaning: Deduplication\n",
    "\n",
    "It is observed (as shown in the table below) that the reviews data had many duplicate entries. Hence it was necessary to remove duplicates in order to get unbiased results for the analysis of the data.  Following is an example:"
   ]
  },
  {
   "cell_type": "code",
   "execution_count": 7,
   "metadata": {
    "scrolled": false
   },
   "outputs": [
    {
     "data": {
      "text/html": [
       "<div>\n",
       "<style scoped>\n",
       "    .dataframe tbody tr th:only-of-type {\n",
       "        vertical-align: middle;\n",
       "    }\n",
       "\n",
       "    .dataframe tbody tr th {\n",
       "        vertical-align: top;\n",
       "    }\n",
       "\n",
       "    .dataframe thead th {\n",
       "        text-align: right;\n",
       "    }\n",
       "</style>\n",
       "<table border=\"1\" class=\"dataframe\">\n",
       "  <thead>\n",
       "    <tr style=\"text-align: right;\">\n",
       "      <th></th>\n",
       "      <th>Id</th>\n",
       "      <th>ProductId</th>\n",
       "      <th>UserId</th>\n",
       "      <th>ProfileName</th>\n",
       "      <th>HelpfulnessNumerator</th>\n",
       "      <th>HelpfulnessDenominator</th>\n",
       "      <th>Score</th>\n",
       "      <th>Time</th>\n",
       "      <th>Summary</th>\n",
       "      <th>Text</th>\n",
       "    </tr>\n",
       "  </thead>\n",
       "  <tbody>\n",
       "    <tr>\n",
       "      <th>0</th>\n",
       "      <td>78445</td>\n",
       "      <td>B000HDL1RQ</td>\n",
       "      <td>AR5J8UI46CURR</td>\n",
       "      <td>Geetha Krishnan</td>\n",
       "      <td>2</td>\n",
       "      <td>2</td>\n",
       "      <td>5</td>\n",
       "      <td>1199577600</td>\n",
       "      <td>LOACKER QUADRATINI VANILLA WAFERS</td>\n",
       "      <td>DELICIOUS WAFERS. I FIND THAT EUROPEAN WAFERS ...</td>\n",
       "    </tr>\n",
       "    <tr>\n",
       "      <th>1</th>\n",
       "      <td>138317</td>\n",
       "      <td>B000HDOPYC</td>\n",
       "      <td>AR5J8UI46CURR</td>\n",
       "      <td>Geetha Krishnan</td>\n",
       "      <td>2</td>\n",
       "      <td>2</td>\n",
       "      <td>5</td>\n",
       "      <td>1199577600</td>\n",
       "      <td>LOACKER QUADRATINI VANILLA WAFERS</td>\n",
       "      <td>DELICIOUS WAFERS. I FIND THAT EUROPEAN WAFERS ...</td>\n",
       "    </tr>\n",
       "    <tr>\n",
       "      <th>2</th>\n",
       "      <td>138277</td>\n",
       "      <td>B000HDOPYM</td>\n",
       "      <td>AR5J8UI46CURR</td>\n",
       "      <td>Geetha Krishnan</td>\n",
       "      <td>2</td>\n",
       "      <td>2</td>\n",
       "      <td>5</td>\n",
       "      <td>1199577600</td>\n",
       "      <td>LOACKER QUADRATINI VANILLA WAFERS</td>\n",
       "      <td>DELICIOUS WAFERS. I FIND THAT EUROPEAN WAFERS ...</td>\n",
       "    </tr>\n",
       "    <tr>\n",
       "      <th>3</th>\n",
       "      <td>73791</td>\n",
       "      <td>B000HDOPZG</td>\n",
       "      <td>AR5J8UI46CURR</td>\n",
       "      <td>Geetha Krishnan</td>\n",
       "      <td>2</td>\n",
       "      <td>2</td>\n",
       "      <td>5</td>\n",
       "      <td>1199577600</td>\n",
       "      <td>LOACKER QUADRATINI VANILLA WAFERS</td>\n",
       "      <td>DELICIOUS WAFERS. I FIND THAT EUROPEAN WAFERS ...</td>\n",
       "    </tr>\n",
       "    <tr>\n",
       "      <th>4</th>\n",
       "      <td>155049</td>\n",
       "      <td>B000PAQ75C</td>\n",
       "      <td>AR5J8UI46CURR</td>\n",
       "      <td>Geetha Krishnan</td>\n",
       "      <td>2</td>\n",
       "      <td>2</td>\n",
       "      <td>5</td>\n",
       "      <td>1199577600</td>\n",
       "      <td>LOACKER QUADRATINI VANILLA WAFERS</td>\n",
       "      <td>DELICIOUS WAFERS. I FIND THAT EUROPEAN WAFERS ...</td>\n",
       "    </tr>\n",
       "  </tbody>\n",
       "</table>\n",
       "</div>"
      ],
      "text/plain": [
       "       Id   ProductId         UserId      ProfileName  HelpfulnessNumerator  \\\n",
       "0   78445  B000HDL1RQ  AR5J8UI46CURR  Geetha Krishnan                     2   \n",
       "1  138317  B000HDOPYC  AR5J8UI46CURR  Geetha Krishnan                     2   \n",
       "2  138277  B000HDOPYM  AR5J8UI46CURR  Geetha Krishnan                     2   \n",
       "3   73791  B000HDOPZG  AR5J8UI46CURR  Geetha Krishnan                     2   \n",
       "4  155049  B000PAQ75C  AR5J8UI46CURR  Geetha Krishnan                     2   \n",
       "\n",
       "   HelpfulnessDenominator  Score        Time  \\\n",
       "0                       2      5  1199577600   \n",
       "1                       2      5  1199577600   \n",
       "2                       2      5  1199577600   \n",
       "3                       2      5  1199577600   \n",
       "4                       2      5  1199577600   \n",
       "\n",
       "                             Summary  \\\n",
       "0  LOACKER QUADRATINI VANILLA WAFERS   \n",
       "1  LOACKER QUADRATINI VANILLA WAFERS   \n",
       "2  LOACKER QUADRATINI VANILLA WAFERS   \n",
       "3  LOACKER QUADRATINI VANILLA WAFERS   \n",
       "4  LOACKER QUADRATINI VANILLA WAFERS   \n",
       "\n",
       "                                                Text  \n",
       "0  DELICIOUS WAFERS. I FIND THAT EUROPEAN WAFERS ...  \n",
       "1  DELICIOUS WAFERS. I FIND THAT EUROPEAN WAFERS ...  \n",
       "2  DELICIOUS WAFERS. I FIND THAT EUROPEAN WAFERS ...  \n",
       "3  DELICIOUS WAFERS. I FIND THAT EUROPEAN WAFERS ...  \n",
       "4  DELICIOUS WAFERS. I FIND THAT EUROPEAN WAFERS ...  "
      ]
     },
     "execution_count": 7,
     "metadata": {},
     "output_type": "execute_result"
    }
   ],
   "source": [
    "display= pd.read_sql_query(\"\"\"\n",
    "SELECT *\n",
    "FROM Reviews\n",
    "WHERE Score != 3 AND UserId=\"AR5J8UI46CURR\"\n",
    "ORDER BY ProductID\n",
    "\"\"\", con)\n",
    "display.head()"
   ]
  },
  {
   "cell_type": "markdown",
   "metadata": {},
   "source": [
    "As it can be seen above that same user has multiple reviews with same values for HelpfulnessNumerator, HelpfulnessDenominator, Score, Time, Summary and Text and on doing analysis it was found that <br>\n",
    "<br> \n",
    "ProductId=B000HDOPZG was Loacker Quadratini Vanilla Wafer Cookies, 8.82-Ounce Packages (Pack of 8)<br>\n",
    "<br> \n",
    "ProductId=B000HDL1RQ was Loacker Quadratini Lemon Wafer Cookies, 8.82-Ounce Packages (Pack of 8) and so on<br>\n",
    "\n",
    "It was inferred after analysis that reviews with same parameters other than ProductId belonged to the same product just having different flavour or quantity. Hence in order to reduce redundancy it was decided to eliminate the rows having same parameters.<br>\n",
    "\n",
    "The method used for the same was that we first sort the data according to ProductId and then just keep the first similar product review and delelte the others. for eg. in the above just the review for ProductId=B000HDL1RQ remains. This method ensures that there is only one representative for each product and deduplication without sorting would lead to possibility of different representatives still existing for the same product."
   ]
  },
  {
   "cell_type": "code",
   "execution_count": 8,
   "metadata": {},
   "outputs": [],
   "source": [
    "#Sorting data according to ProductId in ascending order\n",
    "sorted_data=filtered_data.sort_values('ProductId', axis=0, ascending=True, inplace=False, kind='quicksort', na_position='last')"
   ]
  },
  {
   "cell_type": "code",
   "execution_count": 9,
   "metadata": {},
   "outputs": [
    {
     "data": {
      "text/plain": [
       "(46072, 10)"
      ]
     },
     "execution_count": 9,
     "metadata": {},
     "output_type": "execute_result"
    }
   ],
   "source": [
    "#Deduplication of entries\n",
    "final=sorted_data.drop_duplicates(subset={\"UserId\",\"ProfileName\",\"Time\",\"Text\"}, keep='first', inplace=False)\n",
    "final.shape"
   ]
  },
  {
   "cell_type": "code",
   "execution_count": 10,
   "metadata": {},
   "outputs": [
    {
     "data": {
      "text/plain": [
       "92.144"
      ]
     },
     "execution_count": 10,
     "metadata": {},
     "output_type": "execute_result"
    }
   ],
   "source": [
    "#Checking to see how much % of data still remains\n",
    "(final['Id'].size*1.0)/(filtered_data['Id'].size*1.0)*100"
   ]
  },
  {
   "cell_type": "markdown",
   "metadata": {},
   "source": [
    "<b>Observation:-</b> It was also seen that in two rows given below the value of HelpfulnessNumerator is greater than HelpfulnessDenominator which is not practically possible hence these two rows too are removed from calcualtions"
   ]
  },
  {
   "cell_type": "code",
   "execution_count": 11,
   "metadata": {},
   "outputs": [
    {
     "data": {
      "text/html": [
       "<div>\n",
       "<style scoped>\n",
       "    .dataframe tbody tr th:only-of-type {\n",
       "        vertical-align: middle;\n",
       "    }\n",
       "\n",
       "    .dataframe tbody tr th {\n",
       "        vertical-align: top;\n",
       "    }\n",
       "\n",
       "    .dataframe thead th {\n",
       "        text-align: right;\n",
       "    }\n",
       "</style>\n",
       "<table border=\"1\" class=\"dataframe\">\n",
       "  <thead>\n",
       "    <tr style=\"text-align: right;\">\n",
       "      <th></th>\n",
       "      <th>Id</th>\n",
       "      <th>ProductId</th>\n",
       "      <th>UserId</th>\n",
       "      <th>ProfileName</th>\n",
       "      <th>HelpfulnessNumerator</th>\n",
       "      <th>HelpfulnessDenominator</th>\n",
       "      <th>Score</th>\n",
       "      <th>Time</th>\n",
       "      <th>Summary</th>\n",
       "      <th>Text</th>\n",
       "    </tr>\n",
       "  </thead>\n",
       "  <tbody>\n",
       "    <tr>\n",
       "      <th>0</th>\n",
       "      <td>64422</td>\n",
       "      <td>B000MIDROQ</td>\n",
       "      <td>A161DK06JJMCYF</td>\n",
       "      <td>J. E. Stephens \"Jeanne\"</td>\n",
       "      <td>3</td>\n",
       "      <td>1</td>\n",
       "      <td>5</td>\n",
       "      <td>1224892800</td>\n",
       "      <td>Bought This for My Son at College</td>\n",
       "      <td>My son loves spaghetti so I didn't hesitate or...</td>\n",
       "    </tr>\n",
       "    <tr>\n",
       "      <th>1</th>\n",
       "      <td>44737</td>\n",
       "      <td>B001EQ55RW</td>\n",
       "      <td>A2V0I904FH7ABY</td>\n",
       "      <td>Ram</td>\n",
       "      <td>3</td>\n",
       "      <td>2</td>\n",
       "      <td>4</td>\n",
       "      <td>1212883200</td>\n",
       "      <td>Pure cocoa taste with crunchy almonds inside</td>\n",
       "      <td>It was almost a 'love at first bite' - the per...</td>\n",
       "    </tr>\n",
       "  </tbody>\n",
       "</table>\n",
       "</div>"
      ],
      "text/plain": [
       "      Id   ProductId          UserId              ProfileName  \\\n",
       "0  64422  B000MIDROQ  A161DK06JJMCYF  J. E. Stephens \"Jeanne\"   \n",
       "1  44737  B001EQ55RW  A2V0I904FH7ABY                      Ram   \n",
       "\n",
       "   HelpfulnessNumerator  HelpfulnessDenominator  Score        Time  \\\n",
       "0                     3                       1      5  1224892800   \n",
       "1                     3                       2      4  1212883200   \n",
       "\n",
       "                                        Summary  \\\n",
       "0             Bought This for My Son at College   \n",
       "1  Pure cocoa taste with crunchy almonds inside   \n",
       "\n",
       "                                                Text  \n",
       "0  My son loves spaghetti so I didn't hesitate or...  \n",
       "1  It was almost a 'love at first bite' - the per...  "
      ]
     },
     "execution_count": 11,
     "metadata": {},
     "output_type": "execute_result"
    }
   ],
   "source": [
    "display= pd.read_sql_query(\"\"\"\n",
    "SELECT *\n",
    "FROM Reviews\n",
    "WHERE Score != 3 AND Id=44737 OR Id=64422\n",
    "ORDER BY ProductID\n",
    "\"\"\", con)\n",
    "\n",
    "display.head()"
   ]
  },
  {
   "cell_type": "code",
   "execution_count": 12,
   "metadata": {},
   "outputs": [],
   "source": [
    "final=final[final.HelpfulnessNumerator<=final.HelpfulnessDenominator]"
   ]
  },
  {
   "cell_type": "code",
   "execution_count": 13,
   "metadata": {},
   "outputs": [
    {
     "name": "stdout",
     "output_type": "stream",
     "text": [
      "(46071, 10)\n"
     ]
    },
    {
     "data": {
      "text/plain": [
       "1    38479\n",
       "0     7592\n",
       "Name: Score, dtype: int64"
      ]
     },
     "execution_count": 13,
     "metadata": {},
     "output_type": "execute_result"
    }
   ],
   "source": [
    "#Before starting the next phase of preprocessing lets see the number of entries left\n",
    "print(final.shape)\n",
    "\n",
    "#How many positive and negative reviews are present in our dataset?\n",
    "final['Score'].value_counts()"
   ]
  },
  {
   "cell_type": "markdown",
   "metadata": {},
   "source": [
    "#  [3] Preprocessing"
   ]
  },
  {
   "cell_type": "markdown",
   "metadata": {},
   "source": [
    "## [3.1].  Preprocessing Review Text\n",
    "\n",
    "Now that we have finished deduplication our data requires some preprocessing before we go on further with analysis and making the prediction model.\n",
    "\n",
    "Hence in the Preprocessing phase we do the following in the order below:-\n",
    "\n",
    "1. Begin by removing the html tags\n",
    "2. Remove any punctuations or limited set of special characters like , or . or # etc.\n",
    "3. Check if the word is made up of english letters and is not alpha-numeric\n",
    "4. Check to see if the length of the word is greater than 2 (as it was researched that there is no adjective in 2-letters)\n",
    "5. Convert the word to lowercase\n",
    "6. Remove Stopwords\n",
    "7. Finally Snowball Stemming the word (it was obsereved to be better than Porter Stemming)<br>\n",
    "\n",
    "After which we collect the words used to describe positive and negative reviews"
   ]
  },
  {
   "cell_type": "code",
   "execution_count": 14,
   "metadata": {},
   "outputs": [
    {
     "name": "stdout",
     "output_type": "stream",
     "text": [
      "My dogs loves this chicken but its a product from China, so we wont be buying it anymore.  Its very hard to find any chicken products made in the USA but they are out there, but this one isnt.  Its too bad too because its a good product but I wont take any chances till they know what is going on with the china imports.\n",
      "==================================================\n",
      "this is yummy, easy and unusual. it makes a quick, delicous pie, crisp or cobbler. home made is better, but a heck of a lot more work. this is great to have on hand for last minute dessert needs where you really want to impress wih your creativity in cooking! recommended.\n",
      "==================================================\n",
      "Great flavor, low in calories, high in nutrients, high in protein! Usually protein powders are high priced and high in calories, this one is a great bargain and tastes great, I highly recommend for the lady gym rats, probably not \"macho\" enough for guys since it is soy based...\n",
      "==================================================\n",
      "For those of you wanting a high-quality, yet affordable green tea, you should definitely give this one a try. Let me first start by saying that everyone is looking for something different for their ideal tea, and I will attempt to briefly highlight what makes this tea attractive to a wide range of tea drinkers (whether you are a beginner or long-time tea enthusiast).  I have gone through over 12 boxes of this tea myself, and highly recommend it for the following reasons:<br /><br />-Quality:  First, this tea offers a smooth quality without any harsh or bitter after tones, which often turns people off from many green teas.  I've found my ideal brewing time to be between 3-5 minutes, giving you a light but flavorful cup of tea.  However, if you get distracted or forget about your tea and leave it brewing for 20+ minutes like I sometimes do, the quality of this tea is such that you still get a smooth but deeper flavor without the bad after taste.  The leaves themselves are whole leaves (not powdered stems, branches, etc commonly found in other brands), and the high-quality nylon bags also include chunks of tropical fruit and other discernible ingredients.  This isn't your standard cheap paper bag with a mix of unknown ingredients that have been ground down to a fine powder, leaving you to wonder what it is you are actually drinking.<br /><br />-Taste:  This tea offers notes of real pineapple and other hints of tropical fruits, yet isn't sweet or artificially flavored.  You have the foundation of a high-quality young hyson green tea for those true \"tea flavor\" lovers, yet the subtle hints of fruit make this a truly unique tea that I believe most will enjoy.  If you want it sweet, you can add sugar, splenda, etc but this really is not necessary as this tea offers an inherent warmth of flavor through it's ingredients.<br /><br />-Price:  This tea offers an excellent product at an exceptional price (especially when purchased at the prices Amazon offers).  Compared to other brands which I believe to be of similar quality (Mighty Leaf, Rishi, Two Leaves, etc.), Revolution offers a superior product at an outstanding price.  I have been purchasing this through Amazon for less per box than I would be paying at my local grocery store for Lipton, etc.<br /><br />Overall, this is a wonderful tea that is comparable, and even better than, other teas that are priced much higher.  It offers a well-balanced cup of green tea that I believe many will enjoy.  In terms of taste, quality, and price, I would argue you won't find a better combination that that offered by Revolution's Tropical Green Tea.\n",
      "==================================================\n"
     ]
    }
   ],
   "source": [
    "# printing some random reviews\n",
    "sent_0 = final['Text'].values[0]\n",
    "print(sent_0)\n",
    "print(\"=\"*50)\n",
    "\n",
    "sent_1000 = final['Text'].values[1000]\n",
    "print(sent_1000)\n",
    "print(\"=\"*50)\n",
    "\n",
    "sent_1500 = final['Text'].values[1500]\n",
    "print(sent_1500)\n",
    "print(\"=\"*50)\n",
    "\n",
    "sent_4900 = final['Text'].values[4900]\n",
    "print(sent_4900)\n",
    "print(\"=\"*50)"
   ]
  },
  {
   "cell_type": "code",
   "execution_count": 15,
   "metadata": {},
   "outputs": [
    {
     "name": "stdout",
     "output_type": "stream",
     "text": [
      "My dogs loves this chicken but its a product from China, so we wont be buying it anymore.  Its very hard to find any chicken products made in the USA but they are out there, but this one isnt.  Its too bad too because its a good product but I wont take any chances till they know what is going on with the china imports.\n"
     ]
    }
   ],
   "source": [
    "# remove urls from text python: https://stackoverflow.com/a/40823105/4084039\n",
    "sent_0 = re.sub(r\"http\\S+\", \"\", sent_0)\n",
    "sent_1000 = re.sub(r\"http\\S+\", \"\", sent_1000)\n",
    "sent_150 = re.sub(r\"http\\S+\", \"\", sent_1500)\n",
    "sent_4900 = re.sub(r\"http\\S+\", \"\", sent_4900)\n",
    "\n",
    "print(sent_0)"
   ]
  },
  {
   "cell_type": "code",
   "execution_count": 16,
   "metadata": {},
   "outputs": [
    {
     "name": "stdout",
     "output_type": "stream",
     "text": [
      "My dogs loves this chicken but its a product from China, so we wont be buying it anymore.  Its very hard to find any chicken products made in the USA but they are out there, but this one isnt.  Its too bad too because its a good product but I wont take any chances till they know what is going on with the china imports.\n",
      "==================================================\n",
      "this is yummy, easy and unusual. it makes a quick, delicous pie, crisp or cobbler. home made is better, but a heck of a lot more work. this is great to have on hand for last minute dessert needs where you really want to impress wih your creativity in cooking! recommended.\n",
      "==================================================\n",
      "Great flavor, low in calories, high in nutrients, high in protein! Usually protein powders are high priced and high in calories, this one is a great bargain and tastes great, I highly recommend for the lady gym rats, probably not \"macho\" enough for guys since it is soy based...\n",
      "==================================================\n",
      "For those of you wanting a high-quality, yet affordable green tea, you should definitely give this one a try. Let me first start by saying that everyone is looking for something different for their ideal tea, and I will attempt to briefly highlight what makes this tea attractive to a wide range of tea drinkers (whether you are a beginner or long-time tea enthusiast).  I have gone through over 12 boxes of this tea myself, and highly recommend it for the following reasons:-Quality:  First, this tea offers a smooth quality without any harsh or bitter after tones, which often turns people off from many green teas.  I've found my ideal brewing time to be between 3-5 minutes, giving you a light but flavorful cup of tea.  However, if you get distracted or forget about your tea and leave it brewing for 20+ minutes like I sometimes do, the quality of this tea is such that you still get a smooth but deeper flavor without the bad after taste.  The leaves themselves are whole leaves (not powdered stems, branches, etc commonly found in other brands), and the high-quality nylon bags also include chunks of tropical fruit and other discernible ingredients.  This isn't your standard cheap paper bag with a mix of unknown ingredients that have been ground down to a fine powder, leaving you to wonder what it is you are actually drinking.-Taste:  This tea offers notes of real pineapple and other hints of tropical fruits, yet isn't sweet or artificially flavored.  You have the foundation of a high-quality young hyson green tea for those true \"tea flavor\" lovers, yet the subtle hints of fruit make this a truly unique tea that I believe most will enjoy.  If you want it sweet, you can add sugar, splenda, etc but this really is not necessary as this tea offers an inherent warmth of flavor through it's ingredients.-Price:  This tea offers an excellent product at an exceptional price (especially when purchased at the prices Amazon offers).  Compared to other brands which I believe to be of similar quality (Mighty Leaf, Rishi, Two Leaves, etc.), Revolution offers a superior product at an outstanding price.  I have been purchasing this through Amazon for less per box than I would be paying at my local grocery store for Lipton, etc.Overall, this is a wonderful tea that is comparable, and even better than, other teas that are priced much higher.  It offers a well-balanced cup of green tea that I believe many will enjoy.  In terms of taste, quality, and price, I would argue you won't find a better combination that that offered by Revolution's Tropical Green Tea.\n"
     ]
    }
   ],
   "source": [
    "# https://stackoverflow.com/questions/16206380/python-beautifulsoup-how-to-remove-all-tags-from-an-element\n",
    "from bs4 import BeautifulSoup\n",
    "\n",
    "soup = BeautifulSoup(sent_0, 'lxml')\n",
    "text = soup.get_text()\n",
    "print(text)\n",
    "print(\"=\"*50)\n",
    "\n",
    "soup = BeautifulSoup(sent_1000, 'lxml')\n",
    "text = soup.get_text()\n",
    "print(text)\n",
    "print(\"=\"*50)\n",
    "\n",
    "soup = BeautifulSoup(sent_1500, 'lxml')\n",
    "text = soup.get_text()\n",
    "print(text)\n",
    "print(\"=\"*50)\n",
    "\n",
    "soup = BeautifulSoup(sent_4900, 'lxml')\n",
    "text = soup.get_text()\n",
    "print(text)"
   ]
  },
  {
   "cell_type": "code",
   "execution_count": 17,
   "metadata": {},
   "outputs": [],
   "source": [
    "# https://stackoverflow.com/a/47091490/4084039\n",
    "import re\n",
    "\n",
    "def decontracted(phrase):\n",
    "    # specific\n",
    "    phrase = re.sub(r\"won't\", \"will not\", phrase)\n",
    "    phrase = re.sub(r\"can\\'t\", \"can not\", phrase)\n",
    "\n",
    "    # general\n",
    "    phrase = re.sub(r\"n\\'t\", \" not\", phrase)\n",
    "    phrase = re.sub(r\"\\'re\", \" are\", phrase)\n",
    "    phrase = re.sub(r\"\\'s\", \" is\", phrase)\n",
    "    phrase = re.sub(r\"\\'d\", \" would\", phrase)\n",
    "    phrase = re.sub(r\"\\'ll\", \" will\", phrase)\n",
    "    phrase = re.sub(r\"\\'t\", \" not\", phrase)\n",
    "    phrase = re.sub(r\"\\'ve\", \" have\", phrase)\n",
    "    phrase = re.sub(r\"\\'m\", \" am\", phrase)\n",
    "    return phrase"
   ]
  },
  {
   "cell_type": "code",
   "execution_count": 18,
   "metadata": {},
   "outputs": [
    {
     "name": "stdout",
     "output_type": "stream",
     "text": [
      "Great flavor, low in calories, high in nutrients, high in protein! Usually protein powders are high priced and high in calories, this one is a great bargain and tastes great, I highly recommend for the lady gym rats, probably not \"macho\" enough for guys since it is soy based...\n",
      "==================================================\n"
     ]
    }
   ],
   "source": [
    "sent_1500 = decontracted(sent_1500)\n",
    "print(sent_1500)\n",
    "print(\"=\"*50)"
   ]
  },
  {
   "cell_type": "code",
   "execution_count": 19,
   "metadata": {},
   "outputs": [
    {
     "name": "stdout",
     "output_type": "stream",
     "text": [
      "My dogs loves this chicken but its a product from China, so we wont be buying it anymore.  Its very hard to find any chicken products made in the USA but they are out there, but this one isnt.  Its too bad too because its a good product but I wont take any chances till they know what is going on with the china imports.\n"
     ]
    }
   ],
   "source": [
    "#remove words with numbers python: https://stackoverflow.com/a/18082370/4084039\n",
    "sent_0 = re.sub(\"\\S*\\d\\S*\", \"\", sent_0).strip()\n",
    "print(sent_0)"
   ]
  },
  {
   "cell_type": "code",
   "execution_count": 20,
   "metadata": {},
   "outputs": [
    {
     "name": "stdout",
     "output_type": "stream",
     "text": [
      "Great flavor low in calories high in nutrients high in protein Usually protein powders are high priced and high in calories this one is a great bargain and tastes great I highly recommend for the lady gym rats probably not macho enough for guys since it is soy based \n"
     ]
    }
   ],
   "source": [
    "#remove spacial character: https://stackoverflow.com/a/5843547/4084039\n",
    "sent_1500 = re.sub('[^A-Za-z0-9]+', ' ', sent_1500)\n",
    "print(sent_1500)"
   ]
  },
  {
   "cell_type": "code",
   "execution_count": 21,
   "metadata": {},
   "outputs": [],
   "source": [
    "# https://gist.github.com/sebleier/554280\n",
    "# we are removing the words from the stop words list: 'no', 'nor', 'not'\n",
    "# <br /><br /> ==> after the above steps, we are getting \"br br\"\n",
    "# we are including them into stop words list\n",
    "# instead of <br /> if we have <br/> these tags would have revmoved in the 1st step\n",
    "\n",
    "stopwords= set(['br', 'the', 'i', 'me', 'my', 'myself', 'we', 'our', 'ours', 'ourselves', 'you', \"you're\", \"you've\",\\\n",
    "            \"you'll\", \"you'd\", 'your', 'yours', 'yourself', 'yourselves', 'he', 'him', 'his', 'himself', \\\n",
    "            'she', \"she's\", 'her', 'hers', 'herself', 'it', \"it's\", 'its', 'itself', 'they', 'them', 'their',\\\n",
    "            'theirs', 'themselves', 'what', 'which', 'who', 'whom', 'this', 'that', \"that'll\", 'these', 'those', \\\n",
    "            'am', 'is', 'are', 'was', 'were', 'be', 'been', 'being', 'have', 'has', 'had', 'having', 'do', 'does', \\\n",
    "            'did', 'doing', 'a', 'an', 'the', 'and', 'but', 'if', 'or', 'because', 'as', 'until', 'while', 'of', \\\n",
    "            'at', 'by', 'for', 'with', 'about', 'against', 'between', 'into', 'through', 'during', 'before', 'after',\\\n",
    "            'above', 'below', 'to', 'from', 'up', 'down', 'in', 'out', 'on', 'off', 'over', 'under', 'again', 'further',\\\n",
    "            'then', 'once', 'here', 'there', 'when', 'where', 'why', 'how', 'all', 'any', 'both', 'each', 'few', 'more',\\\n",
    "            'most', 'other', 'some', 'such', 'only', 'own', 'same', 'so', 'than', 'too', 'very', \\\n",
    "            's', 't', 'can', 'will', 'just', 'don', \"don't\", 'should', \"should've\", 'now', 'd', 'll', 'm', 'o', 're', \\\n",
    "            've', 'y', 'ain', 'aren', \"aren't\", 'couldn', \"couldn't\", 'didn', \"didn't\", 'doesn', \"doesn't\", 'hadn',\\\n",
    "            \"hadn't\", 'hasn', \"hasn't\", 'haven', \"haven't\", 'isn', \"isn't\", 'ma', 'mightn', \"mightn't\", 'mustn',\\\n",
    "            \"mustn't\", 'needn', \"needn't\", 'shan', \"shan't\", 'shouldn', \"shouldn't\", 'wasn', \"wasn't\", 'weren', \"weren't\", \\\n",
    "            'won', \"won't\", 'wouldn', \"wouldn't\"])"
   ]
  },
  {
   "cell_type": "code",
   "execution_count": 22,
   "metadata": {},
   "outputs": [
    {
     "name": "stderr",
     "output_type": "stream",
     "text": [
      "100%|██████████████████████████████████| 46071/46071 [00:24<00:00, 1918.67it/s]\n"
     ]
    }
   ],
   "source": [
    "# Combining all the above stundents \n",
    "from tqdm import tqdm\n",
    "preprocessed_reviews = []\n",
    "# tqdm is for printing the status bar\n",
    "for sentance in tqdm(final['Text'].values):\n",
    "    sentance = re.sub(r\"http\\S+\", \"\", sentance)\n",
    "    sentance = BeautifulSoup(sentance, 'lxml').get_text()\n",
    "    sentance = decontracted(sentance)\n",
    "    sentance = re.sub(\"\\S*\\d\\S*\", \"\", sentance).strip()\n",
    "    sentance = re.sub('[^A-Za-z]+', ' ', sentance)\n",
    "    # https://gist.github.com/sebleier/554280\n",
    "    sentance = ' '.join(e.lower() for e in sentance.split() if e.lower() not in stopwords)\n",
    "    preprocessed_reviews.append(sentance.strip())"
   ]
  },
  {
   "cell_type": "markdown",
   "metadata": {},
   "source": [
    "# Splitting into train and test"
   ]
  },
  {
   "cell_type": "code",
   "execution_count": 29,
   "metadata": {},
   "outputs": [],
   "source": [
    "from sklearn.model_selection import train_test_split\n",
    "Score=final.Score\n",
    "preprocessed_reviews=np.array(preprocessed_reviews)\n",
    "X_train, X_test, y_train, y_test = train_test_split(preprocessed_reviews, Score, test_size=0.30,random_state=0)"
   ]
  },
  {
   "cell_type": "code",
   "execution_count": 30,
   "metadata": {},
   "outputs": [
    {
     "name": "stdout",
     "output_type": "stream",
     "text": [
      "(32249,) (32249,)\n",
      "(13822,) (13822,)\n"
     ]
    }
   ],
   "source": [
    "print(X_train.shape, y_train.shape)\n",
    "print(X_test.shape, y_test.shape)"
   ]
  },
  {
   "cell_type": "code",
   "execution_count": 31,
   "metadata": {},
   "outputs": [],
   "source": [
    "tokenizer = Tokenizer(num_words=5000)\n",
    "tokenizer.fit_on_texts(X_train)\n",
    "X_train = tokenizer.texts_to_sequences(X_train)"
   ]
  },
  {
   "cell_type": "code",
   "execution_count": 39,
   "metadata": {},
   "outputs": [],
   "source": [
    "X_test = tokenizer.texts_to_sequences(X_test)"
   ]
  },
  {
   "cell_type": "code",
   "execution_count": 32,
   "metadata": {},
   "outputs": [
    {
     "name": "stdout",
     "output_type": "stream",
     "text": [
      "[3, 1, 2450, 423, 732, 62, 432, 613, 455, 164, 2, 11, 289, 39, 259, 1415, 239, 259, 6, 148, 130, 476, 14, 1627, 7, 56]\n",
      "<class 'list'>\n",
      "26\n"
     ]
    }
   ],
   "source": [
    "print(X_train[45])\n",
    "print(type(X_train[45]))\n",
    "print(len(X_train[45]))"
   ]
  },
  {
   "cell_type": "code",
   "execution_count": 41,
   "metadata": {},
   "outputs": [
    {
     "name": "stdout",
     "output_type": "stream",
     "text": [
      "(32249, 500)\n",
      "[   0    0    0    0    0    0    0    0    0    0    0    0    0    0\n",
      "    0    0    0    0    0    0    0    0    0    0    0    0    0    0\n",
      "    0    0    0    0    0    0    0    0    0    0    0    0    0    0\n",
      "    0    0    0    0    0    0    0    0    0    0    0    0    0    0\n",
      "    0    0    0    0    0    0    0    0    0    0    0    0    0    0\n",
      "    0    0    0    0    0    0    0    0    0    0    0    0    0    0\n",
      "    0    0    0    0    0    0    0    0    0    0    0    0    0    0\n",
      "    0    0    0    0    0    0    0    0    0    0    0    0    0    0\n",
      "    0    0    0    0    0    0    0    0    0    0    0    0    0    0\n",
      "    0    0    0    0    0    0    0    0    0    0    0    0    0    0\n",
      "    0    0    0    0    0    0    0    0    0    0    0    0    0    0\n",
      "    0    0    0    0    0    0    0    0    0    0    0    0    0    0\n",
      "    0    0    0    0    0    0    0    0    0    0    0    0    0    0\n",
      "    0    0    0    0    0    0    0    0    0    0    0    0    0    0\n",
      "    0    0    0    0    0    0    0    0    0    0    0    0    0    0\n",
      "    0    0    0    0    0    0    0    0    0    0    0    0    0    0\n",
      "    0    0    0    0    0    0    0    0    0    0    0    0    0    0\n",
      "    0    0    0    0    0    0    0    0    0    0    0    0    0    0\n",
      "    0    0    0    0    0    0    0    0    0    0    0    0    0    0\n",
      "    0    0    0    0    0    0    0    0    0    0    0    0    0    0\n",
      "    0    0    0    0    0    0    0    0    0    0    0    0    0    0\n",
      "    0    0    0    0    0    0    0    0    0    0    0    0    0    0\n",
      "    0    0    0    0    0    0    0    0    0    0    0    0    0    0\n",
      "    0    0    0    0    0    0    0    0    0    0    0    0    0    0\n",
      "    0    0    0    0    0    0    0    0    0    0    0    0    0    0\n",
      "    0    0    0    0    0    0    0    0    0    0    0    0    0    0\n",
      "    0    0    0    0    0    0    0    0    0    0    0    0    0    0\n",
      "    0    0    0    0    0    0    0    0    0    0    0    0    0    0\n",
      "    0    0    0    0    0    0    0    0    0    0    0    0    0    0\n",
      "    0    0    0    0    0    0    0    0    0    0    0    0    0    0\n",
      "    0    0    0    0    0    0    0    0    0    0    0    0    0    0\n",
      "    0    0    0    0    0    0    0    0    0    0    0    0    0    0\n",
      "    0    0    0    0    0    0    0    0    0    0    0    0    0    0\n",
      "    0    0    0    0    0    0    0    0    0    0    0    0    3    1\n",
      " 2450  423  732   62  432  613  455  164    2   11  289   39  259 1415\n",
      "  239  259    6  148  130  476   14 1627    7   56]\n"
     ]
    }
   ],
   "source": [
    "max_review_length = 500\n",
    "X_train = sequence.pad_sequences(X_train, maxlen=max_review_length)\n",
    "X_test = sequence.pad_sequences(X_test, maxlen=max_review_length)\n",
    "print(X_train.shape)\n",
    "print(X_train[45])"
   ]
  },
  {
   "cell_type": "markdown",
   "metadata": {},
   "source": [
    "# Model 1"
   ]
  },
  {
   "cell_type": "code",
   "execution_count": 42,
   "metadata": {},
   "outputs": [
    {
     "name": "stdout",
     "output_type": "stream",
     "text": [
      "_________________________________________________________________\n",
      "Layer (type)                 Output Shape              Param #   \n",
      "=================================================================\n",
      "embedding_2 (Embedding)      (None, 500, 32)           160000    \n",
      "_________________________________________________________________\n",
      "lstm_2 (LSTM)                (None, 100)               53200     \n",
      "_________________________________________________________________\n",
      "dropout_2 (Dropout)          (None, 100)               0         \n",
      "_________________________________________________________________\n",
      "dense_2 (Dense)              (None, 1)                 101       \n",
      "=================================================================\n",
      "Total params: 213,301\n",
      "Trainable params: 213,301\n",
      "Non-trainable params: 0\n",
      "_________________________________________________________________\n",
      "None\n"
     ]
    }
   ],
   "source": [
    "embedding_vecor_length = 32\n",
    "model = Sequential()\n",
    "model.add(Embedding(5000, embedding_vecor_length, input_length=max_review_length))\n",
    "model.add(LSTM(100))\n",
    "model.add(Dropout(0.2))\n",
    "model.add(Dense(1, activation='sigmoid'))\n",
    "model.compile(loss='binary_crossentropy', optimizer='adam', metrics=['accuracy'])\n",
    "print(model.summary())"
   ]
  },
  {
   "cell_type": "code",
   "execution_count": 44,
   "metadata": {},
   "outputs": [
    {
     "name": "stdout",
     "output_type": "stream",
     "text": [
      "Epoch 1/5\n"
     ]
    },
    {
     "name": "stdout",
     "output_type": "stream",
     "text": [
      "13056/32249 [===========>..................] - ETA: 4:56 - loss: 0.4928 - acc: 0.796 - ETA: 5:03 - loss: 0.4919 - acc: 0.796 - ETA: 5:06 - loss: 0.4597 - acc: 0.817 - ETA: 5:05 - loss: 0.4557 - acc: 0.820 - ETA: 5:04 - loss: 0.4450 - acc: 0.828 - ETA: 4:58 - loss: 0.4535 - acc: 0.820 - ETA: 4:55 - loss: 0.4554 - acc: 0.819 - ETA: 4:53 - loss: 0.4667 - acc: 0.810 - ETA: 4:50 - loss: 0.4752 - acc: 0.803 - ETA: 4:48 - loss: 0.4636 - acc: 0.812 - ETA: 4:46 - loss: 0.4676 - acc: 0.809 - ETA: 4:44 - loss: 0.4642 - acc: 0.809 - ETA: 4:43 - loss: 0.4682 - acc: 0.806 - ETA: 4:41 - loss: 0.4623 - acc: 0.810 - ETA: 4:40 - loss: 0.4590 - acc: 0.811 - ETA: 4:38 - loss: 0.4585 - acc: 0.811 - ETA: 4:35 - loss: 0.4575 - acc: 0.810 - ETA: 4:32 - loss: 0.4555 - acc: 0.810 - ETA: 4:32 - loss: 0.4481 - acc: 0.815 - ETA: 4:31 - loss: 0.4450 - acc: 0.817 - ETA: 4:31 - loss: 0.4406 - acc: 0.819 - ETA: 4:30 - loss: 0.4417 - acc: 0.818 - ETA: 4:29 - loss: 0.4388 - acc: 0.819 - ETA: 4:29 - loss: 0.4411 - acc: 0.817 - ETA: 4:28 - loss: 0.4394 - acc: 0.818 - ETA: 4:28 - loss: 0.4370 - acc: 0.819 - ETA: 4:27 - loss: 0.4360 - acc: 0.819 - ETA: 4:27 - loss: 0.4348 - acc: 0.819 - ETA: 4:26 - loss: 0.4338 - acc: 0.819 - ETA: 4:26 - loss: 0.4309 - acc: 0.819 - ETA: 4:27 - loss: 0.4296 - acc: 0.821 - ETA: 4:27 - loss: 0.4282 - acc: 0.820 - ETA: 4:27 - loss: 0.4288 - acc: 0.820 - ETA: 4:27 - loss: 0.4294 - acc: 0.818 - ETA: 4:26 - loss: 0.4287 - acc: 0.819 - ETA: 4:25 - loss: 0.4248 - acc: 0.822 - ETA: 4:25 - loss: 0.4215 - acc: 0.823 - ETA: 4:24 - loss: 0.4176 - acc: 0.825 - ETA: 4:24 - loss: 0.4158 - acc: 0.825 - ETA: 4:23 - loss: 0.4174 - acc: 0.824 - ETA: 4:22 - loss: 0.4184 - acc: 0.822 - ETA: 4:22 - loss: 0.4168 - acc: 0.822 - ETA: 4:21 - loss: 0.4163 - acc: 0.822 - ETA: 4:21 - loss: 0.4147 - acc: 0.823 - ETA: 4:20 - loss: 0.4136 - acc: 0.824 - ETA: 4:20 - loss: 0.4116 - acc: 0.826 - ETA: 4:19 - loss: 0.4094 - acc: 0.827 - ETA: 4:18 - loss: 0.4087 - acc: 0.828 - ETA: 4:18 - loss: 0.4077 - acc: 0.829 - ETA: 4:17 - loss: 0.4058 - acc: 0.830 - ETA: 4:17 - loss: 0.4016 - acc: 0.831 - ETA: 4:17 - loss: 0.3989 - acc: 0.832 - ETA: 4:17 - loss: 0.3993 - acc: 0.832 - ETA: 4:16 - loss: 0.3977 - acc: 0.832 - ETA: 4:16 - loss: 0.3950 - acc: 0.834 - ETA: 4:15 - loss: 0.3929 - acc: 0.835 - ETA: 4:15 - loss: 0.3894 - acc: 0.836 - ETA: 4:15 - loss: 0.3888 - acc: 0.836 - ETA: 4:14 - loss: 0.3903 - acc: 0.835 - ETA: 4:13 - loss: 0.3895 - acc: 0.836 - ETA: 4:13 - loss: 0.3882 - acc: 0.836 - ETA: 4:13 - loss: 0.3869 - acc: 0.837 - ETA: 4:12 - loss: 0.3870 - acc: 0.837 - ETA: 4:11 - loss: 0.3868 - acc: 0.837 - ETA: 4:11 - loss: 0.3848 - acc: 0.837 - ETA: 4:10 - loss: 0.3847 - acc: 0.837 - ETA: 4:09 - loss: 0.3835 - acc: 0.838 - ETA: 4:09 - loss: 0.3813 - acc: 0.839 - ETA: 4:08 - loss: 0.3799 - acc: 0.840 - ETA: 4:08 - loss: 0.3800 - acc: 0.840 - ETA: 4:07 - loss: 0.3771 - acc: 0.841 - ETA: 4:06 - loss: 0.3765 - acc: 0.842 - ETA: 4:06 - loss: 0.3763 - acc: 0.841 - ETA: 4:05 - loss: 0.3739 - acc: 0.842 - ETA: 4:05 - loss: 0.3717 - acc: 0.843 - ETA: 4:04 - loss: 0.3701 - acc: 0.844 - ETA: 4:04 - loss: 0.3683 - acc: 0.845 - ETA: 4:03 - loss: 0.3674 - acc: 0.845 - ETA: 4:02 - loss: 0.3656 - acc: 0.846 - ETA: 4:02 - loss: 0.3643 - acc: 0.847 - ETA: 4:01 - loss: 0.3638 - acc: 0.847 - ETA: 4:01 - loss: 0.3628 - acc: 0.847 - ETA: 4:00 - loss: 0.3620 - acc: 0.847 - ETA: 3:59 - loss: 0.3615 - acc: 0.847 - ETA: 3:59 - loss: 0.3595 - acc: 0.848 - ETA: 3:58 - loss: 0.3587 - acc: 0.849 - ETA: 3:58 - loss: 0.3570 - acc: 0.850 - ETA: 3:58 - loss: 0.3556 - acc: 0.850 - ETA: 3:57 - loss: 0.3563 - acc: 0.850 - ETA: 3:57 - loss: 0.3564 - acc: 0.850 - ETA: 3:56 - loss: 0.3549 - acc: 0.851 - ETA: 3:55 - loss: 0.3556 - acc: 0.850 - ETA: 3:55 - loss: 0.3550 - acc: 0.851 - ETA: 3:54 - loss: 0.3540 - acc: 0.851 - ETA: 3:54 - loss: 0.3529 - acc: 0.852 - ETA: 3:53 - loss: 0.3518 - acc: 0.852 - ETA: 3:52 - loss: 0.3512 - acc: 0.852 - ETA: 3:52 - loss: 0.3510 - acc: 0.853 - ETA: 3:51 - loss: 0.3507 - acc: 0.853 - ETA: 3:50 - loss: 0.3506 - acc: 0.852 - ETA: 3:49 - loss: 0.3489 - acc: 0.853 - ETA: 3:49 - loss: 0.3483 - acc: 0.853 - ETA: 3:48 - loss: 0.3473 - acc: 0.854 - ETA: 3:47 - loss: 0.3473 - acc: 0.854 - ETA: 3:47 - loss: 0.3470 - acc: 0.854 - ETA: 3:46 - loss: 0.3468 - acc: 0.854 - ETA: 3:46 - loss: 0.3455 - acc: 0.854 - ETA: 3:45 - loss: 0.3449 - acc: 0.855 - ETA: 3:45 - loss: 0.3446 - acc: 0.855 - ETA: 3:44 - loss: 0.3441 - acc: 0.855 - ETA: 3:43 - loss: 0.3446 - acc: 0.855 - ETA: 3:43 - loss: 0.3437 - acc: 0.855 - ETA: 3:42 - loss: 0.3437 - acc: 0.855 - ETA: 3:42 - loss: 0.3437 - acc: 0.855 - ETA: 3:42 - loss: 0.3432 - acc: 0.856 - ETA: 3:41 - loss: 0.3427 - acc: 0.856 - ETA: 3:41 - loss: 0.3413 - acc: 0.857 - ETA: 3:40 - loss: 0.3406 - acc: 0.857 - ETA: 3:40 - loss: 0.3397 - acc: 0.858 - ETA: 3:39 - loss: 0.3392 - acc: 0.858 - ETA: 3:39 - loss: 0.3380 - acc: 0.858 - ETA: 3:38 - loss: 0.3372 - acc: 0.859 - ETA: 3:38 - loss: 0.3365 - acc: 0.859 - ETA: 3:37 - loss: 0.3351 - acc: 0.859 - ETA: 3:37 - loss: 0.3345 - acc: 0.860 - ETA: 3:36 - loss: 0.3343 - acc: 0.860 - ETA: 3:36 - loss: 0.3342 - acc: 0.860 - ETA: 3:35 - loss: 0.3331 - acc: 0.861 - ETA: 3:35 - loss: 0.3327 - acc: 0.861 - ETA: 3:34 - loss: 0.3319 - acc: 0.861 - ETA: 3:34 - loss: 0.3309 - acc: 0.862 - ETA: 3:33 - loss: 0.3303 - acc: 0.862 - ETA: 3:33 - loss: 0.3302 - acc: 0.862 - ETA: 3:32 - loss: 0.3294 - acc: 0.862 - ETA: 3:32 - loss: 0.3283 - acc: 0.863 - ETA: 3:31 - loss: 0.3286 - acc: 0.863 - ETA: 3:30 - loss: 0.3276 - acc: 0.863 - ETA: 3:30 - loss: 0.3263 - acc: 0.864 - ETA: 3:29 - loss: 0.3254 - acc: 0.864 - ETA: 3:29 - loss: 0.3251 - acc: 0.864 - ETA: 3:28 - loss: 0.3250 - acc: 0.864 - ETA: 3:28 - loss: 0.3238 - acc: 0.865 - ETA: 3:27 - loss: 0.3230 - acc: 0.865 - ETA: 3:26 - loss: 0.3230 - acc: 0.865 - ETA: 3:26 - loss: 0.3222 - acc: 0.865 - ETA: 3:25 - loss: 0.3208 - acc: 0.866 - ETA: 3:25 - loss: 0.3200 - acc: 0.866 - ETA: 3:24 - loss: 0.3190 - acc: 0.867 - ETA: 3:24 - loss: 0.3183 - acc: 0.867 - ETA: 3:23 - loss: 0.3189 - acc: 0.867 - ETA: 3:22 - loss: 0.3189 - acc: 0.867 - ETA: 3:22 - loss: 0.3184 - acc: 0.867 - ETA: 3:21 - loss: 0.3179 - acc: 0.867 - ETA: 3:21 - loss: 0.3178 - acc: 0.867 - ETA: 3:20 - loss: 0.3178 - acc: 0.867 - ETA: 3:20 - loss: 0.3175 - acc: 0.867 - ETA: 3:19 - loss: 0.3173 - acc: 0.868 - ETA: 3:18 - loss: 0.3171 - acc: 0.868 - ETA: 3:18 - loss: 0.3171 - acc: 0.868 - ETA: 3:17 - loss: 0.3165 - acc: 0.868 - ETA: 3:17 - loss: 0.3160 - acc: 0.868 - ETA: 3:16 - loss: 0.3158 - acc: 0.868 - ETA: 3:16 - loss: 0.3159 - acc: 0.868 - ETA: 3:15 - loss: 0.3150 - acc: 0.869 - ETA: 3:14 - loss: 0.3147 - acc: 0.869 - ETA: 3:14 - loss: 0.3145 - acc: 0.869 - ETA: 3:13 - loss: 0.3138 - acc: 0.869 - ETA: 3:13 - loss: 0.3132 - acc: 0.869 - ETA: 3:12 - loss: 0.3125 - acc: 0.870 - ETA: 3:12 - loss: 0.3116 - acc: 0.870 - ETA: 3:11 - loss: 0.3109 - acc: 0.871 - ETA: 3:11 - loss: 0.3099 - acc: 0.871 - ETA: 3:10 - loss: 0.3099 - acc: 0.871 - ETA: 3:10 - loss: 0.3094 - acc: 0.871 - ETA: 3:09 - loss: 0.3089 - acc: 0.872 - ETA: 3:09 - loss: 0.3087 - acc: 0.872 - ETA: 3:08 - loss: 0.3084 - acc: 0.872 - ETA: 3:07 - loss: 0.3081 - acc: 0.872 - ETA: 3:07 - loss: 0.3073 - acc: 0.872 - ETA: 3:06 - loss: 0.3076 - acc: 0.872 - ETA: 3:06 - loss: 0.3073 - acc: 0.872 - ETA: 3:05 - loss: 0.3080 - acc: 0.872 - ETA: 3:04 - loss: 0.3076 - acc: 0.873 - ETA: 3:04 - loss: 0.3079 - acc: 0.872 - ETA: 3:03 - loss: 0.3073 - acc: 0.873 - ETA: 3:02 - loss: 0.3068 - acc: 0.873 - ETA: 3:02 - loss: 0.3064 - acc: 0.873 - ETA: 3:01 - loss: 0.3062 - acc: 0.873 - ETA: 3:00 - loss: 0.3062 - acc: 0.873 - ETA: 3:00 - loss: 0.3053 - acc: 0.874 - ETA: 2:59 - loss: 0.3052 - acc: 0.874 - ETA: 2:59 - loss: 0.3046 - acc: 0.874 - ETA: 2:58 - loss: 0.3043 - acc: 0.874 - ETA: 2:58 - loss: 0.3043 - acc: 0.874 - ETA: 2:57 - loss: 0.3037 - acc: 0.874 - ETA: 2:57 - loss: 0.3032 - acc: 0.874 - ETA: 2:56 - loss: 0.3029 - acc: 0.874 - ETA: 2:56 - loss: 0.3028 - acc: 0.874 - ETA: 2:55 - loss: 0.3024 - acc: 0.875 - ETA: 2:55 - loss: 0.3030 - acc: 0.874 - ETA: 2:54 - loss: 0.3020 - acc: 0.875 - ETA: 2:53 - loss: 0.3014 - acc: 0.875 - ETA: 2:53 - loss: 0.3008 - acc: 0.875 - ETA: 2:52 - loss: 0.3000 - acc: 0.8762\b\b\b\b\b\b\b\b\b\b\b\b\b\b\b\b\b\b\b\b\b\b\b\b\b\b\b\b\b\b\b\b\b\b\b\b\b\b\b\b\b\b\b\b\b\b\b\b\b\b\b\b\b\b\b\b\b\b\b\b\b\b\b\b\b\b\b\b\b\b\b\b\b\b\b\b\b\b\b\b\b\b\b\b\b"
     ]
    },
    {
     "name": "stdout",
     "output_type": "stream",
     "text": [
      "26176/32249 [=======================>......] - ETA: 2:52 - loss: 0.2994 - acc: 0.876 - ETA: 2:51 - loss: 0.2990 - acc: 0.876 - ETA: 2:51 - loss: 0.2987 - acc: 0.876 - ETA: 2:50 - loss: 0.2984 - acc: 0.876 - ETA: 2:49 - loss: 0.2984 - acc: 0.876 - ETA: 2:49 - loss: 0.2982 - acc: 0.876 - ETA: 2:48 - loss: 0.2978 - acc: 0.876 - ETA: 2:48 - loss: 0.2973 - acc: 0.877 - ETA: 2:47 - loss: 0.2965 - acc: 0.877 - ETA: 2:46 - loss: 0.2959 - acc: 0.877 - ETA: 2:46 - loss: 0.2955 - acc: 0.877 - ETA: 2:45 - loss: 0.2957 - acc: 0.877 - ETA: 2:45 - loss: 0.2958 - acc: 0.877 - ETA: 2:44 - loss: 0.2955 - acc: 0.877 - ETA: 2:43 - loss: 0.2953 - acc: 0.877 - ETA: 2:43 - loss: 0.2956 - acc: 0.877 - ETA: 2:42 - loss: 0.2956 - acc: 0.878 - ETA: 2:42 - loss: 0.2956 - acc: 0.878 - ETA: 2:41 - loss: 0.2956 - acc: 0.877 - ETA: 2:41 - loss: 0.2952 - acc: 0.878 - ETA: 2:40 - loss: 0.2949 - acc: 0.878 - ETA: 2:40 - loss: 0.2945 - acc: 0.878 - ETA: 2:39 - loss: 0.2943 - acc: 0.878 - ETA: 2:38 - loss: 0.2938 - acc: 0.878 - ETA: 2:38 - loss: 0.2935 - acc: 0.879 - ETA: 2:37 - loss: 0.2934 - acc: 0.879 - ETA: 2:36 - loss: 0.2931 - acc: 0.879 - ETA: 2:36 - loss: 0.2929 - acc: 0.879 - ETA: 2:35 - loss: 0.2931 - acc: 0.879 - ETA: 2:35 - loss: 0.2926 - acc: 0.879 - ETA: 2:34 - loss: 0.2922 - acc: 0.879 - ETA: 2:34 - loss: 0.2916 - acc: 0.879 - ETA: 2:33 - loss: 0.2916 - acc: 0.879 - ETA: 2:32 - loss: 0.2910 - acc: 0.879 - ETA: 2:32 - loss: 0.2909 - acc: 0.880 - ETA: 2:31 - loss: 0.2907 - acc: 0.880 - ETA: 2:31 - loss: 0.2902 - acc: 0.880 - ETA: 2:30 - loss: 0.2900 - acc: 0.880 - ETA: 2:30 - loss: 0.2895 - acc: 0.880 - ETA: 2:29 - loss: 0.2893 - acc: 0.880 - ETA: 2:28 - loss: 0.2892 - acc: 0.880 - ETA: 2:28 - loss: 0.2888 - acc: 0.880 - ETA: 2:27 - loss: 0.2888 - acc: 0.880 - ETA: 2:27 - loss: 0.2884 - acc: 0.881 - ETA: 2:26 - loss: 0.2884 - acc: 0.881 - ETA: 2:26 - loss: 0.2880 - acc: 0.881 - ETA: 2:25 - loss: 0.2876 - acc: 0.881 - ETA: 2:25 - loss: 0.2871 - acc: 0.881 - ETA: 2:24 - loss: 0.2874 - acc: 0.881 - ETA: 2:23 - loss: 0.2870 - acc: 0.881 - ETA: 2:23 - loss: 0.2870 - acc: 0.881 - ETA: 2:22 - loss: 0.2864 - acc: 0.881 - ETA: 2:22 - loss: 0.2863 - acc: 0.882 - ETA: 2:21 - loss: 0.2859 - acc: 0.882 - ETA: 2:21 - loss: 0.2856 - acc: 0.882 - ETA: 2:20 - loss: 0.2853 - acc: 0.882 - ETA: 2:20 - loss: 0.2852 - acc: 0.882 - ETA: 2:19 - loss: 0.2849 - acc: 0.882 - ETA: 2:18 - loss: 0.2851 - acc: 0.882 - ETA: 2:18 - loss: 0.2847 - acc: 0.882 - ETA: 2:17 - loss: 0.2845 - acc: 0.882 - ETA: 2:17 - loss: 0.2841 - acc: 0.883 - ETA: 2:16 - loss: 0.2840 - acc: 0.883 - ETA: 2:15 - loss: 0.2839 - acc: 0.883 - ETA: 2:15 - loss: 0.2841 - acc: 0.883 - ETA: 2:14 - loss: 0.2843 - acc: 0.883 - ETA: 2:14 - loss: 0.2839 - acc: 0.883 - ETA: 2:13 - loss: 0.2836 - acc: 0.883 - ETA: 2:12 - loss: 0.2830 - acc: 0.883 - ETA: 2:12 - loss: 0.2831 - acc: 0.884 - ETA: 2:11 - loss: 0.2826 - acc: 0.884 - ETA: 2:11 - loss: 0.2820 - acc: 0.884 - ETA: 2:10 - loss: 0.2820 - acc: 0.884 - ETA: 2:09 - loss: 0.2815 - acc: 0.884 - ETA: 2:09 - loss: 0.2812 - acc: 0.884 - ETA: 2:08 - loss: 0.2809 - acc: 0.885 - ETA: 2:08 - loss: 0.2805 - acc: 0.885 - ETA: 2:07 - loss: 0.2802 - acc: 0.885 - ETA: 2:07 - loss: 0.2798 - acc: 0.885 - ETA: 2:06 - loss: 0.2796 - acc: 0.885 - ETA: 2:06 - loss: 0.2794 - acc: 0.885 - ETA: 2:05 - loss: 0.2792 - acc: 0.885 - ETA: 2:04 - loss: 0.2792 - acc: 0.885 - ETA: 2:04 - loss: 0.2792 - acc: 0.885 - ETA: 2:03 - loss: 0.2791 - acc: 0.885 - ETA: 2:03 - loss: 0.2788 - acc: 0.885 - ETA: 2:02 - loss: 0.2788 - acc: 0.885 - ETA: 2:02 - loss: 0.2783 - acc: 0.885 - ETA: 2:01 - loss: 0.2781 - acc: 0.886 - ETA: 2:00 - loss: 0.2780 - acc: 0.886 - ETA: 2:00 - loss: 0.2785 - acc: 0.886 - ETA: 1:59 - loss: 0.2786 - acc: 0.886 - ETA: 1:59 - loss: 0.2784 - acc: 0.886 - ETA: 1:58 - loss: 0.2779 - acc: 0.886 - ETA: 1:58 - loss: 0.2781 - acc: 0.886 - ETA: 1:57 - loss: 0.2779 - acc: 0.886 - ETA: 1:56 - loss: 0.2776 - acc: 0.886 - ETA: 1:56 - loss: 0.2774 - acc: 0.886 - ETA: 1:55 - loss: 0.2776 - acc: 0.886 - ETA: 1:55 - loss: 0.2776 - acc: 0.886 - ETA: 1:54 - loss: 0.2775 - acc: 0.886 - ETA: 1:54 - loss: 0.2772 - acc: 0.886 - ETA: 1:53 - loss: 0.2768 - acc: 0.886 - ETA: 1:52 - loss: 0.2768 - acc: 0.887 - ETA: 1:52 - loss: 0.2764 - acc: 0.887 - ETA: 1:51 - loss: 0.2767 - acc: 0.886 - ETA: 1:51 - loss: 0.2766 - acc: 0.886 - ETA: 1:50 - loss: 0.2762 - acc: 0.887 - ETA: 1:49 - loss: 0.2759 - acc: 0.887 - ETA: 1:49 - loss: 0.2758 - acc: 0.887 - ETA: 1:48 - loss: 0.2755 - acc: 0.887 - ETA: 1:48 - loss: 0.2754 - acc: 0.887 - ETA: 1:47 - loss: 0.2749 - acc: 0.887 - ETA: 1:47 - loss: 0.2746 - acc: 0.887 - ETA: 1:46 - loss: 0.2740 - acc: 0.888 - ETA: 1:45 - loss: 0.2738 - acc: 0.888 - ETA: 1:45 - loss: 0.2736 - acc: 0.888 - ETA: 1:44 - loss: 0.2734 - acc: 0.888 - ETA: 1:44 - loss: 0.2733 - acc: 0.888 - ETA: 1:43 - loss: 0.2735 - acc: 0.888 - ETA: 1:43 - loss: 0.2733 - acc: 0.888 - ETA: 1:42 - loss: 0.2731 - acc: 0.888 - ETA: 1:41 - loss: 0.2726 - acc: 0.888 - ETA: 1:41 - loss: 0.2725 - acc: 0.888 - ETA: 1:40 - loss: 0.2724 - acc: 0.888 - ETA: 1:40 - loss: 0.2727 - acc: 0.888 - ETA: 1:39 - loss: 0.2725 - acc: 0.888 - ETA: 1:39 - loss: 0.2725 - acc: 0.888 - ETA: 1:38 - loss: 0.2723 - acc: 0.889 - ETA: 1:37 - loss: 0.2721 - acc: 0.889 - ETA: 1:37 - loss: 0.2717 - acc: 0.889 - ETA: 1:36 - loss: 0.2716 - acc: 0.889 - ETA: 1:36 - loss: 0.2713 - acc: 0.889 - ETA: 1:35 - loss: 0.2712 - acc: 0.889 - ETA: 1:35 - loss: 0.2713 - acc: 0.889 - ETA: 1:34 - loss: 0.2709 - acc: 0.889 - ETA: 1:34 - loss: 0.2708 - acc: 0.889 - ETA: 1:33 - loss: 0.2707 - acc: 0.889 - ETA: 1:32 - loss: 0.2707 - acc: 0.889 - ETA: 1:32 - loss: 0.2714 - acc: 0.889 - ETA: 1:31 - loss: 0.2714 - acc: 0.889 - ETA: 1:31 - loss: 0.2711 - acc: 0.889 - ETA: 1:30 - loss: 0.2710 - acc: 0.889 - ETA: 1:29 - loss: 0.2711 - acc: 0.889 - ETA: 1:29 - loss: 0.2712 - acc: 0.889 - ETA: 1:28 - loss: 0.2709 - acc: 0.889 - ETA: 1:28 - loss: 0.2709 - acc: 0.889 - ETA: 1:27 - loss: 0.2707 - acc: 0.889 - ETA: 1:27 - loss: 0.2707 - acc: 0.889 - ETA: 1:26 - loss: 0.2706 - acc: 0.889 - ETA: 1:25 - loss: 0.2705 - acc: 0.889 - ETA: 1:25 - loss: 0.2701 - acc: 0.889 - ETA: 1:24 - loss: 0.2701 - acc: 0.889 - ETA: 1:24 - loss: 0.2699 - acc: 0.889 - ETA: 1:23 - loss: 0.2695 - acc: 0.890 - ETA: 1:22 - loss: 0.2691 - acc: 0.890 - ETA: 1:22 - loss: 0.2690 - acc: 0.890 - ETA: 1:21 - loss: 0.2688 - acc: 0.890 - ETA: 1:21 - loss: 0.2687 - acc: 0.890 - ETA: 1:20 - loss: 0.2685 - acc: 0.890 - ETA: 1:20 - loss: 0.2683 - acc: 0.890 - ETA: 1:19 - loss: 0.2681 - acc: 0.890 - ETA: 1:18 - loss: 0.2679 - acc: 0.891 - ETA: 1:18 - loss: 0.2680 - acc: 0.891 - ETA: 1:17 - loss: 0.2677 - acc: 0.891 - ETA: 1:17 - loss: 0.2673 - acc: 0.891 - ETA: 1:16 - loss: 0.2672 - acc: 0.891 - ETA: 1:16 - loss: 0.2670 - acc: 0.891 - ETA: 1:15 - loss: 0.2669 - acc: 0.891 - ETA: 1:14 - loss: 0.2667 - acc: 0.891 - ETA: 1:14 - loss: 0.2666 - acc: 0.891 - ETA: 1:13 - loss: 0.2664 - acc: 0.891 - ETA: 1:13 - loss: 0.2663 - acc: 0.891 - ETA: 1:12 - loss: 0.2663 - acc: 0.891 - ETA: 1:12 - loss: 0.2660 - acc: 0.891 - ETA: 1:11 - loss: 0.2659 - acc: 0.892 - ETA: 1:10 - loss: 0.2657 - acc: 0.892 - ETA: 1:10 - loss: 0.2655 - acc: 0.892 - ETA: 1:09 - loss: 0.2653 - acc: 0.892 - ETA: 1:09 - loss: 0.2654 - acc: 0.892 - ETA: 1:08 - loss: 0.2651 - acc: 0.892 - ETA: 1:08 - loss: 0.2653 - acc: 0.892 - ETA: 1:07 - loss: 0.2653 - acc: 0.892 - ETA: 1:06 - loss: 0.2651 - acc: 0.892 - ETA: 1:06 - loss: 0.2649 - acc: 0.892 - ETA: 1:05 - loss: 0.2647 - acc: 0.892 - ETA: 1:05 - loss: 0.2646 - acc: 0.892 - ETA: 1:04 - loss: 0.2646 - acc: 0.892 - ETA: 1:04 - loss: 0.2646 - acc: 0.892 - ETA: 1:03 - loss: 0.2645 - acc: 0.892 - ETA: 1:02 - loss: 0.2644 - acc: 0.892 - ETA: 1:02 - loss: 0.2642 - acc: 0.892 - ETA: 1:01 - loss: 0.2639 - acc: 0.892 - ETA: 1:01 - loss: 0.2642 - acc: 0.892 - ETA: 1:00 - loss: 0.2639 - acc: 0.892 - ETA: 59s - loss: 0.2638 - acc: 0.892 - ETA: 59s - loss: 0.2634 - acc: 0.89 - ETA: 58s - loss: 0.2634 - acc: 0.89 - ETA: 58s - loss: 0.2629 - acc: 0.89 - ETA: 57s - loss: 0.2629 - acc: 0.89 - ETA: 57s - loss: 0.2628 - acc: 0.89 - ETA: 56s - loss: 0.2629 - acc: 0.89 - ETA: 55s - loss: 0.2629 - acc: 0.89 - ETA: 55s - loss: 0.2630 - acc: 0.89 - ETA: 54s - loss: 0.2628 - acc: 0.8935"
     ]
    },
    {
     "name": "stdout",
     "output_type": "stream",
     "text": [
      "32249/32249 [==============================] - ETA: 54s - loss: 0.2627 - acc: 0.89 - ETA: 53s - loss: 0.2626 - acc: 0.89 - ETA: 53s - loss: 0.2625 - acc: 0.89 - ETA: 52s - loss: 0.2625 - acc: 0.89 - ETA: 51s - loss: 0.2622 - acc: 0.89 - ETA: 51s - loss: 0.2624 - acc: 0.89 - ETA: 50s - loss: 0.2621 - acc: 0.89 - ETA: 50s - loss: 0.2623 - acc: 0.89 - ETA: 49s - loss: 0.2624 - acc: 0.89 - ETA: 49s - loss: 0.2622 - acc: 0.89 - ETA: 48s - loss: 0.2624 - acc: 0.89 - ETA: 47s - loss: 0.2621 - acc: 0.89 - ETA: 47s - loss: 0.2623 - acc: 0.89 - ETA: 46s - loss: 0.2623 - acc: 0.89 - ETA: 46s - loss: 0.2622 - acc: 0.89 - ETA: 45s - loss: 0.2618 - acc: 0.89 - ETA: 45s - loss: 0.2617 - acc: 0.89 - ETA: 44s - loss: 0.2615 - acc: 0.89 - ETA: 43s - loss: 0.2615 - acc: 0.89 - ETA: 43s - loss: 0.2615 - acc: 0.89 - ETA: 42s - loss: 0.2613 - acc: 0.89 - ETA: 42s - loss: 0.2611 - acc: 0.89 - ETA: 41s - loss: 0.2609 - acc: 0.89 - ETA: 41s - loss: 0.2611 - acc: 0.89 - ETA: 40s - loss: 0.2611 - acc: 0.89 - ETA: 39s - loss: 0.2610 - acc: 0.89 - ETA: 39s - loss: 0.2608 - acc: 0.89 - ETA: 38s - loss: 0.2606 - acc: 0.89 - ETA: 38s - loss: 0.2606 - acc: 0.89 - ETA: 37s - loss: 0.2605 - acc: 0.89 - ETA: 36s - loss: 0.2605 - acc: 0.89 - ETA: 36s - loss: 0.2603 - acc: 0.89 - ETA: 35s - loss: 0.2604 - acc: 0.89 - ETA: 35s - loss: 0.2602 - acc: 0.89 - ETA: 34s - loss: 0.2600 - acc: 0.89 - ETA: 34s - loss: 0.2600 - acc: 0.89 - ETA: 33s - loss: 0.2600 - acc: 0.89 - ETA: 32s - loss: 0.2599 - acc: 0.89 - ETA: 32s - loss: 0.2598 - acc: 0.89 - ETA: 31s - loss: 0.2599 - acc: 0.89 - ETA: 31s - loss: 0.2599 - acc: 0.89 - ETA: 30s - loss: 0.2599 - acc: 0.89 - ETA: 30s - loss: 0.2598 - acc: 0.89 - ETA: 29s - loss: 0.2596 - acc: 0.89 - ETA: 28s - loss: 0.2596 - acc: 0.89 - ETA: 28s - loss: 0.2597 - acc: 0.89 - ETA: 27s - loss: 0.2595 - acc: 0.89 - ETA: 27s - loss: 0.2593 - acc: 0.89 - ETA: 26s - loss: 0.2591 - acc: 0.89 - ETA: 26s - loss: 0.2589 - acc: 0.89 - ETA: 25s - loss: 0.2588 - acc: 0.89 - ETA: 24s - loss: 0.2591 - acc: 0.89 - ETA: 24s - loss: 0.2589 - acc: 0.89 - ETA: 23s - loss: 0.2587 - acc: 0.89 - ETA: 23s - loss: 0.2588 - acc: 0.89 - ETA: 22s - loss: 0.2589 - acc: 0.89 - ETA: 21s - loss: 0.2587 - acc: 0.89 - ETA: 21s - loss: 0.2585 - acc: 0.89 - ETA: 20s - loss: 0.2583 - acc: 0.89 - ETA: 20s - loss: 0.2584 - acc: 0.89 - ETA: 19s - loss: 0.2582 - acc: 0.89 - ETA: 19s - loss: 0.2579 - acc: 0.89 - ETA: 18s - loss: 0.2577 - acc: 0.89 - ETA: 17s - loss: 0.2574 - acc: 0.89 - ETA: 17s - loss: 0.2573 - acc: 0.89 - ETA: 16s - loss: 0.2576 - acc: 0.89 - ETA: 16s - loss: 0.2577 - acc: 0.89 - ETA: 15s - loss: 0.2576 - acc: 0.89 - ETA: 15s - loss: 0.2575 - acc: 0.89 - ETA: 14s - loss: 0.2575 - acc: 0.89 - ETA: 13s - loss: 0.2574 - acc: 0.89 - ETA: 13s - loss: 0.2573 - acc: 0.89 - ETA: 12s - loss: 0.2572 - acc: 0.89 - ETA: 12s - loss: 0.2573 - acc: 0.89 - ETA: 11s - loss: 0.2573 - acc: 0.89 - ETA: 10s - loss: 0.2572 - acc: 0.89 - ETA: 10s - loss: 0.2572 - acc: 0.89 - ETA: 9s - loss: 0.2573 - acc: 0.8959 - ETA: 9s - loss: 0.2575 - acc: 0.895 - ETA: 8s - loss: 0.2575 - acc: 0.895 - ETA: 8s - loss: 0.2573 - acc: 0.895 - ETA: 7s - loss: 0.2571 - acc: 0.895 - ETA: 6s - loss: 0.2570 - acc: 0.896 - ETA: 6s - loss: 0.2569 - acc: 0.895 - ETA: 5s - loss: 0.2569 - acc: 0.896 - ETA: 5s - loss: 0.2569 - acc: 0.896 - ETA: 4s - loss: 0.2567 - acc: 0.896 - ETA: 3s - loss: 0.2566 - acc: 0.896 - ETA: 3s - loss: 0.2567 - acc: 0.896 - ETA: 2s - loss: 0.2565 - acc: 0.896 - ETA: 2s - loss: 0.2562 - acc: 0.896 - ETA: 1s - loss: 0.2562 - acc: 0.896 - ETA: 1s - loss: 0.2559 - acc: 0.896 - ETA: 0s - loss: 0.2557 - acc: 0.896 - 292s 9ms/step - loss: 0.2556 - acc: 0.8966\n",
      "Epoch 2/5\n"
     ]
    },
    {
     "name": "stdout",
     "output_type": "stream",
     "text": [
      "13056/32249 [===========>..................] - ETA: 4:49 - loss: 0.1948 - acc: 0.937 - ETA: 4:48 - loss: 0.1633 - acc: 0.953 - ETA: 4:49 - loss: 0.1422 - acc: 0.958 - ETA: 4:55 - loss: 0.1414 - acc: 0.953 - ETA: 4:56 - loss: 0.1392 - acc: 0.950 - ETA: 4:53 - loss: 0.1399 - acc: 0.945 - ETA: 4:53 - loss: 0.1327 - acc: 0.950 - ETA: 4:53 - loss: 0.1361 - acc: 0.951 - ETA: 4:52 - loss: 0.1420 - acc: 0.947 - ETA: 4:50 - loss: 0.1479 - acc: 0.945 - ETA: 4:49 - loss: 0.1560 - acc: 0.943 - ETA: 4:48 - loss: 0.1626 - acc: 0.944 - ETA: 4:48 - loss: 0.1634 - acc: 0.943 - ETA: 4:46 - loss: 0.1740 - acc: 0.940 - ETA: 4:42 - loss: 0.1739 - acc: 0.940 - ETA: 4:40 - loss: 0.1711 - acc: 0.941 - ETA: 4:40 - loss: 0.1681 - acc: 0.942 - ETA: 4:39 - loss: 0.1697 - acc: 0.941 - ETA: 4:39 - loss: 0.1652 - acc: 0.942 - ETA: 4:38 - loss: 0.1706 - acc: 0.941 - ETA: 4:38 - loss: 0.1692 - acc: 0.942 - ETA: 4:38 - loss: 0.1688 - acc: 0.943 - ETA: 4:39 - loss: 0.1672 - acc: 0.943 - ETA: 4:40 - loss: 0.1644 - acc: 0.944 - ETA: 4:40 - loss: 0.1666 - acc: 0.943 - ETA: 4:39 - loss: 0.1638 - acc: 0.944 - ETA: 4:39 - loss: 0.1613 - acc: 0.945 - ETA: 4:38 - loss: 0.1621 - acc: 0.944 - ETA: 4:38 - loss: 0.1638 - acc: 0.942 - ETA: 4:37 - loss: 0.1662 - acc: 0.942 - ETA: 4:36 - loss: 0.1665 - acc: 0.942 - ETA: 4:36 - loss: 0.1679 - acc: 0.941 - ETA: 4:35 - loss: 0.1660 - acc: 0.942 - ETA: 4:34 - loss: 0.1656 - acc: 0.941 - ETA: 4:34 - loss: 0.1640 - acc: 0.942 - ETA: 4:33 - loss: 0.1639 - acc: 0.942 - ETA: 4:32 - loss: 0.1625 - acc: 0.943 - ETA: 4:32 - loss: 0.1614 - acc: 0.943 - ETA: 4:31 - loss: 0.1611 - acc: 0.943 - ETA: 4:30 - loss: 0.1627 - acc: 0.943 - ETA: 4:30 - loss: 0.1630 - acc: 0.943 - ETA: 4:29 - loss: 0.1629 - acc: 0.943 - ETA: 4:28 - loss: 0.1634 - acc: 0.943 - ETA: 4:28 - loss: 0.1628 - acc: 0.944 - ETA: 4:27 - loss: 0.1606 - acc: 0.945 - ETA: 4:27 - loss: 0.1595 - acc: 0.945 - ETA: 4:26 - loss: 0.1581 - acc: 0.945 - ETA: 4:26 - loss: 0.1598 - acc: 0.945 - ETA: 4:25 - loss: 0.1633 - acc: 0.944 - ETA: 4:25 - loss: 0.1635 - acc: 0.944 - ETA: 4:25 - loss: 0.1640 - acc: 0.943 - ETA: 4:25 - loss: 0.1650 - acc: 0.942 - ETA: 4:24 - loss: 0.1636 - acc: 0.943 - ETA: 4:23 - loss: 0.1629 - acc: 0.943 - ETA: 4:23 - loss: 0.1635 - acc: 0.942 - ETA: 4:22 - loss: 0.1623 - acc: 0.943 - ETA: 4:20 - loss: 0.1618 - acc: 0.943 - ETA: 4:19 - loss: 0.1622 - acc: 0.943 - ETA: 4:19 - loss: 0.1607 - acc: 0.944 - ETA: 4:18 - loss: 0.1597 - acc: 0.944 - ETA: 4:17 - loss: 0.1606 - acc: 0.943 - ETA: 4:17 - loss: 0.1617 - acc: 0.943 - ETA: 4:16 - loss: 0.1607 - acc: 0.943 - ETA: 4:16 - loss: 0.1594 - acc: 0.944 - ETA: 4:15 - loss: 0.1587 - acc: 0.944 - ETA: 4:14 - loss: 0.1586 - acc: 0.944 - ETA: 4:14 - loss: 0.1585 - acc: 0.944 - ETA: 4:13 - loss: 0.1590 - acc: 0.943 - ETA: 4:12 - loss: 0.1603 - acc: 0.943 - ETA: 4:12 - loss: 0.1595 - acc: 0.943 - ETA: 4:11 - loss: 0.1606 - acc: 0.943 - ETA: 4:11 - loss: 0.1603 - acc: 0.943 - ETA: 4:10 - loss: 0.1616 - acc: 0.942 - ETA: 4:10 - loss: 0.1621 - acc: 0.942 - ETA: 4:09 - loss: 0.1611 - acc: 0.942 - ETA: 4:08 - loss: 0.1599 - acc: 0.943 - ETA: 4:08 - loss: 0.1605 - acc: 0.943 - ETA: 4:08 - loss: 0.1620 - acc: 0.942 - ETA: 4:08 - loss: 0.1622 - acc: 0.942 - ETA: 4:07 - loss: 0.1607 - acc: 0.943 - ETA: 4:07 - loss: 0.1622 - acc: 0.942 - ETA: 4:06 - loss: 0.1641 - acc: 0.941 - ETA: 4:05 - loss: 0.1650 - acc: 0.941 - ETA: 4:05 - loss: 0.1649 - acc: 0.941 - ETA: 4:04 - loss: 0.1645 - acc: 0.941 - ETA: 4:03 - loss: 0.1643 - acc: 0.942 - ETA: 4:03 - loss: 0.1636 - acc: 0.942 - ETA: 4:02 - loss: 0.1634 - acc: 0.941 - ETA: 4:02 - loss: 0.1639 - acc: 0.941 - ETA: 4:01 - loss: 0.1629 - acc: 0.942 - ETA: 4:00 - loss: 0.1618 - acc: 0.943 - ETA: 4:00 - loss: 0.1620 - acc: 0.942 - ETA: 3:59 - loss: 0.1623 - acc: 0.942 - ETA: 3:58 - loss: 0.1638 - acc: 0.941 - ETA: 3:58 - loss: 0.1632 - acc: 0.942 - ETA: 3:57 - loss: 0.1644 - acc: 0.941 - ETA: 3:56 - loss: 0.1641 - acc: 0.941 - ETA: 3:56 - loss: 0.1638 - acc: 0.941 - ETA: 3:55 - loss: 0.1654 - acc: 0.941 - ETA: 3:54 - loss: 0.1652 - acc: 0.940 - ETA: 3:53 - loss: 0.1651 - acc: 0.940 - ETA: 3:53 - loss: 0.1653 - acc: 0.940 - ETA: 3:52 - loss: 0.1656 - acc: 0.940 - ETA: 3:51 - loss: 0.1658 - acc: 0.940 - ETA: 3:51 - loss: 0.1661 - acc: 0.940 - ETA: 3:51 - loss: 0.1656 - acc: 0.940 - ETA: 3:50 - loss: 0.1665 - acc: 0.939 - ETA: 3:50 - loss: 0.1670 - acc: 0.939 - ETA: 3:49 - loss: 0.1675 - acc: 0.939 - ETA: 3:49 - loss: 0.1668 - acc: 0.939 - ETA: 3:48 - loss: 0.1671 - acc: 0.939 - ETA: 3:47 - loss: 0.1668 - acc: 0.939 - ETA: 3:47 - loss: 0.1668 - acc: 0.939 - ETA: 3:46 - loss: 0.1667 - acc: 0.939 - ETA: 3:46 - loss: 0.1659 - acc: 0.939 - ETA: 3:45 - loss: 0.1662 - acc: 0.939 - ETA: 3:44 - loss: 0.1673 - acc: 0.939 - ETA: 3:44 - loss: 0.1681 - acc: 0.939 - ETA: 3:43 - loss: 0.1685 - acc: 0.938 - ETA: 3:43 - loss: 0.1692 - acc: 0.937 - ETA: 3:42 - loss: 0.1691 - acc: 0.938 - ETA: 3:41 - loss: 0.1691 - acc: 0.938 - ETA: 3:41 - loss: 0.1701 - acc: 0.937 - ETA: 3:40 - loss: 0.1705 - acc: 0.937 - ETA: 3:40 - loss: 0.1708 - acc: 0.937 - ETA: 3:39 - loss: 0.1710 - acc: 0.937 - ETA: 3:39 - loss: 0.1710 - acc: 0.937 - ETA: 3:38 - loss: 0.1708 - acc: 0.937 - ETA: 3:37 - loss: 0.1713 - acc: 0.937 - ETA: 3:37 - loss: 0.1712 - acc: 0.937 - ETA: 3:36 - loss: 0.1715 - acc: 0.937 - ETA: 3:36 - loss: 0.1713 - acc: 0.937 - ETA: 3:35 - loss: 0.1705 - acc: 0.937 - ETA: 3:35 - loss: 0.1704 - acc: 0.937 - ETA: 3:34 - loss: 0.1707 - acc: 0.937 - ETA: 3:34 - loss: 0.1698 - acc: 0.937 - ETA: 3:33 - loss: 0.1722 - acc: 0.936 - ETA: 3:32 - loss: 0.1720 - acc: 0.936 - ETA: 3:32 - loss: 0.1729 - acc: 0.936 - ETA: 3:31 - loss: 0.1729 - acc: 0.936 - ETA: 3:31 - loss: 0.1732 - acc: 0.936 - ETA: 3:30 - loss: 0.1735 - acc: 0.936 - ETA: 3:29 - loss: 0.1735 - acc: 0.936 - ETA: 3:28 - loss: 0.1744 - acc: 0.935 - ETA: 3:28 - loss: 0.1746 - acc: 0.935 - ETA: 3:27 - loss: 0.1744 - acc: 0.935 - ETA: 3:27 - loss: 0.1745 - acc: 0.935 - ETA: 3:26 - loss: 0.1749 - acc: 0.935 - ETA: 3:25 - loss: 0.1751 - acc: 0.935 - ETA: 3:25 - loss: 0.1754 - acc: 0.935 - ETA: 3:24 - loss: 0.1757 - acc: 0.934 - ETA: 3:24 - loss: 0.1750 - acc: 0.935 - ETA: 3:23 - loss: 0.1754 - acc: 0.934 - ETA: 3:23 - loss: 0.1758 - acc: 0.934 - ETA: 3:22 - loss: 0.1764 - acc: 0.934 - ETA: 3:22 - loss: 0.1766 - acc: 0.934 - ETA: 3:21 - loss: 0.1773 - acc: 0.933 - ETA: 3:20 - loss: 0.1771 - acc: 0.934 - ETA: 3:20 - loss: 0.1771 - acc: 0.934 - ETA: 3:19 - loss: 0.1773 - acc: 0.934 - ETA: 3:19 - loss: 0.1771 - acc: 0.934 - ETA: 3:19 - loss: 0.1773 - acc: 0.934 - ETA: 3:18 - loss: 0.1775 - acc: 0.934 - ETA: 3:17 - loss: 0.1778 - acc: 0.934 - ETA: 3:17 - loss: 0.1776 - acc: 0.934 - ETA: 3:16 - loss: 0.1773 - acc: 0.934 - ETA: 3:16 - loss: 0.1775 - acc: 0.934 - ETA: 3:15 - loss: 0.1774 - acc: 0.934 - ETA: 3:14 - loss: 0.1771 - acc: 0.934 - ETA: 3:14 - loss: 0.1765 - acc: 0.934 - ETA: 3:13 - loss: 0.1761 - acc: 0.935 - ETA: 3:13 - loss: 0.1758 - acc: 0.935 - ETA: 3:12 - loss: 0.1765 - acc: 0.934 - ETA: 3:11 - loss: 0.1761 - acc: 0.934 - ETA: 3:11 - loss: 0.1760 - acc: 0.935 - ETA: 3:10 - loss: 0.1768 - acc: 0.934 - ETA: 3:10 - loss: 0.1773 - acc: 0.934 - ETA: 3:09 - loss: 0.1770 - acc: 0.935 - ETA: 3:08 - loss: 0.1766 - acc: 0.935 - ETA: 3:08 - loss: 0.1765 - acc: 0.935 - ETA: 3:07 - loss: 0.1764 - acc: 0.935 - ETA: 3:07 - loss: 0.1771 - acc: 0.934 - ETA: 3:06 - loss: 0.1766 - acc: 0.935 - ETA: 3:05 - loss: 0.1769 - acc: 0.935 - ETA: 3:05 - loss: 0.1770 - acc: 0.935 - ETA: 3:04 - loss: 0.1767 - acc: 0.935 - ETA: 3:03 - loss: 0.1761 - acc: 0.935 - ETA: 3:03 - loss: 0.1756 - acc: 0.935 - ETA: 3:02 - loss: 0.1752 - acc: 0.935 - ETA: 3:02 - loss: 0.1754 - acc: 0.935 - ETA: 3:01 - loss: 0.1754 - acc: 0.935 - ETA: 3:01 - loss: 0.1755 - acc: 0.935 - ETA: 3:00 - loss: 0.1759 - acc: 0.935 - ETA: 3:00 - loss: 0.1758 - acc: 0.935 - ETA: 2:59 - loss: 0.1759 - acc: 0.935 - ETA: 2:58 - loss: 0.1762 - acc: 0.935 - ETA: 2:58 - loss: 0.1759 - acc: 0.935 - ETA: 2:57 - loss: 0.1758 - acc: 0.935 - ETA: 2:57 - loss: 0.1759 - acc: 0.935 - ETA: 2:56 - loss: 0.1759 - acc: 0.934 - ETA: 2:56 - loss: 0.1754 - acc: 0.935 - ETA: 2:55 - loss: 0.1756 - acc: 0.935 - ETA: 2:55 - loss: 0.1756 - acc: 0.935 - ETA: 2:54 - loss: 0.1762 - acc: 0.9349"
     ]
    },
    {
     "name": "stdout",
     "output_type": "stream",
     "text": [
      "26112/32249 [=======================>......] - ETA: 2:53 - loss: 0.1767 - acc: 0.934 - ETA: 2:53 - loss: 0.1768 - acc: 0.934 - ETA: 2:52 - loss: 0.1765 - acc: 0.934 - ETA: 2:52 - loss: 0.1761 - acc: 0.934 - ETA: 2:51 - loss: 0.1761 - acc: 0.934 - ETA: 2:51 - loss: 0.1758 - acc: 0.934 - ETA: 2:50 - loss: 0.1758 - acc: 0.934 - ETA: 2:50 - loss: 0.1760 - acc: 0.934 - ETA: 2:49 - loss: 0.1757 - acc: 0.934 - ETA: 2:48 - loss: 0.1759 - acc: 0.934 - ETA: 2:48 - loss: 0.1758 - acc: 0.934 - ETA: 2:48 - loss: 0.1758 - acc: 0.934 - ETA: 2:47 - loss: 0.1759 - acc: 0.934 - ETA: 2:46 - loss: 0.1758 - acc: 0.934 - ETA: 2:46 - loss: 0.1757 - acc: 0.934 - ETA: 2:45 - loss: 0.1762 - acc: 0.934 - ETA: 2:45 - loss: 0.1758 - acc: 0.934 - ETA: 2:44 - loss: 0.1755 - acc: 0.934 - ETA: 2:44 - loss: 0.1748 - acc: 0.934 - ETA: 2:43 - loss: 0.1755 - acc: 0.934 - ETA: 2:42 - loss: 0.1753 - acc: 0.934 - ETA: 2:42 - loss: 0.1751 - acc: 0.934 - ETA: 2:41 - loss: 0.1747 - acc: 0.934 - ETA: 2:40 - loss: 0.1752 - acc: 0.934 - ETA: 2:40 - loss: 0.1749 - acc: 0.934 - ETA: 2:39 - loss: 0.1746 - acc: 0.934 - ETA: 2:39 - loss: 0.1744 - acc: 0.934 - ETA: 2:38 - loss: 0.1744 - acc: 0.934 - ETA: 2:37 - loss: 0.1739 - acc: 0.935 - ETA: 2:37 - loss: 0.1742 - acc: 0.934 - ETA: 2:36 - loss: 0.1742 - acc: 0.934 - ETA: 2:36 - loss: 0.1740 - acc: 0.934 - ETA: 2:35 - loss: 0.1741 - acc: 0.934 - ETA: 2:35 - loss: 0.1741 - acc: 0.934 - ETA: 2:34 - loss: 0.1738 - acc: 0.934 - ETA: 2:33 - loss: 0.1739 - acc: 0.934 - ETA: 2:33 - loss: 0.1740 - acc: 0.934 - ETA: 2:32 - loss: 0.1739 - acc: 0.934 - ETA: 2:32 - loss: 0.1736 - acc: 0.935 - ETA: 2:31 - loss: 0.1743 - acc: 0.934 - ETA: 2:31 - loss: 0.1741 - acc: 0.934 - ETA: 2:30 - loss: 0.1741 - acc: 0.934 - ETA: 2:30 - loss: 0.1740 - acc: 0.934 - ETA: 2:29 - loss: 0.1736 - acc: 0.935 - ETA: 2:28 - loss: 0.1733 - acc: 0.935 - ETA: 2:28 - loss: 0.1730 - acc: 0.935 - ETA: 2:27 - loss: 0.1728 - acc: 0.935 - ETA: 2:27 - loss: 0.1725 - acc: 0.935 - ETA: 2:26 - loss: 0.1730 - acc: 0.935 - ETA: 2:25 - loss: 0.1728 - acc: 0.935 - ETA: 2:25 - loss: 0.1728 - acc: 0.935 - ETA: 2:24 - loss: 0.1728 - acc: 0.935 - ETA: 2:24 - loss: 0.1741 - acc: 0.934 - ETA: 2:23 - loss: 0.1740 - acc: 0.934 - ETA: 2:23 - loss: 0.1738 - acc: 0.934 - ETA: 2:22 - loss: 0.1735 - acc: 0.935 - ETA: 2:21 - loss: 0.1734 - acc: 0.934 - ETA: 2:21 - loss: 0.1739 - acc: 0.934 - ETA: 2:20 - loss: 0.1738 - acc: 0.934 - ETA: 2:20 - loss: 0.1738 - acc: 0.934 - ETA: 2:19 - loss: 0.1736 - acc: 0.934 - ETA: 2:18 - loss: 0.1736 - acc: 0.934 - ETA: 2:18 - loss: 0.1738 - acc: 0.934 - ETA: 2:17 - loss: 0.1739 - acc: 0.934 - ETA: 2:17 - loss: 0.1740 - acc: 0.934 - ETA: 2:16 - loss: 0.1740 - acc: 0.934 - ETA: 2:15 - loss: 0.1744 - acc: 0.934 - ETA: 2:15 - loss: 0.1746 - acc: 0.934 - ETA: 2:14 - loss: 0.1743 - acc: 0.934 - ETA: 2:14 - loss: 0.1749 - acc: 0.934 - ETA: 2:13 - loss: 0.1749 - acc: 0.934 - ETA: 2:13 - loss: 0.1749 - acc: 0.934 - ETA: 2:12 - loss: 0.1749 - acc: 0.934 - ETA: 2:11 - loss: 0.1748 - acc: 0.934 - ETA: 2:11 - loss: 0.1756 - acc: 0.934 - ETA: 2:10 - loss: 0.1759 - acc: 0.934 - ETA: 2:10 - loss: 0.1760 - acc: 0.933 - ETA: 2:09 - loss: 0.1758 - acc: 0.933 - ETA: 2:09 - loss: 0.1757 - acc: 0.933 - ETA: 2:08 - loss: 0.1761 - acc: 0.933 - ETA: 2:07 - loss: 0.1758 - acc: 0.933 - ETA: 2:07 - loss: 0.1759 - acc: 0.933 - ETA: 2:06 - loss: 0.1757 - acc: 0.933 - ETA: 2:06 - loss: 0.1756 - acc: 0.934 - ETA: 2:05 - loss: 0.1758 - acc: 0.933 - ETA: 2:04 - loss: 0.1755 - acc: 0.934 - ETA: 2:04 - loss: 0.1754 - acc: 0.934 - ETA: 2:03 - loss: 0.1758 - acc: 0.933 - ETA: 2:03 - loss: 0.1757 - acc: 0.934 - ETA: 2:02 - loss: 0.1758 - acc: 0.934 - ETA: 2:02 - loss: 0.1755 - acc: 0.934 - ETA: 2:01 - loss: 0.1757 - acc: 0.934 - ETA: 2:00 - loss: 0.1764 - acc: 0.933 - ETA: 2:00 - loss: 0.1761 - acc: 0.933 - ETA: 1:59 - loss: 0.1761 - acc: 0.933 - ETA: 1:59 - loss: 0.1760 - acc: 0.934 - ETA: 1:58 - loss: 0.1758 - acc: 0.934 - ETA: 1:58 - loss: 0.1759 - acc: 0.934 - ETA: 1:57 - loss: 0.1758 - acc: 0.934 - ETA: 1:56 - loss: 0.1760 - acc: 0.934 - ETA: 1:56 - loss: 0.1764 - acc: 0.933 - ETA: 1:55 - loss: 0.1765 - acc: 0.933 - ETA: 1:55 - loss: 0.1762 - acc: 0.933 - ETA: 1:54 - loss: 0.1764 - acc: 0.933 - ETA: 1:54 - loss: 0.1766 - acc: 0.933 - ETA: 1:53 - loss: 0.1764 - acc: 0.933 - ETA: 1:52 - loss: 0.1766 - acc: 0.933 - ETA: 1:52 - loss: 0.1766 - acc: 0.933 - ETA: 1:51 - loss: 0.1764 - acc: 0.933 - ETA: 1:51 - loss: 0.1769 - acc: 0.933 - ETA: 1:50 - loss: 0.1768 - acc: 0.933 - ETA: 1:49 - loss: 0.1771 - acc: 0.933 - ETA: 1:49 - loss: 0.1774 - acc: 0.933 - ETA: 1:48 - loss: 0.1772 - acc: 0.933 - ETA: 1:48 - loss: 0.1771 - acc: 0.933 - ETA: 1:47 - loss: 0.1770 - acc: 0.933 - ETA: 1:46 - loss: 0.1773 - acc: 0.933 - ETA: 1:46 - loss: 0.1772 - acc: 0.933 - ETA: 1:45 - loss: 0.1772 - acc: 0.933 - ETA: 1:45 - loss: 0.1774 - acc: 0.933 - ETA: 1:44 - loss: 0.1774 - acc: 0.933 - ETA: 1:44 - loss: 0.1773 - acc: 0.933 - ETA: 1:43 - loss: 0.1772 - acc: 0.933 - ETA: 1:43 - loss: 0.1770 - acc: 0.933 - ETA: 1:42 - loss: 0.1770 - acc: 0.933 - ETA: 1:41 - loss: 0.1768 - acc: 0.933 - ETA: 1:41 - loss: 0.1769 - acc: 0.933 - ETA: 1:40 - loss: 0.1769 - acc: 0.933 - ETA: 1:40 - loss: 0.1771 - acc: 0.933 - ETA: 1:39 - loss: 0.1774 - acc: 0.932 - ETA: 1:38 - loss: 0.1774 - acc: 0.932 - ETA: 1:38 - loss: 0.1778 - acc: 0.932 - ETA: 1:37 - loss: 0.1778 - acc: 0.932 - ETA: 1:37 - loss: 0.1778 - acc: 0.932 - ETA: 1:36 - loss: 0.1776 - acc: 0.932 - ETA: 1:36 - loss: 0.1776 - acc: 0.932 - ETA: 1:35 - loss: 0.1773 - acc: 0.932 - ETA: 1:34 - loss: 0.1770 - acc: 0.932 - ETA: 1:34 - loss: 0.1770 - acc: 0.932 - ETA: 1:33 - loss: 0.1771 - acc: 0.932 - ETA: 1:33 - loss: 0.1772 - acc: 0.932 - ETA: 1:32 - loss: 0.1772 - acc: 0.932 - ETA: 1:31 - loss: 0.1773 - acc: 0.932 - ETA: 1:31 - loss: 0.1772 - acc: 0.933 - ETA: 1:30 - loss: 0.1775 - acc: 0.932 - ETA: 1:30 - loss: 0.1778 - acc: 0.932 - ETA: 1:29 - loss: 0.1776 - acc: 0.932 - ETA: 1:29 - loss: 0.1777 - acc: 0.932 - ETA: 1:28 - loss: 0.1778 - acc: 0.932 - ETA: 1:27 - loss: 0.1778 - acc: 0.932 - ETA: 1:27 - loss: 0.1775 - acc: 0.932 - ETA: 1:26 - loss: 0.1776 - acc: 0.932 - ETA: 1:26 - loss: 0.1775 - acc: 0.932 - ETA: 1:25 - loss: 0.1779 - acc: 0.932 - ETA: 1:24 - loss: 0.1777 - acc: 0.932 - ETA: 1:24 - loss: 0.1775 - acc: 0.932 - ETA: 1:23 - loss: 0.1778 - acc: 0.932 - ETA: 1:23 - loss: 0.1779 - acc: 0.932 - ETA: 1:22 - loss: 0.1778 - acc: 0.932 - ETA: 1:22 - loss: 0.1777 - acc: 0.932 - ETA: 1:21 - loss: 0.1778 - acc: 0.932 - ETA: 1:20 - loss: 0.1776 - acc: 0.932 - ETA: 1:20 - loss: 0.1776 - acc: 0.932 - ETA: 1:19 - loss: 0.1776 - acc: 0.932 - ETA: 1:19 - loss: 0.1775 - acc: 0.932 - ETA: 1:18 - loss: 0.1775 - acc: 0.932 - ETA: 1:17 - loss: 0.1777 - acc: 0.932 - ETA: 1:17 - loss: 0.1777 - acc: 0.932 - ETA: 1:16 - loss: 0.1777 - acc: 0.932 - ETA: 1:16 - loss: 0.1779 - acc: 0.932 - ETA: 1:15 - loss: 0.1781 - acc: 0.932 - ETA: 1:15 - loss: 0.1781 - acc: 0.932 - ETA: 1:14 - loss: 0.1782 - acc: 0.932 - ETA: 1:13 - loss: 0.1784 - acc: 0.932 - ETA: 1:13 - loss: 0.1782 - acc: 0.932 - ETA: 1:12 - loss: 0.1783 - acc: 0.932 - ETA: 1:12 - loss: 0.1785 - acc: 0.932 - ETA: 1:11 - loss: 0.1786 - acc: 0.932 - ETA: 1:11 - loss: 0.1787 - acc: 0.932 - ETA: 1:10 - loss: 0.1786 - acc: 0.932 - ETA: 1:09 - loss: 0.1785 - acc: 0.931 - ETA: 1:09 - loss: 0.1786 - acc: 0.931 - ETA: 1:08 - loss: 0.1786 - acc: 0.932 - ETA: 1:08 - loss: 0.1789 - acc: 0.931 - ETA: 1:07 - loss: 0.1787 - acc: 0.931 - ETA: 1:06 - loss: 0.1789 - acc: 0.931 - ETA: 1:06 - loss: 0.1792 - acc: 0.931 - ETA: 1:05 - loss: 0.1794 - acc: 0.931 - ETA: 1:05 - loss: 0.1794 - acc: 0.931 - ETA: 1:04 - loss: 0.1798 - acc: 0.931 - ETA: 1:03 - loss: 0.1800 - acc: 0.931 - ETA: 1:03 - loss: 0.1802 - acc: 0.931 - ETA: 1:02 - loss: 0.1801 - acc: 0.931 - ETA: 1:02 - loss: 0.1801 - acc: 0.931 - ETA: 1:01 - loss: 0.1800 - acc: 0.931 - ETA: 1:00 - loss: 0.1801 - acc: 0.931 - ETA: 1:00 - loss: 0.1801 - acc: 0.931 - ETA: 59s - loss: 0.1800 - acc: 0.931 - ETA: 59s - loss: 0.1799 - acc: 0.93 - ETA: 58s - loss: 0.1799 - acc: 0.93 - ETA: 58s - loss: 0.1799 - acc: 0.93 - ETA: 57s - loss: 0.1799 - acc: 0.93 - ETA: 56s - loss: 0.1798 - acc: 0.93 - ETA: 56s - loss: 0.1796 - acc: 0.9315"
     ]
    },
    {
     "name": "stdout",
     "output_type": "stream",
     "text": [
      "32249/32249 [==============================] - ETA: 55s - loss: 0.1795 - acc: 0.93 - ETA: 55s - loss: 0.1796 - acc: 0.93 - ETA: 54s - loss: 0.1799 - acc: 0.93 - ETA: 54s - loss: 0.1798 - acc: 0.93 - ETA: 53s - loss: 0.1798 - acc: 0.93 - ETA: 52s - loss: 0.1798 - acc: 0.93 - ETA: 52s - loss: 0.1802 - acc: 0.93 - ETA: 51s - loss: 0.1803 - acc: 0.93 - ETA: 51s - loss: 0.1802 - acc: 0.93 - ETA: 50s - loss: 0.1801 - acc: 0.93 - ETA: 49s - loss: 0.1801 - acc: 0.93 - ETA: 49s - loss: 0.1801 - acc: 0.93 - ETA: 48s - loss: 0.1800 - acc: 0.93 - ETA: 48s - loss: 0.1799 - acc: 0.93 - ETA: 47s - loss: 0.1801 - acc: 0.93 - ETA: 47s - loss: 0.1805 - acc: 0.93 - ETA: 46s - loss: 0.1806 - acc: 0.93 - ETA: 45s - loss: 0.1809 - acc: 0.93 - ETA: 45s - loss: 0.1812 - acc: 0.93 - ETA: 44s - loss: 0.1811 - acc: 0.93 - ETA: 44s - loss: 0.1812 - acc: 0.93 - ETA: 43s - loss: 0.1811 - acc: 0.93 - ETA: 43s - loss: 0.1813 - acc: 0.93 - ETA: 42s - loss: 0.1816 - acc: 0.93 - ETA: 41s - loss: 0.1817 - acc: 0.93 - ETA: 41s - loss: 0.1815 - acc: 0.93 - ETA: 40s - loss: 0.1815 - acc: 0.93 - ETA: 40s - loss: 0.1816 - acc: 0.93 - ETA: 39s - loss: 0.1815 - acc: 0.93 - ETA: 38s - loss: 0.1812 - acc: 0.93 - ETA: 38s - loss: 0.1812 - acc: 0.93 - ETA: 37s - loss: 0.1812 - acc: 0.93 - ETA: 37s - loss: 0.1813 - acc: 0.93 - ETA: 36s - loss: 0.1815 - acc: 0.93 - ETA: 35s - loss: 0.1812 - acc: 0.93 - ETA: 35s - loss: 0.1817 - acc: 0.93 - ETA: 34s - loss: 0.1817 - acc: 0.93 - ETA: 34s - loss: 0.1817 - acc: 0.93 - ETA: 33s - loss: 0.1816 - acc: 0.93 - ETA: 32s - loss: 0.1815 - acc: 0.93 - ETA: 32s - loss: 0.1814 - acc: 0.93 - ETA: 31s - loss: 0.1815 - acc: 0.93 - ETA: 31s - loss: 0.1815 - acc: 0.93 - ETA: 30s - loss: 0.1815 - acc: 0.93 - ETA: 30s - loss: 0.1814 - acc: 0.93 - ETA: 29s - loss: 0.1814 - acc: 0.93 - ETA: 28s - loss: 0.1818 - acc: 0.93 - ETA: 28s - loss: 0.1818 - acc: 0.93 - ETA: 27s - loss: 0.1817 - acc: 0.93 - ETA: 27s - loss: 0.1816 - acc: 0.93 - ETA: 26s - loss: 0.1816 - acc: 0.93 - ETA: 25s - loss: 0.1817 - acc: 0.93 - ETA: 25s - loss: 0.1817 - acc: 0.93 - ETA: 24s - loss: 0.1817 - acc: 0.93 - ETA: 24s - loss: 0.1816 - acc: 0.93 - ETA: 23s - loss: 0.1818 - acc: 0.93 - ETA: 22s - loss: 0.1817 - acc: 0.93 - ETA: 22s - loss: 0.1820 - acc: 0.93 - ETA: 21s - loss: 0.1818 - acc: 0.93 - ETA: 21s - loss: 0.1818 - acc: 0.93 - ETA: 20s - loss: 0.1817 - acc: 0.93 - ETA: 20s - loss: 0.1817 - acc: 0.93 - ETA: 19s - loss: 0.1819 - acc: 0.93 - ETA: 18s - loss: 0.1819 - acc: 0.93 - ETA: 18s - loss: 0.1818 - acc: 0.93 - ETA: 17s - loss: 0.1819 - acc: 0.93 - ETA: 17s - loss: 0.1818 - acc: 0.93 - ETA: 16s - loss: 0.1819 - acc: 0.93 - ETA: 15s - loss: 0.1818 - acc: 0.93 - ETA: 15s - loss: 0.1817 - acc: 0.93 - ETA: 14s - loss: 0.1816 - acc: 0.93 - ETA: 14s - loss: 0.1816 - acc: 0.93 - ETA: 13s - loss: 0.1817 - acc: 0.93 - ETA: 12s - loss: 0.1818 - acc: 0.93 - ETA: 12s - loss: 0.1817 - acc: 0.93 - ETA: 11s - loss: 0.1818 - acc: 0.93 - ETA: 11s - loss: 0.1816 - acc: 0.93 - ETA: 10s - loss: 0.1818 - acc: 0.93 - ETA: 9s - loss: 0.1817 - acc: 0.9301 - ETA: 9s - loss: 0.1816 - acc: 0.930 - ETA: 8s - loss: 0.1813 - acc: 0.930 - ETA: 8s - loss: 0.1811 - acc: 0.930 - ETA: 7s - loss: 0.1814 - acc: 0.930 - ETA: 7s - loss: 0.1814 - acc: 0.930 - ETA: 6s - loss: 0.1815 - acc: 0.930 - ETA: 5s - loss: 0.1818 - acc: 0.930 - ETA: 5s - loss: 0.1818 - acc: 0.930 - ETA: 4s - loss: 0.1817 - acc: 0.930 - ETA: 4s - loss: 0.1815 - acc: 0.930 - ETA: 3s - loss: 0.1815 - acc: 0.930 - ETA: 2s - loss: 0.1815 - acc: 0.930 - ETA: 2s - loss: 0.1815 - acc: 0.930 - ETA: 1s - loss: 0.1816 - acc: 0.930 - ETA: 1s - loss: 0.1815 - acc: 0.930 - ETA: 0s - loss: 0.1816 - acc: 0.930 - 297s 9ms/step - loss: 0.1817 - acc: 0.9302\n",
      "Epoch 3/5\n"
     ]
    },
    {
     "name": "stdout",
     "output_type": "stream",
     "text": [
      "13056/32249 [===========>..................] - ETA: 5:00 - loss: 0.0815 - acc: 0.984 - ETA: 4:52 - loss: 0.1247 - acc: 0.960 - ETA: 4:50 - loss: 0.1178 - acc: 0.963 - ETA: 4:50 - loss: 0.1102 - acc: 0.972 - ETA: 4:50 - loss: 0.1138 - acc: 0.968 - ETA: 4:53 - loss: 0.1198 - acc: 0.966 - ETA: 4:55 - loss: 0.1191 - acc: 0.966 - ETA: 4:58 - loss: 0.1339 - acc: 0.960 - ETA: 4:59 - loss: 0.1286 - acc: 0.963 - ETA: 4:58 - loss: 0.1283 - acc: 0.962 - ETA: 4:55 - loss: 0.1304 - acc: 0.958 - ETA: 4:54 - loss: 0.1316 - acc: 0.955 - ETA: 4:53 - loss: 0.1259 - acc: 0.957 - ETA: 4:52 - loss: 0.1250 - acc: 0.957 - ETA: 4:48 - loss: 0.1213 - acc: 0.958 - ETA: 4:46 - loss: 0.1221 - acc: 0.957 - ETA: 4:46 - loss: 0.1305 - acc: 0.955 - ETA: 4:46 - loss: 0.1344 - acc: 0.954 - ETA: 4:45 - loss: 0.1302 - acc: 0.955 - ETA: 4:44 - loss: 0.1277 - acc: 0.955 - ETA: 4:43 - loss: 0.1307 - acc: 0.953 - ETA: 4:42 - loss: 0.1280 - acc: 0.954 - ETA: 4:41 - loss: 0.1247 - acc: 0.955 - ETA: 4:40 - loss: 0.1259 - acc: 0.954 - ETA: 4:40 - loss: 0.1260 - acc: 0.955 - ETA: 4:39 - loss: 0.1270 - acc: 0.954 - ETA: 4:39 - loss: 0.1252 - acc: 0.955 - ETA: 4:38 - loss: 0.1259 - acc: 0.954 - ETA: 4:37 - loss: 0.1256 - acc: 0.954 - ETA: 4:36 - loss: 0.1262 - acc: 0.954 - ETA: 4:36 - loss: 0.1298 - acc: 0.954 - ETA: 4:35 - loss: 0.1319 - acc: 0.955 - ETA: 4:35 - loss: 0.1305 - acc: 0.955 - ETA: 4:35 - loss: 0.1292 - acc: 0.955 - ETA: 4:35 - loss: 0.1290 - acc: 0.955 - ETA: 4:35 - loss: 0.1279 - acc: 0.956 - ETA: 4:34 - loss: 0.1276 - acc: 0.956 - ETA: 4:34 - loss: 0.1257 - acc: 0.956 - ETA: 4:33 - loss: 0.1267 - acc: 0.956 - ETA: 4:32 - loss: 0.1275 - acc: 0.955 - ETA: 4:31 - loss: 0.1261 - acc: 0.956 - ETA: 4:31 - loss: 0.1268 - acc: 0.956 - ETA: 4:30 - loss: 0.1272 - acc: 0.955 - ETA: 4:29 - loss: 0.1287 - acc: 0.954 - ETA: 4:28 - loss: 0.1288 - acc: 0.954 - ETA: 4:28 - loss: 0.1292 - acc: 0.954 - ETA: 4:27 - loss: 0.1297 - acc: 0.954 - ETA: 4:26 - loss: 0.1298 - acc: 0.955 - ETA: 4:26 - loss: 0.1307 - acc: 0.955 - ETA: 4:25 - loss: 0.1312 - acc: 0.954 - ETA: 4:24 - loss: 0.1332 - acc: 0.953 - ETA: 4:24 - loss: 0.1343 - acc: 0.953 - ETA: 4:23 - loss: 0.1359 - acc: 0.952 - ETA: 4:22 - loss: 0.1346 - acc: 0.953 - ETA: 4:21 - loss: 0.1338 - acc: 0.953 - ETA: 4:20 - loss: 0.1331 - acc: 0.954 - ETA: 4:19 - loss: 0.1333 - acc: 0.953 - ETA: 4:18 - loss: 0.1328 - acc: 0.953 - ETA: 4:17 - loss: 0.1312 - acc: 0.954 - ETA: 4:17 - loss: 0.1313 - acc: 0.954 - ETA: 4:17 - loss: 0.1330 - acc: 0.953 - ETA: 4:17 - loss: 0.1324 - acc: 0.953 - ETA: 4:17 - loss: 0.1315 - acc: 0.953 - ETA: 4:16 - loss: 0.1305 - acc: 0.954 - ETA: 4:16 - loss: 0.1320 - acc: 0.953 - ETA: 4:15 - loss: 0.1324 - acc: 0.953 - ETA: 4:15 - loss: 0.1320 - acc: 0.953 - ETA: 4:14 - loss: 0.1325 - acc: 0.953 - ETA: 4:14 - loss: 0.1324 - acc: 0.952 - ETA: 4:13 - loss: 0.1325 - acc: 0.952 - ETA: 4:12 - loss: 0.1312 - acc: 0.953 - ETA: 4:12 - loss: 0.1321 - acc: 0.952 - ETA: 4:11 - loss: 0.1322 - acc: 0.952 - ETA: 4:10 - loss: 0.1317 - acc: 0.952 - ETA: 4:10 - loss: 0.1315 - acc: 0.952 - ETA: 4:09 - loss: 0.1312 - acc: 0.952 - ETA: 4:09 - loss: 0.1322 - acc: 0.952 - ETA: 4:08 - loss: 0.1327 - acc: 0.952 - ETA: 4:07 - loss: 0.1325 - acc: 0.951 - ETA: 4:07 - loss: 0.1325 - acc: 0.951 - ETA: 4:06 - loss: 0.1339 - acc: 0.951 - ETA: 4:06 - loss: 0.1335 - acc: 0.951 - ETA: 4:05 - loss: 0.1350 - acc: 0.951 - ETA: 4:04 - loss: 0.1342 - acc: 0.951 - ETA: 4:04 - loss: 0.1346 - acc: 0.951 - ETA: 4:03 - loss: 0.1342 - acc: 0.951 - ETA: 4:03 - loss: 0.1347 - acc: 0.950 - ETA: 4:03 - loss: 0.1349 - acc: 0.950 - ETA: 4:03 - loss: 0.1345 - acc: 0.950 - ETA: 4:03 - loss: 0.1351 - acc: 0.950 - ETA: 4:02 - loss: 0.1342 - acc: 0.951 - ETA: 4:02 - loss: 0.1335 - acc: 0.951 - ETA: 4:01 - loss: 0.1335 - acc: 0.951 - ETA: 4:00 - loss: 0.1336 - acc: 0.951 - ETA: 4:00 - loss: 0.1336 - acc: 0.951 - ETA: 3:59 - loss: 0.1332 - acc: 0.951 - ETA: 3:58 - loss: 0.1334 - acc: 0.951 - ETA: 3:57 - loss: 0.1329 - acc: 0.951 - ETA: 3:56 - loss: 0.1324 - acc: 0.951 - ETA: 3:56 - loss: 0.1325 - acc: 0.951 - ETA: 3:55 - loss: 0.1323 - acc: 0.951 - ETA: 3:54 - loss: 0.1317 - acc: 0.952 - ETA: 3:54 - loss: 0.1312 - acc: 0.952 - ETA: 3:53 - loss: 0.1332 - acc: 0.951 - ETA: 3:53 - loss: 0.1331 - acc: 0.951 - ETA: 3:52 - loss: 0.1322 - acc: 0.952 - ETA: 3:51 - loss: 0.1314 - acc: 0.952 - ETA: 3:51 - loss: 0.1314 - acc: 0.952 - ETA: 3:50 - loss: 0.1307 - acc: 0.952 - ETA: 3:50 - loss: 0.1304 - acc: 0.953 - ETA: 3:49 - loss: 0.1306 - acc: 0.952 - ETA: 3:48 - loss: 0.1303 - acc: 0.952 - ETA: 3:48 - loss: 0.1301 - acc: 0.952 - ETA: 3:47 - loss: 0.1303 - acc: 0.952 - ETA: 3:47 - loss: 0.1295 - acc: 0.953 - ETA: 3:47 - loss: 0.1297 - acc: 0.953 - ETA: 3:46 - loss: 0.1296 - acc: 0.953 - ETA: 3:46 - loss: 0.1297 - acc: 0.953 - ETA: 3:45 - loss: 0.1302 - acc: 0.953 - ETA: 3:45 - loss: 0.1310 - acc: 0.952 - ETA: 3:44 - loss: 0.1317 - acc: 0.952 - ETA: 3:44 - loss: 0.1321 - acc: 0.952 - ETA: 3:43 - loss: 0.1326 - acc: 0.952 - ETA: 3:42 - loss: 0.1324 - acc: 0.952 - ETA: 3:42 - loss: 0.1327 - acc: 0.952 - ETA: 3:41 - loss: 0.1331 - acc: 0.952 - ETA: 3:41 - loss: 0.1328 - acc: 0.952 - ETA: 3:40 - loss: 0.1332 - acc: 0.952 - ETA: 3:40 - loss: 0.1335 - acc: 0.952 - ETA: 3:39 - loss: 0.1338 - acc: 0.952 - ETA: 3:38 - loss: 0.1336 - acc: 0.952 - ETA: 3:38 - loss: 0.1336 - acc: 0.952 - ETA: 3:37 - loss: 0.1342 - acc: 0.951 - ETA: 3:37 - loss: 0.1347 - acc: 0.952 - ETA: 3:36 - loss: 0.1355 - acc: 0.951 - ETA: 3:35 - loss: 0.1363 - acc: 0.950 - ETA: 3:35 - loss: 0.1359 - acc: 0.950 - ETA: 3:34 - loss: 0.1354 - acc: 0.951 - ETA: 3:34 - loss: 0.1364 - acc: 0.951 - ETA: 3:33 - loss: 0.1368 - acc: 0.950 - ETA: 3:32 - loss: 0.1378 - acc: 0.950 - ETA: 3:31 - loss: 0.1381 - acc: 0.950 - ETA: 3:31 - loss: 0.1379 - acc: 0.950 - ETA: 3:30 - loss: 0.1387 - acc: 0.950 - ETA: 3:30 - loss: 0.1392 - acc: 0.950 - ETA: 3:29 - loss: 0.1391 - acc: 0.950 - ETA: 3:29 - loss: 0.1403 - acc: 0.949 - ETA: 3:28 - loss: 0.1405 - acc: 0.949 - ETA: 3:28 - loss: 0.1410 - acc: 0.948 - ETA: 3:27 - loss: 0.1407 - acc: 0.949 - ETA: 3:26 - loss: 0.1406 - acc: 0.949 - ETA: 3:26 - loss: 0.1414 - acc: 0.948 - ETA: 3:25 - loss: 0.1415 - acc: 0.948 - ETA: 3:24 - loss: 0.1423 - acc: 0.948 - ETA: 3:24 - loss: 0.1425 - acc: 0.948 - ETA: 3:23 - loss: 0.1425 - acc: 0.948 - ETA: 3:23 - loss: 0.1424 - acc: 0.948 - ETA: 3:22 - loss: 0.1420 - acc: 0.948 - ETA: 3:22 - loss: 0.1422 - acc: 0.948 - ETA: 3:21 - loss: 0.1424 - acc: 0.948 - ETA: 3:20 - loss: 0.1425 - acc: 0.948 - ETA: 3:20 - loss: 0.1424 - acc: 0.948 - ETA: 3:19 - loss: 0.1421 - acc: 0.948 - ETA: 3:19 - loss: 0.1421 - acc: 0.948 - ETA: 3:18 - loss: 0.1422 - acc: 0.948 - ETA: 3:17 - loss: 0.1420 - acc: 0.948 - ETA: 3:17 - loss: 0.1418 - acc: 0.948 - ETA: 3:16 - loss: 0.1424 - acc: 0.948 - ETA: 3:16 - loss: 0.1424 - acc: 0.948 - ETA: 3:15 - loss: 0.1423 - acc: 0.948 - ETA: 3:15 - loss: 0.1424 - acc: 0.948 - ETA: 3:14 - loss: 0.1421 - acc: 0.948 - ETA: 3:14 - loss: 0.1418 - acc: 0.948 - ETA: 3:13 - loss: 0.1420 - acc: 0.948 - ETA: 3:12 - loss: 0.1421 - acc: 0.948 - ETA: 3:12 - loss: 0.1418 - acc: 0.948 - ETA: 3:11 - loss: 0.1418 - acc: 0.948 - ETA: 3:10 - loss: 0.1424 - acc: 0.947 - ETA: 3:10 - loss: 0.1425 - acc: 0.948 - ETA: 3:09 - loss: 0.1423 - acc: 0.948 - ETA: 3:09 - loss: 0.1427 - acc: 0.947 - ETA: 3:08 - loss: 0.1424 - acc: 0.948 - ETA: 3:07 - loss: 0.1427 - acc: 0.947 - ETA: 3:06 - loss: 0.1432 - acc: 0.947 - ETA: 3:06 - loss: 0.1429 - acc: 0.947 - ETA: 3:05 - loss: 0.1427 - acc: 0.947 - ETA: 3:05 - loss: 0.1434 - acc: 0.947 - ETA: 3:04 - loss: 0.1435 - acc: 0.947 - ETA: 3:03 - loss: 0.1432 - acc: 0.947 - ETA: 3:03 - loss: 0.1434 - acc: 0.947 - ETA: 3:02 - loss: 0.1431 - acc: 0.947 - ETA: 3:02 - loss: 0.1436 - acc: 0.947 - ETA: 3:01 - loss: 0.1439 - acc: 0.947 - ETA: 3:00 - loss: 0.1442 - acc: 0.947 - ETA: 3:00 - loss: 0.1441 - acc: 0.947 - ETA: 2:59 - loss: 0.1440 - acc: 0.947 - ETA: 2:59 - loss: 0.1442 - acc: 0.947 - ETA: 2:58 - loss: 0.1437 - acc: 0.947 - ETA: 2:58 - loss: 0.1437 - acc: 0.947 - ETA: 2:57 - loss: 0.1436 - acc: 0.947 - ETA: 2:57 - loss: 0.1437 - acc: 0.947 - ETA: 2:56 - loss: 0.1439 - acc: 0.947 - ETA: 2:55 - loss: 0.1445 - acc: 0.946 - ETA: 2:55 - loss: 0.1440 - acc: 0.9470"
     ]
    },
    {
     "name": "stdout",
     "output_type": "stream",
     "text": [
      "26112/32249 [=======================>......] - ETA: 2:54 - loss: 0.1439 - acc: 0.947 - ETA: 2:54 - loss: 0.1440 - acc: 0.946 - ETA: 2:53 - loss: 0.1441 - acc: 0.947 - ETA: 2:52 - loss: 0.1437 - acc: 0.947 - ETA: 2:52 - loss: 0.1435 - acc: 0.947 - ETA: 2:51 - loss: 0.1436 - acc: 0.947 - ETA: 2:51 - loss: 0.1435 - acc: 0.947 - ETA: 2:50 - loss: 0.1434 - acc: 0.947 - ETA: 2:49 - loss: 0.1433 - acc: 0.947 - ETA: 2:49 - loss: 0.1434 - acc: 0.947 - ETA: 2:48 - loss: 0.1438 - acc: 0.946 - ETA: 2:48 - loss: 0.1442 - acc: 0.946 - ETA: 2:47 - loss: 0.1439 - acc: 0.946 - ETA: 2:46 - loss: 0.1438 - acc: 0.947 - ETA: 2:46 - loss: 0.1443 - acc: 0.946 - ETA: 2:45 - loss: 0.1443 - acc: 0.947 - ETA: 2:45 - loss: 0.1443 - acc: 0.947 - ETA: 2:44 - loss: 0.1443 - acc: 0.947 - ETA: 2:43 - loss: 0.1438 - acc: 0.947 - ETA: 2:43 - loss: 0.1439 - acc: 0.947 - ETA: 2:42 - loss: 0.1441 - acc: 0.947 - ETA: 2:42 - loss: 0.1445 - acc: 0.947 - ETA: 2:41 - loss: 0.1446 - acc: 0.947 - ETA: 2:40 - loss: 0.1445 - acc: 0.947 - ETA: 2:40 - loss: 0.1444 - acc: 0.947 - ETA: 2:39 - loss: 0.1447 - acc: 0.946 - ETA: 2:39 - loss: 0.1453 - acc: 0.946 - ETA: 2:38 - loss: 0.1455 - acc: 0.946 - ETA: 2:38 - loss: 0.1454 - acc: 0.946 - ETA: 2:37 - loss: 0.1456 - acc: 0.946 - ETA: 2:36 - loss: 0.1455 - acc: 0.946 - ETA: 2:36 - loss: 0.1459 - acc: 0.946 - ETA: 2:35 - loss: 0.1464 - acc: 0.946 - ETA: 2:35 - loss: 0.1470 - acc: 0.946 - ETA: 2:34 - loss: 0.1471 - acc: 0.946 - ETA: 2:33 - loss: 0.1470 - acc: 0.946 - ETA: 2:33 - loss: 0.1471 - acc: 0.946 - ETA: 2:32 - loss: 0.1470 - acc: 0.946 - ETA: 2:32 - loss: 0.1469 - acc: 0.946 - ETA: 2:31 - loss: 0.1471 - acc: 0.946 - ETA: 2:31 - loss: 0.1469 - acc: 0.946 - ETA: 2:30 - loss: 0.1471 - acc: 0.946 - ETA: 2:29 - loss: 0.1471 - acc: 0.946 - ETA: 2:29 - loss: 0.1472 - acc: 0.946 - ETA: 2:28 - loss: 0.1470 - acc: 0.946 - ETA: 2:28 - loss: 0.1469 - acc: 0.946 - ETA: 2:27 - loss: 0.1472 - acc: 0.946 - ETA: 2:26 - loss: 0.1475 - acc: 0.946 - ETA: 2:26 - loss: 0.1472 - acc: 0.946 - ETA: 2:25 - loss: 0.1468 - acc: 0.946 - ETA: 2:25 - loss: 0.1469 - acc: 0.946 - ETA: 2:24 - loss: 0.1468 - acc: 0.946 - ETA: 2:24 - loss: 0.1467 - acc: 0.946 - ETA: 2:23 - loss: 0.1468 - acc: 0.946 - ETA: 2:23 - loss: 0.1468 - acc: 0.946 - ETA: 2:22 - loss: 0.1466 - acc: 0.946 - ETA: 2:21 - loss: 0.1470 - acc: 0.946 - ETA: 2:21 - loss: 0.1470 - acc: 0.946 - ETA: 2:20 - loss: 0.1471 - acc: 0.946 - ETA: 2:20 - loss: 0.1469 - acc: 0.946 - ETA: 2:19 - loss: 0.1471 - acc: 0.946 - ETA: 2:19 - loss: 0.1471 - acc: 0.945 - ETA: 2:18 - loss: 0.1476 - acc: 0.945 - ETA: 2:18 - loss: 0.1482 - acc: 0.945 - ETA: 2:17 - loss: 0.1487 - acc: 0.945 - ETA: 2:17 - loss: 0.1485 - acc: 0.945 - ETA: 2:16 - loss: 0.1487 - acc: 0.945 - ETA: 2:16 - loss: 0.1489 - acc: 0.945 - ETA: 2:15 - loss: 0.1490 - acc: 0.945 - ETA: 2:15 - loss: 0.1490 - acc: 0.944 - ETA: 2:14 - loss: 0.1489 - acc: 0.944 - ETA: 2:14 - loss: 0.1488 - acc: 0.945 - ETA: 2:13 - loss: 0.1487 - acc: 0.945 - ETA: 2:13 - loss: 0.1485 - acc: 0.945 - ETA: 2:12 - loss: 0.1486 - acc: 0.945 - ETA: 2:12 - loss: 0.1485 - acc: 0.945 - ETA: 2:11 - loss: 0.1485 - acc: 0.945 - ETA: 2:11 - loss: 0.1489 - acc: 0.945 - ETA: 2:10 - loss: 0.1489 - acc: 0.945 - ETA: 2:09 - loss: 0.1489 - acc: 0.945 - ETA: 2:09 - loss: 0.1488 - acc: 0.945 - ETA: 2:08 - loss: 0.1488 - acc: 0.945 - ETA: 2:08 - loss: 0.1489 - acc: 0.945 - ETA: 2:07 - loss: 0.1487 - acc: 0.945 - ETA: 2:06 - loss: 0.1490 - acc: 0.945 - ETA: 2:06 - loss: 0.1492 - acc: 0.944 - ETA: 2:05 - loss: 0.1494 - acc: 0.944 - ETA: 2:05 - loss: 0.1494 - acc: 0.944 - ETA: 2:04 - loss: 0.1493 - acc: 0.944 - ETA: 2:03 - loss: 0.1494 - acc: 0.944 - ETA: 2:03 - loss: 0.1494 - acc: 0.944 - ETA: 2:02 - loss: 0.1493 - acc: 0.944 - ETA: 2:02 - loss: 0.1492 - acc: 0.944 - ETA: 2:01 - loss: 0.1492 - acc: 0.944 - ETA: 2:00 - loss: 0.1491 - acc: 0.944 - ETA: 2:00 - loss: 0.1491 - acc: 0.944 - ETA: 1:59 - loss: 0.1493 - acc: 0.944 - ETA: 1:59 - loss: 0.1494 - acc: 0.944 - ETA: 1:58 - loss: 0.1493 - acc: 0.944 - ETA: 1:57 - loss: 0.1495 - acc: 0.944 - ETA: 1:57 - loss: 0.1496 - acc: 0.944 - ETA: 1:56 - loss: 0.1495 - acc: 0.944 - ETA: 1:56 - loss: 0.1495 - acc: 0.944 - ETA: 1:55 - loss: 0.1493 - acc: 0.944 - ETA: 1:55 - loss: 0.1499 - acc: 0.944 - ETA: 1:54 - loss: 0.1497 - acc: 0.944 - ETA: 1:53 - loss: 0.1494 - acc: 0.944 - ETA: 1:53 - loss: 0.1491 - acc: 0.945 - ETA: 1:52 - loss: 0.1495 - acc: 0.944 - ETA: 1:52 - loss: 0.1496 - acc: 0.944 - ETA: 1:51 - loss: 0.1497 - acc: 0.944 - ETA: 1:50 - loss: 0.1495 - acc: 0.944 - ETA: 1:50 - loss: 0.1496 - acc: 0.944 - ETA: 1:49 - loss: 0.1495 - acc: 0.944 - ETA: 1:49 - loss: 0.1498 - acc: 0.944 - ETA: 1:48 - loss: 0.1498 - acc: 0.944 - ETA: 1:47 - loss: 0.1497 - acc: 0.944 - ETA: 1:47 - loss: 0.1496 - acc: 0.944 - ETA: 1:46 - loss: 0.1497 - acc: 0.944 - ETA: 1:46 - loss: 0.1497 - acc: 0.944 - ETA: 1:45 - loss: 0.1498 - acc: 0.944 - ETA: 1:44 - loss: 0.1496 - acc: 0.944 - ETA: 1:44 - loss: 0.1498 - acc: 0.944 - ETA: 1:43 - loss: 0.1498 - acc: 0.944 - ETA: 1:43 - loss: 0.1499 - acc: 0.944 - ETA: 1:42 - loss: 0.1501 - acc: 0.944 - ETA: 1:41 - loss: 0.1500 - acc: 0.944 - ETA: 1:41 - loss: 0.1504 - acc: 0.944 - ETA: 1:40 - loss: 0.1503 - acc: 0.944 - ETA: 1:40 - loss: 0.1506 - acc: 0.944 - ETA: 1:39 - loss: 0.1505 - acc: 0.944 - ETA: 1:39 - loss: 0.1505 - acc: 0.944 - ETA: 1:38 - loss: 0.1504 - acc: 0.944 - ETA: 1:37 - loss: 0.1502 - acc: 0.944 - ETA: 1:37 - loss: 0.1501 - acc: 0.944 - ETA: 1:36 - loss: 0.1502 - acc: 0.944 - ETA: 1:36 - loss: 0.1499 - acc: 0.944 - ETA: 1:35 - loss: 0.1497 - acc: 0.944 - ETA: 1:34 - loss: 0.1500 - acc: 0.944 - ETA: 1:34 - loss: 0.1501 - acc: 0.944 - ETA: 1:33 - loss: 0.1501 - acc: 0.944 - ETA: 1:33 - loss: 0.1500 - acc: 0.944 - ETA: 1:32 - loss: 0.1501 - acc: 0.944 - ETA: 1:31 - loss: 0.1501 - acc: 0.944 - ETA: 1:31 - loss: 0.1498 - acc: 0.944 - ETA: 1:30 - loss: 0.1498 - acc: 0.944 - ETA: 1:30 - loss: 0.1500 - acc: 0.944 - ETA: 1:29 - loss: 0.1500 - acc: 0.944 - ETA: 1:28 - loss: 0.1503 - acc: 0.944 - ETA: 1:28 - loss: 0.1502 - acc: 0.944 - ETA: 1:27 - loss: 0.1502 - acc: 0.944 - ETA: 1:27 - loss: 0.1500 - acc: 0.944 - ETA: 1:26 - loss: 0.1501 - acc: 0.944 - ETA: 1:25 - loss: 0.1502 - acc: 0.944 - ETA: 1:25 - loss: 0.1501 - acc: 0.944 - ETA: 1:24 - loss: 0.1499 - acc: 0.944 - ETA: 1:24 - loss: 0.1499 - acc: 0.944 - ETA: 1:23 - loss: 0.1497 - acc: 0.944 - ETA: 1:23 - loss: 0.1497 - acc: 0.944 - ETA: 1:22 - loss: 0.1496 - acc: 0.944 - ETA: 1:21 - loss: 0.1499 - acc: 0.944 - ETA: 1:21 - loss: 0.1501 - acc: 0.944 - ETA: 1:20 - loss: 0.1501 - acc: 0.944 - ETA: 1:20 - loss: 0.1498 - acc: 0.944 - ETA: 1:19 - loss: 0.1499 - acc: 0.944 - ETA: 1:18 - loss: 0.1497 - acc: 0.944 - ETA: 1:18 - loss: 0.1495 - acc: 0.945 - ETA: 1:17 - loss: 0.1494 - acc: 0.944 - ETA: 1:17 - loss: 0.1492 - acc: 0.945 - ETA: 1:16 - loss: 0.1496 - acc: 0.944 - ETA: 1:15 - loss: 0.1496 - acc: 0.944 - ETA: 1:15 - loss: 0.1498 - acc: 0.944 - ETA: 1:14 - loss: 0.1501 - acc: 0.944 - ETA: 1:14 - loss: 0.1505 - acc: 0.944 - ETA: 1:13 - loss: 0.1505 - acc: 0.944 - ETA: 1:12 - loss: 0.1507 - acc: 0.944 - ETA: 1:12 - loss: 0.1507 - acc: 0.944 - ETA: 1:11 - loss: 0.1508 - acc: 0.944 - ETA: 1:11 - loss: 0.1509 - acc: 0.944 - ETA: 1:10 - loss: 0.1513 - acc: 0.943 - ETA: 1:09 - loss: 0.1514 - acc: 0.943 - ETA: 1:09 - loss: 0.1512 - acc: 0.943 - ETA: 1:08 - loss: 0.1513 - acc: 0.943 - ETA: 1:08 - loss: 0.1513 - acc: 0.943 - ETA: 1:07 - loss: 0.1512 - acc: 0.943 - ETA: 1:07 - loss: 0.1513 - acc: 0.943 - ETA: 1:06 - loss: 0.1511 - acc: 0.944 - ETA: 1:05 - loss: 0.1511 - acc: 0.944 - ETA: 1:05 - loss: 0.1512 - acc: 0.944 - ETA: 1:04 - loss: 0.1514 - acc: 0.943 - ETA: 1:04 - loss: 0.1516 - acc: 0.943 - ETA: 1:03 - loss: 0.1520 - acc: 0.943 - ETA: 1:02 - loss: 0.1521 - acc: 0.943 - ETA: 1:02 - loss: 0.1519 - acc: 0.943 - ETA: 1:01 - loss: 0.1520 - acc: 0.943 - ETA: 1:01 - loss: 0.1520 - acc: 0.943 - ETA: 1:00 - loss: 0.1520 - acc: 0.943 - ETA: 59s - loss: 0.1518 - acc: 0.943 - ETA: 59s - loss: 0.1520 - acc: 0.94 - ETA: 58s - loss: 0.1520 - acc: 0.94 - ETA: 58s - loss: 0.1523 - acc: 0.94 - ETA: 57s - loss: 0.1526 - acc: 0.94 - ETA: 56s - loss: 0.1528 - acc: 0.94 - ETA: 56s - loss: 0.1529 - acc: 0.9434"
     ]
    },
    {
     "name": "stdout",
     "output_type": "stream",
     "text": [
      "32249/32249 [==============================] - ETA: 55s - loss: 0.1530 - acc: 0.94 - ETA: 55s - loss: 0.1534 - acc: 0.94 - ETA: 54s - loss: 0.1533 - acc: 0.94 - ETA: 54s - loss: 0.1532 - acc: 0.94 - ETA: 53s - loss: 0.1530 - acc: 0.94 - ETA: 52s - loss: 0.1531 - acc: 0.94 - ETA: 52s - loss: 0.1530 - acc: 0.94 - ETA: 51s - loss: 0.1528 - acc: 0.94 - ETA: 51s - loss: 0.1528 - acc: 0.94 - ETA: 50s - loss: 0.1530 - acc: 0.94 - ETA: 49s - loss: 0.1535 - acc: 0.94 - ETA: 49s - loss: 0.1533 - acc: 0.94 - ETA: 48s - loss: 0.1532 - acc: 0.94 - ETA: 48s - loss: 0.1534 - acc: 0.94 - ETA: 47s - loss: 0.1534 - acc: 0.94 - ETA: 46s - loss: 0.1534 - acc: 0.94 - ETA: 46s - loss: 0.1532 - acc: 0.94 - ETA: 45s - loss: 0.1532 - acc: 0.94 - ETA: 45s - loss: 0.1532 - acc: 0.94 - ETA: 44s - loss: 0.1532 - acc: 0.94 - ETA: 44s - loss: 0.1531 - acc: 0.94 - ETA: 43s - loss: 0.1532 - acc: 0.94 - ETA: 42s - loss: 0.1531 - acc: 0.94 - ETA: 42s - loss: 0.1530 - acc: 0.94 - ETA: 41s - loss: 0.1530 - acc: 0.94 - ETA: 41s - loss: 0.1530 - acc: 0.94 - ETA: 40s - loss: 0.1530 - acc: 0.94 - ETA: 39s - loss: 0.1532 - acc: 0.94 - ETA: 39s - loss: 0.1530 - acc: 0.94 - ETA: 38s - loss: 0.1529 - acc: 0.94 - ETA: 38s - loss: 0.1533 - acc: 0.94 - ETA: 37s - loss: 0.1534 - acc: 0.94 - ETA: 36s - loss: 0.1534 - acc: 0.94 - ETA: 36s - loss: 0.1534 - acc: 0.94 - ETA: 35s - loss: 0.1534 - acc: 0.94 - ETA: 35s - loss: 0.1533 - acc: 0.94 - ETA: 34s - loss: 0.1531 - acc: 0.94 - ETA: 34s - loss: 0.1532 - acc: 0.94 - ETA: 33s - loss: 0.1532 - acc: 0.94 - ETA: 32s - loss: 0.1531 - acc: 0.94 - ETA: 32s - loss: 0.1533 - acc: 0.94 - ETA: 31s - loss: 0.1535 - acc: 0.94 - ETA: 31s - loss: 0.1535 - acc: 0.94 - ETA: 30s - loss: 0.1535 - acc: 0.94 - ETA: 29s - loss: 0.1534 - acc: 0.94 - ETA: 29s - loss: 0.1533 - acc: 0.94 - ETA: 28s - loss: 0.1536 - acc: 0.94 - ETA: 28s - loss: 0.1538 - acc: 0.94 - ETA: 27s - loss: 0.1537 - acc: 0.94 - ETA: 26s - loss: 0.1537 - acc: 0.94 - ETA: 26s - loss: 0.1536 - acc: 0.94 - ETA: 25s - loss: 0.1538 - acc: 0.94 - ETA: 25s - loss: 0.1539 - acc: 0.94 - ETA: 24s - loss: 0.1539 - acc: 0.94 - ETA: 24s - loss: 0.1538 - acc: 0.94 - ETA: 23s - loss: 0.1537 - acc: 0.94 - ETA: 22s - loss: 0.1537 - acc: 0.94 - ETA: 22s - loss: 0.1537 - acc: 0.94 - ETA: 21s - loss: 0.1536 - acc: 0.94 - ETA: 21s - loss: 0.1534 - acc: 0.94 - ETA: 20s - loss: 0.1536 - acc: 0.94 - ETA: 19s - loss: 0.1537 - acc: 0.94 - ETA: 19s - loss: 0.1536 - acc: 0.94 - ETA: 18s - loss: 0.1536 - acc: 0.94 - ETA: 18s - loss: 0.1535 - acc: 0.94 - ETA: 17s - loss: 0.1534 - acc: 0.94 - ETA: 16s - loss: 0.1534 - acc: 0.94 - ETA: 16s - loss: 0.1533 - acc: 0.94 - ETA: 15s - loss: 0.1533 - acc: 0.94 - ETA: 15s - loss: 0.1532 - acc: 0.94 - ETA: 14s - loss: 0.1531 - acc: 0.94 - ETA: 14s - loss: 0.1531 - acc: 0.94 - ETA: 13s - loss: 0.1531 - acc: 0.94 - ETA: 12s - loss: 0.1530 - acc: 0.94 - ETA: 12s - loss: 0.1530 - acc: 0.94 - ETA: 11s - loss: 0.1529 - acc: 0.94 - ETA: 11s - loss: 0.1529 - acc: 0.94 - ETA: 10s - loss: 0.1528 - acc: 0.94 - ETA: 9s - loss: 0.1527 - acc: 0.9427 - ETA: 9s - loss: 0.1526 - acc: 0.942 - ETA: 8s - loss: 0.1528 - acc: 0.942 - ETA: 8s - loss: 0.1533 - acc: 0.942 - ETA: 7s - loss: 0.1532 - acc: 0.942 - ETA: 6s - loss: 0.1531 - acc: 0.942 - ETA: 6s - loss: 0.1529 - acc: 0.942 - ETA: 5s - loss: 0.1528 - acc: 0.942 - ETA: 5s - loss: 0.1532 - acc: 0.942 - ETA: 4s - loss: 0.1532 - acc: 0.942 - ETA: 4s - loss: 0.1531 - acc: 0.942 - ETA: 3s - loss: 0.1530 - acc: 0.942 - ETA: 2s - loss: 0.1531 - acc: 0.942 - ETA: 2s - loss: 0.1530 - acc: 0.942 - ETA: 1s - loss: 0.1530 - acc: 0.942 - ETA: 1s - loss: 0.1534 - acc: 0.942 - ETA: 0s - loss: 0.1534 - acc: 0.942 - 297s 9ms/step - loss: 0.1532 - acc: 0.9425\n",
      "Epoch 4/5\n"
     ]
    },
    {
     "name": "stdout",
     "output_type": "stream",
     "text": [
      "13056/32249 [===========>..................] - ETA: 4:55 - loss: 0.1746 - acc: 0.953 - ETA: 4:56 - loss: 0.1379 - acc: 0.953 - ETA: 4:57 - loss: 0.1258 - acc: 0.958 - ETA: 4:56 - loss: 0.1307 - acc: 0.957 - ETA: 4:55 - loss: 0.1255 - acc: 0.956 - ETA: 4:55 - loss: 0.1161 - acc: 0.960 - ETA: 4:53 - loss: 0.1135 - acc: 0.962 - ETA: 4:52 - loss: 0.1106 - acc: 0.960 - ETA: 4:50 - loss: 0.1187 - acc: 0.951 - ETA: 4:49 - loss: 0.1136 - acc: 0.953 - ETA: 4:48 - loss: 0.1216 - acc: 0.950 - ETA: 4:47 - loss: 0.1146 - acc: 0.954 - ETA: 4:45 - loss: 0.1106 - acc: 0.955 - ETA: 4:42 - loss: 0.1082 - acc: 0.956 - ETA: 4:40 - loss: 0.1077 - acc: 0.956 - ETA: 4:40 - loss: 0.1150 - acc: 0.956 - ETA: 4:40 - loss: 0.1142 - acc: 0.955 - ETA: 4:39 - loss: 0.1106 - acc: 0.957 - ETA: 4:40 - loss: 0.1082 - acc: 0.958 - ETA: 4:42 - loss: 0.1124 - acc: 0.957 - ETA: 4:43 - loss: 0.1133 - acc: 0.957 - ETA: 4:45 - loss: 0.1128 - acc: 0.957 - ETA: 4:47 - loss: 0.1122 - acc: 0.957 - ETA: 4:46 - loss: 0.1108 - acc: 0.958 - ETA: 4:46 - loss: 0.1106 - acc: 0.958 - ETA: 4:45 - loss: 0.1112 - acc: 0.958 - ETA: 4:45 - loss: 0.1088 - acc: 0.960 - ETA: 4:44 - loss: 0.1072 - acc: 0.960 - ETA: 4:44 - loss: 0.1108 - acc: 0.959 - ETA: 4:43 - loss: 0.1150 - acc: 0.958 - ETA: 4:42 - loss: 0.1160 - acc: 0.958 - ETA: 4:41 - loss: 0.1156 - acc: 0.959 - ETA: 4:40 - loss: 0.1149 - acc: 0.959 - ETA: 4:39 - loss: 0.1155 - acc: 0.958 - ETA: 4:39 - loss: 0.1139 - acc: 0.958 - ETA: 4:38 - loss: 0.1125 - acc: 0.959 - ETA: 4:37 - loss: 0.1118 - acc: 0.959 - ETA: 4:37 - loss: 0.1110 - acc: 0.960 - ETA: 4:36 - loss: 0.1118 - acc: 0.959 - ETA: 4:35 - loss: 0.1122 - acc: 0.959 - ETA: 4:35 - loss: 0.1132 - acc: 0.959 - ETA: 4:34 - loss: 0.1170 - acc: 0.958 - ETA: 4:33 - loss: 0.1170 - acc: 0.957 - ETA: 4:33 - loss: 0.1156 - acc: 0.958 - ETA: 4:32 - loss: 0.1164 - acc: 0.958 - ETA: 4:32 - loss: 0.1166 - acc: 0.958 - ETA: 4:32 - loss: 0.1162 - acc: 0.958 - ETA: 4:32 - loss: 0.1170 - acc: 0.958 - ETA: 4:31 - loss: 0.1178 - acc: 0.958 - ETA: 4:30 - loss: 0.1180 - acc: 0.958 - ETA: 4:29 - loss: 0.1174 - acc: 0.958 - ETA: 4:29 - loss: 0.1175 - acc: 0.959 - ETA: 4:28 - loss: 0.1186 - acc: 0.958 - ETA: 4:27 - loss: 0.1179 - acc: 0.959 - ETA: 4:26 - loss: 0.1182 - acc: 0.958 - ETA: 4:25 - loss: 0.1183 - acc: 0.958 - ETA: 4:23 - loss: 0.1210 - acc: 0.958 - ETA: 4:23 - loss: 0.1219 - acc: 0.956 - ETA: 4:22 - loss: 0.1216 - acc: 0.957 - ETA: 4:22 - loss: 0.1216 - acc: 0.957 - ETA: 4:21 - loss: 0.1218 - acc: 0.957 - ETA: 4:20 - loss: 0.1230 - acc: 0.957 - ETA: 4:19 - loss: 0.1225 - acc: 0.957 - ETA: 4:19 - loss: 0.1220 - acc: 0.957 - ETA: 4:18 - loss: 0.1214 - acc: 0.957 - ETA: 4:18 - loss: 0.1215 - acc: 0.957 - ETA: 4:17 - loss: 0.1208 - acc: 0.957 - ETA: 4:16 - loss: 0.1198 - acc: 0.958 - ETA: 4:16 - loss: 0.1199 - acc: 0.957 - ETA: 4:15 - loss: 0.1194 - acc: 0.958 - ETA: 4:14 - loss: 0.1202 - acc: 0.958 - ETA: 4:14 - loss: 0.1201 - acc: 0.958 - ETA: 4:13 - loss: 0.1204 - acc: 0.958 - ETA: 4:13 - loss: 0.1202 - acc: 0.958 - ETA: 4:13 - loss: 0.1210 - acc: 0.957 - ETA: 4:13 - loss: 0.1199 - acc: 0.958 - ETA: 4:12 - loss: 0.1191 - acc: 0.958 - ETA: 4:11 - loss: 0.1199 - acc: 0.958 - ETA: 4:11 - loss: 0.1196 - acc: 0.958 - ETA: 4:10 - loss: 0.1194 - acc: 0.958 - ETA: 4:09 - loss: 0.1194 - acc: 0.958 - ETA: 4:09 - loss: 0.1192 - acc: 0.958 - ETA: 4:08 - loss: 0.1191 - acc: 0.958 - ETA: 4:07 - loss: 0.1183 - acc: 0.958 - ETA: 4:07 - loss: 0.1185 - acc: 0.958 - ETA: 4:06 - loss: 0.1185 - acc: 0.958 - ETA: 4:05 - loss: 0.1182 - acc: 0.958 - ETA: 4:05 - loss: 0.1186 - acc: 0.958 - ETA: 4:04 - loss: 0.1187 - acc: 0.958 - ETA: 4:03 - loss: 0.1189 - acc: 0.957 - ETA: 4:03 - loss: 0.1188 - acc: 0.957 - ETA: 4:02 - loss: 0.1190 - acc: 0.957 - ETA: 4:01 - loss: 0.1184 - acc: 0.958 - ETA: 4:01 - loss: 0.1180 - acc: 0.957 - ETA: 4:00 - loss: 0.1182 - acc: 0.957 - ETA: 3:59 - loss: 0.1180 - acc: 0.957 - ETA: 3:59 - loss: 0.1175 - acc: 0.957 - ETA: 3:58 - loss: 0.1173 - acc: 0.957 - ETA: 3:57 - loss: 0.1168 - acc: 0.958 - ETA: 3:56 - loss: 0.1164 - acc: 0.958 - ETA: 3:56 - loss: 0.1165 - acc: 0.957 - ETA: 3:55 - loss: 0.1163 - acc: 0.957 - ETA: 3:55 - loss: 0.1165 - acc: 0.957 - ETA: 3:54 - loss: 0.1172 - acc: 0.957 - ETA: 3:54 - loss: 0.1180 - acc: 0.957 - ETA: 3:53 - loss: 0.1184 - acc: 0.957 - ETA: 3:53 - loss: 0.1183 - acc: 0.956 - ETA: 3:52 - loss: 0.1185 - acc: 0.956 - ETA: 3:51 - loss: 0.1184 - acc: 0.957 - ETA: 3:51 - loss: 0.1195 - acc: 0.956 - ETA: 3:50 - loss: 0.1198 - acc: 0.956 - ETA: 3:50 - loss: 0.1196 - acc: 0.956 - ETA: 3:49 - loss: 0.1202 - acc: 0.956 - ETA: 3:48 - loss: 0.1200 - acc: 0.956 - ETA: 3:48 - loss: 0.1210 - acc: 0.956 - ETA: 3:47 - loss: 0.1215 - acc: 0.956 - ETA: 3:47 - loss: 0.1208 - acc: 0.956 - ETA: 3:46 - loss: 0.1205 - acc: 0.956 - ETA: 3:45 - loss: 0.1201 - acc: 0.956 - ETA: 3:45 - loss: 0.1196 - acc: 0.956 - ETA: 3:44 - loss: 0.1197 - acc: 0.956 - ETA: 3:44 - loss: 0.1200 - acc: 0.956 - ETA: 3:43 - loss: 0.1206 - acc: 0.956 - ETA: 3:42 - loss: 0.1206 - acc: 0.956 - ETA: 3:42 - loss: 0.1202 - acc: 0.956 - ETA: 3:41 - loss: 0.1208 - acc: 0.956 - ETA: 3:41 - loss: 0.1207 - acc: 0.956 - ETA: 3:40 - loss: 0.1207 - acc: 0.956 - ETA: 3:40 - loss: 0.1205 - acc: 0.956 - ETA: 3:39 - loss: 0.1201 - acc: 0.957 - ETA: 3:39 - loss: 0.1206 - acc: 0.956 - ETA: 3:38 - loss: 0.1207 - acc: 0.956 - ETA: 3:38 - loss: 0.1205 - acc: 0.956 - ETA: 3:37 - loss: 0.1210 - acc: 0.956 - ETA: 3:36 - loss: 0.1212 - acc: 0.956 - ETA: 3:36 - loss: 0.1208 - acc: 0.956 - ETA: 3:35 - loss: 0.1207 - acc: 0.956 - ETA: 3:34 - loss: 0.1204 - acc: 0.956 - ETA: 3:34 - loss: 0.1199 - acc: 0.956 - ETA: 3:33 - loss: 0.1193 - acc: 0.957 - ETA: 3:32 - loss: 0.1197 - acc: 0.957 - ETA: 3:32 - loss: 0.1192 - acc: 0.957 - ETA: 3:31 - loss: 0.1197 - acc: 0.956 - ETA: 3:30 - loss: 0.1196 - acc: 0.956 - ETA: 3:30 - loss: 0.1202 - acc: 0.956 - ETA: 3:29 - loss: 0.1202 - acc: 0.956 - ETA: 3:28 - loss: 0.1200 - acc: 0.956 - ETA: 3:28 - loss: 0.1200 - acc: 0.956 - ETA: 3:27 - loss: 0.1204 - acc: 0.956 - ETA: 3:27 - loss: 0.1200 - acc: 0.956 - ETA: 3:26 - loss: 0.1200 - acc: 0.956 - ETA: 3:26 - loss: 0.1203 - acc: 0.956 - ETA: 3:25 - loss: 0.1201 - acc: 0.956 - ETA: 3:24 - loss: 0.1206 - acc: 0.956 - ETA: 3:24 - loss: 0.1201 - acc: 0.956 - ETA: 3:23 - loss: 0.1204 - acc: 0.955 - ETA: 3:23 - loss: 0.1210 - acc: 0.955 - ETA: 3:22 - loss: 0.1211 - acc: 0.955 - ETA: 3:22 - loss: 0.1214 - acc: 0.955 - ETA: 3:21 - loss: 0.1212 - acc: 0.955 - ETA: 3:21 - loss: 0.1209 - acc: 0.955 - ETA: 3:20 - loss: 0.1206 - acc: 0.955 - ETA: 3:20 - loss: 0.1205 - acc: 0.955 - ETA: 3:19 - loss: 0.1210 - acc: 0.955 - ETA: 3:18 - loss: 0.1206 - acc: 0.955 - ETA: 3:18 - loss: 0.1205 - acc: 0.955 - ETA: 3:17 - loss: 0.1207 - acc: 0.955 - ETA: 3:17 - loss: 0.1212 - acc: 0.955 - ETA: 3:16 - loss: 0.1210 - acc: 0.955 - ETA: 3:15 - loss: 0.1206 - acc: 0.955 - ETA: 3:15 - loss: 0.1204 - acc: 0.955 - ETA: 3:14 - loss: 0.1209 - acc: 0.955 - ETA: 3:14 - loss: 0.1206 - acc: 0.955 - ETA: 3:13 - loss: 0.1201 - acc: 0.956 - ETA: 3:12 - loss: 0.1208 - acc: 0.955 - ETA: 3:12 - loss: 0.1205 - acc: 0.955 - ETA: 3:11 - loss: 0.1205 - acc: 0.955 - ETA: 3:11 - loss: 0.1203 - acc: 0.956 - ETA: 3:10 - loss: 0.1198 - acc: 0.956 - ETA: 3:09 - loss: 0.1194 - acc: 0.956 - ETA: 3:09 - loss: 0.1194 - acc: 0.956 - ETA: 3:08 - loss: 0.1192 - acc: 0.956 - ETA: 3:07 - loss: 0.1193 - acc: 0.956 - ETA: 3:07 - loss: 0.1197 - acc: 0.955 - ETA: 3:06 - loss: 0.1200 - acc: 0.955 - ETA: 3:06 - loss: 0.1198 - acc: 0.956 - ETA: 3:05 - loss: 0.1198 - acc: 0.956 - ETA: 3:05 - loss: 0.1198 - acc: 0.955 - ETA: 3:04 - loss: 0.1196 - acc: 0.956 - ETA: 3:03 - loss: 0.1192 - acc: 0.956 - ETA: 3:03 - loss: 0.1199 - acc: 0.956 - ETA: 3:02 - loss: 0.1196 - acc: 0.956 - ETA: 3:02 - loss: 0.1196 - acc: 0.956 - ETA: 3:01 - loss: 0.1194 - acc: 0.956 - ETA: 3:00 - loss: 0.1189 - acc: 0.956 - ETA: 3:00 - loss: 0.1186 - acc: 0.956 - ETA: 2:59 - loss: 0.1185 - acc: 0.956 - ETA: 2:59 - loss: 0.1186 - acc: 0.956 - ETA: 2:58 - loss: 0.1188 - acc: 0.956 - ETA: 2:58 - loss: 0.1186 - acc: 0.956 - ETA: 2:57 - loss: 0.1191 - acc: 0.956 - ETA: 2:56 - loss: 0.1192 - acc: 0.956 - ETA: 2:56 - loss: 0.1190 - acc: 0.956 - ETA: 2:55 - loss: 0.1188 - acc: 0.9563"
     ]
    },
    {
     "name": "stdout",
     "output_type": "stream",
     "text": [
      "26112/32249 [=======================>......] - ETA: 2:55 - loss: 0.1187 - acc: 0.956 - ETA: 2:54 - loss: 0.1188 - acc: 0.956 - ETA: 2:53 - loss: 0.1192 - acc: 0.956 - ETA: 2:53 - loss: 0.1200 - acc: 0.956 - ETA: 2:52 - loss: 0.1202 - acc: 0.956 - ETA: 2:52 - loss: 0.1204 - acc: 0.956 - ETA: 2:51 - loss: 0.1203 - acc: 0.955 - ETA: 2:51 - loss: 0.1211 - acc: 0.955 - ETA: 2:50 - loss: 0.1207 - acc: 0.955 - ETA: 2:49 - loss: 0.1210 - acc: 0.955 - ETA: 2:49 - loss: 0.1209 - acc: 0.955 - ETA: 2:48 - loss: 0.1211 - acc: 0.955 - ETA: 2:48 - loss: 0.1211 - acc: 0.955 - ETA: 2:47 - loss: 0.1211 - acc: 0.955 - ETA: 2:47 - loss: 0.1210 - acc: 0.955 - ETA: 2:46 - loss: 0.1212 - acc: 0.955 - ETA: 2:45 - loss: 0.1211 - acc: 0.955 - ETA: 2:45 - loss: 0.1210 - acc: 0.955 - ETA: 2:44 - loss: 0.1211 - acc: 0.955 - ETA: 2:43 - loss: 0.1214 - acc: 0.955 - ETA: 2:43 - loss: 0.1216 - acc: 0.955 - ETA: 2:42 - loss: 0.1215 - acc: 0.955 - ETA: 2:42 - loss: 0.1216 - acc: 0.955 - ETA: 2:41 - loss: 0.1215 - acc: 0.955 - ETA: 2:40 - loss: 0.1215 - acc: 0.955 - ETA: 2:40 - loss: 0.1212 - acc: 0.955 - ETA: 2:39 - loss: 0.1210 - acc: 0.955 - ETA: 2:39 - loss: 0.1209 - acc: 0.955 - ETA: 2:38 - loss: 0.1210 - acc: 0.955 - ETA: 2:37 - loss: 0.1210 - acc: 0.955 - ETA: 2:37 - loss: 0.1220 - acc: 0.955 - ETA: 2:36 - loss: 0.1220 - acc: 0.955 - ETA: 2:36 - loss: 0.1222 - acc: 0.955 - ETA: 2:35 - loss: 0.1218 - acc: 0.955 - ETA: 2:35 - loss: 0.1217 - acc: 0.955 - ETA: 2:34 - loss: 0.1217 - acc: 0.955 - ETA: 2:33 - loss: 0.1220 - acc: 0.955 - ETA: 2:33 - loss: 0.1222 - acc: 0.955 - ETA: 2:32 - loss: 0.1220 - acc: 0.955 - ETA: 2:32 - loss: 0.1220 - acc: 0.955 - ETA: 2:31 - loss: 0.1223 - acc: 0.955 - ETA: 2:30 - loss: 0.1227 - acc: 0.955 - ETA: 2:30 - loss: 0.1225 - acc: 0.955 - ETA: 2:29 - loss: 0.1226 - acc: 0.955 - ETA: 2:29 - loss: 0.1228 - acc: 0.955 - ETA: 2:28 - loss: 0.1230 - acc: 0.955 - ETA: 2:28 - loss: 0.1231 - acc: 0.955 - ETA: 2:27 - loss: 0.1229 - acc: 0.955 - ETA: 2:26 - loss: 0.1227 - acc: 0.955 - ETA: 2:26 - loss: 0.1230 - acc: 0.955 - ETA: 2:25 - loss: 0.1227 - acc: 0.955 - ETA: 2:25 - loss: 0.1229 - acc: 0.955 - ETA: 2:24 - loss: 0.1227 - acc: 0.955 - ETA: 2:23 - loss: 0.1225 - acc: 0.955 - ETA: 2:23 - loss: 0.1223 - acc: 0.955 - ETA: 2:22 - loss: 0.1224 - acc: 0.955 - ETA: 2:22 - loss: 0.1224 - acc: 0.955 - ETA: 2:21 - loss: 0.1225 - acc: 0.955 - ETA: 2:20 - loss: 0.1224 - acc: 0.955 - ETA: 2:20 - loss: 0.1226 - acc: 0.955 - ETA: 2:19 - loss: 0.1226 - acc: 0.955 - ETA: 2:19 - loss: 0.1226 - acc: 0.955 - ETA: 2:18 - loss: 0.1225 - acc: 0.955 - ETA: 2:18 - loss: 0.1225 - acc: 0.955 - ETA: 2:17 - loss: 0.1222 - acc: 0.955 - ETA: 2:16 - loss: 0.1222 - acc: 0.955 - ETA: 2:16 - loss: 0.1219 - acc: 0.955 - ETA: 2:15 - loss: 0.1219 - acc: 0.955 - ETA: 2:15 - loss: 0.1218 - acc: 0.955 - ETA: 2:14 - loss: 0.1220 - acc: 0.955 - ETA: 2:13 - loss: 0.1218 - acc: 0.955 - ETA: 2:13 - loss: 0.1214 - acc: 0.956 - ETA: 2:12 - loss: 0.1214 - acc: 0.955 - ETA: 2:12 - loss: 0.1214 - acc: 0.955 - ETA: 2:11 - loss: 0.1214 - acc: 0.955 - ETA: 2:10 - loss: 0.1211 - acc: 0.956 - ETA: 2:10 - loss: 0.1211 - acc: 0.956 - ETA: 2:09 - loss: 0.1216 - acc: 0.955 - ETA: 2:09 - loss: 0.1217 - acc: 0.955 - ETA: 2:08 - loss: 0.1217 - acc: 0.955 - ETA: 2:07 - loss: 0.1216 - acc: 0.955 - ETA: 2:07 - loss: 0.1218 - acc: 0.955 - ETA: 2:06 - loss: 0.1220 - acc: 0.955 - ETA: 2:06 - loss: 0.1219 - acc: 0.955 - ETA: 2:05 - loss: 0.1221 - acc: 0.955 - ETA: 2:05 - loss: 0.1223 - acc: 0.955 - ETA: 2:04 - loss: 0.1222 - acc: 0.955 - ETA: 2:03 - loss: 0.1225 - acc: 0.955 - ETA: 2:03 - loss: 0.1224 - acc: 0.955 - ETA: 2:02 - loss: 0.1228 - acc: 0.955 - ETA: 2:02 - loss: 0.1229 - acc: 0.955 - ETA: 2:01 - loss: 0.1228 - acc: 0.955 - ETA: 2:01 - loss: 0.1228 - acc: 0.955 - ETA: 2:00 - loss: 0.1228 - acc: 0.955 - ETA: 1:59 - loss: 0.1228 - acc: 0.955 - ETA: 1:59 - loss: 0.1227 - acc: 0.955 - ETA: 1:58 - loss: 0.1229 - acc: 0.955 - ETA: 1:58 - loss: 0.1231 - acc: 0.955 - ETA: 1:57 - loss: 0.1233 - acc: 0.955 - ETA: 1:57 - loss: 0.1235 - acc: 0.955 - ETA: 1:56 - loss: 0.1234 - acc: 0.955 - ETA: 1:55 - loss: 0.1234 - acc: 0.955 - ETA: 1:55 - loss: 0.1231 - acc: 0.955 - ETA: 1:54 - loss: 0.1229 - acc: 0.955 - ETA: 1:54 - loss: 0.1229 - acc: 0.955 - ETA: 1:53 - loss: 0.1227 - acc: 0.955 - ETA: 1:52 - loss: 0.1229 - acc: 0.955 - ETA: 1:52 - loss: 0.1231 - acc: 0.955 - ETA: 1:51 - loss: 0.1237 - acc: 0.955 - ETA: 1:51 - loss: 0.1238 - acc: 0.955 - ETA: 1:50 - loss: 0.1238 - acc: 0.955 - ETA: 1:49 - loss: 0.1238 - acc: 0.955 - ETA: 1:49 - loss: 0.1236 - acc: 0.955 - ETA: 1:48 - loss: 0.1234 - acc: 0.955 - ETA: 1:48 - loss: 0.1239 - acc: 0.955 - ETA: 1:47 - loss: 0.1240 - acc: 0.954 - ETA: 1:47 - loss: 0.1241 - acc: 0.954 - ETA: 1:46 - loss: 0.1240 - acc: 0.954 - ETA: 1:45 - loss: 0.1239 - acc: 0.955 - ETA: 1:45 - loss: 0.1239 - acc: 0.955 - ETA: 1:44 - loss: 0.1241 - acc: 0.954 - ETA: 1:44 - loss: 0.1240 - acc: 0.954 - ETA: 1:43 - loss: 0.1238 - acc: 0.955 - ETA: 1:42 - loss: 0.1237 - acc: 0.955 - ETA: 1:42 - loss: 0.1239 - acc: 0.955 - ETA: 1:41 - loss: 0.1238 - acc: 0.955 - ETA: 1:41 - loss: 0.1236 - acc: 0.955 - ETA: 1:40 - loss: 0.1235 - acc: 0.955 - ETA: 1:39 - loss: 0.1234 - acc: 0.955 - ETA: 1:39 - loss: 0.1235 - acc: 0.955 - ETA: 1:38 - loss: 0.1233 - acc: 0.955 - ETA: 1:38 - loss: 0.1235 - acc: 0.955 - ETA: 1:37 - loss: 0.1235 - acc: 0.955 - ETA: 1:37 - loss: 0.1239 - acc: 0.954 - ETA: 1:36 - loss: 0.1240 - acc: 0.954 - ETA: 1:35 - loss: 0.1243 - acc: 0.954 - ETA: 1:35 - loss: 0.1242 - acc: 0.954 - ETA: 1:34 - loss: 0.1242 - acc: 0.954 - ETA: 1:34 - loss: 0.1243 - acc: 0.954 - ETA: 1:33 - loss: 0.1245 - acc: 0.954 - ETA: 1:32 - loss: 0.1248 - acc: 0.954 - ETA: 1:32 - loss: 0.1247 - acc: 0.954 - ETA: 1:31 - loss: 0.1249 - acc: 0.954 - ETA: 1:31 - loss: 0.1252 - acc: 0.954 - ETA: 1:30 - loss: 0.1251 - acc: 0.954 - ETA: 1:30 - loss: 0.1251 - acc: 0.954 - ETA: 1:29 - loss: 0.1250 - acc: 0.954 - ETA: 1:28 - loss: 0.1251 - acc: 0.954 - ETA: 1:28 - loss: 0.1252 - acc: 0.954 - ETA: 1:27 - loss: 0.1253 - acc: 0.954 - ETA: 1:27 - loss: 0.1252 - acc: 0.954 - ETA: 1:26 - loss: 0.1251 - acc: 0.954 - ETA: 1:25 - loss: 0.1251 - acc: 0.954 - ETA: 1:25 - loss: 0.1252 - acc: 0.954 - ETA: 1:24 - loss: 0.1251 - acc: 0.954 - ETA: 1:24 - loss: 0.1250 - acc: 0.954 - ETA: 1:23 - loss: 0.1251 - acc: 0.953 - ETA: 1:22 - loss: 0.1256 - acc: 0.953 - ETA: 1:22 - loss: 0.1255 - acc: 0.953 - ETA: 1:21 - loss: 0.1255 - acc: 0.953 - ETA: 1:21 - loss: 0.1256 - acc: 0.953 - ETA: 1:20 - loss: 0.1255 - acc: 0.953 - ETA: 1:20 - loss: 0.1257 - acc: 0.953 - ETA: 1:19 - loss: 0.1258 - acc: 0.953 - ETA: 1:18 - loss: 0.1259 - acc: 0.953 - ETA: 1:18 - loss: 0.1261 - acc: 0.953 - ETA: 1:17 - loss: 0.1260 - acc: 0.953 - ETA: 1:17 - loss: 0.1262 - acc: 0.953 - ETA: 1:16 - loss: 0.1263 - acc: 0.953 - ETA: 1:15 - loss: 0.1264 - acc: 0.953 - ETA: 1:15 - loss: 0.1262 - acc: 0.953 - ETA: 1:14 - loss: 0.1266 - acc: 0.953 - ETA: 1:14 - loss: 0.1266 - acc: 0.953 - ETA: 1:13 - loss: 0.1267 - acc: 0.953 - ETA: 1:13 - loss: 0.1269 - acc: 0.953 - ETA: 1:12 - loss: 0.1270 - acc: 0.953 - ETA: 1:11 - loss: 0.1270 - acc: 0.953 - ETA: 1:11 - loss: 0.1273 - acc: 0.953 - ETA: 1:10 - loss: 0.1273 - acc: 0.953 - ETA: 1:10 - loss: 0.1272 - acc: 0.953 - ETA: 1:09 - loss: 0.1271 - acc: 0.953 - ETA: 1:08 - loss: 0.1271 - acc: 0.953 - ETA: 1:08 - loss: 0.1271 - acc: 0.953 - ETA: 1:07 - loss: 0.1270 - acc: 0.953 - ETA: 1:07 - loss: 0.1272 - acc: 0.953 - ETA: 1:06 - loss: 0.1273 - acc: 0.953 - ETA: 1:06 - loss: 0.1272 - acc: 0.953 - ETA: 1:05 - loss: 0.1272 - acc: 0.953 - ETA: 1:04 - loss: 0.1273 - acc: 0.953 - ETA: 1:04 - loss: 0.1272 - acc: 0.953 - ETA: 1:03 - loss: 0.1272 - acc: 0.953 - ETA: 1:03 - loss: 0.1272 - acc: 0.953 - ETA: 1:02 - loss: 0.1272 - acc: 0.953 - ETA: 1:01 - loss: 0.1272 - acc: 0.953 - ETA: 1:01 - loss: 0.1271 - acc: 0.953 - ETA: 1:00 - loss: 0.1271 - acc: 0.953 - ETA: 1:00 - loss: 0.1271 - acc: 0.953 - ETA: 59s - loss: 0.1273 - acc: 0.953 - ETA: 58s - loss: 0.1274 - acc: 0.95 - ETA: 58s - loss: 0.1274 - acc: 0.95 - ETA: 57s - loss: 0.1273 - acc: 0.95 - ETA: 57s - loss: 0.1274 - acc: 0.95 - ETA: 56s - loss: 0.1274 - acc: 0.95 - ETA: 56s - loss: 0.1273 - acc: 0.9531"
     ]
    },
    {
     "name": "stdout",
     "output_type": "stream",
     "text": [
      "32249/32249 [==============================] - ETA: 55s - loss: 0.1272 - acc: 0.95 - ETA: 54s - loss: 0.1274 - acc: 0.95 - ETA: 54s - loss: 0.1273 - acc: 0.95 - ETA: 53s - loss: 0.1272 - acc: 0.95 - ETA: 53s - loss: 0.1272 - acc: 0.95 - ETA: 52s - loss: 0.1272 - acc: 0.95 - ETA: 51s - loss: 0.1274 - acc: 0.95 - ETA: 51s - loss: 0.1275 - acc: 0.95 - ETA: 50s - loss: 0.1275 - acc: 0.95 - ETA: 50s - loss: 0.1276 - acc: 0.95 - ETA: 49s - loss: 0.1278 - acc: 0.95 - ETA: 49s - loss: 0.1277 - acc: 0.95 - ETA: 48s - loss: 0.1276 - acc: 0.95 - ETA: 47s - loss: 0.1279 - acc: 0.95 - ETA: 47s - loss: 0.1277 - acc: 0.95 - ETA: 46s - loss: 0.1276 - acc: 0.95 - ETA: 46s - loss: 0.1279 - acc: 0.95 - ETA: 45s - loss: 0.1281 - acc: 0.95 - ETA: 44s - loss: 0.1285 - acc: 0.95 - ETA: 44s - loss: 0.1284 - acc: 0.95 - ETA: 43s - loss: 0.1287 - acc: 0.95 - ETA: 43s - loss: 0.1286 - acc: 0.95 - ETA: 42s - loss: 0.1286 - acc: 0.95 - ETA: 42s - loss: 0.1288 - acc: 0.95 - ETA: 41s - loss: 0.1288 - acc: 0.95 - ETA: 40s - loss: 0.1288 - acc: 0.95 - ETA: 40s - loss: 0.1288 - acc: 0.95 - ETA: 39s - loss: 0.1289 - acc: 0.95 - ETA: 39s - loss: 0.1288 - acc: 0.95 - ETA: 38s - loss: 0.1289 - acc: 0.95 - ETA: 37s - loss: 0.1291 - acc: 0.95 - ETA: 37s - loss: 0.1290 - acc: 0.95 - ETA: 36s - loss: 0.1291 - acc: 0.95 - ETA: 36s - loss: 0.1290 - acc: 0.95 - ETA: 35s - loss: 0.1289 - acc: 0.95 - ETA: 35s - loss: 0.1289 - acc: 0.95 - ETA: 34s - loss: 0.1288 - acc: 0.95 - ETA: 33s - loss: 0.1292 - acc: 0.95 - ETA: 33s - loss: 0.1292 - acc: 0.95 - ETA: 32s - loss: 0.1292 - acc: 0.95 - ETA: 32s - loss: 0.1293 - acc: 0.95 - ETA: 31s - loss: 0.1291 - acc: 0.95 - ETA: 30s - loss: 0.1292 - acc: 0.95 - ETA: 30s - loss: 0.1294 - acc: 0.95 - ETA: 29s - loss: 0.1294 - acc: 0.95 - ETA: 29s - loss: 0.1297 - acc: 0.95 - ETA: 28s - loss: 0.1295 - acc: 0.95 - ETA: 27s - loss: 0.1296 - acc: 0.95 - ETA: 27s - loss: 0.1296 - acc: 0.95 - ETA: 26s - loss: 0.1297 - acc: 0.95 - ETA: 26s - loss: 0.1295 - acc: 0.95 - ETA: 25s - loss: 0.1295 - acc: 0.95 - ETA: 25s - loss: 0.1296 - acc: 0.95 - ETA: 24s - loss: 0.1297 - acc: 0.95 - ETA: 23s - loss: 0.1298 - acc: 0.95 - ETA: 23s - loss: 0.1299 - acc: 0.95 - ETA: 22s - loss: 0.1298 - acc: 0.95 - ETA: 22s - loss: 0.1300 - acc: 0.95 - ETA: 21s - loss: 0.1299 - acc: 0.95 - ETA: 20s - loss: 0.1301 - acc: 0.95 - ETA: 20s - loss: 0.1302 - acc: 0.95 - ETA: 19s - loss: 0.1300 - acc: 0.95 - ETA: 19s - loss: 0.1301 - acc: 0.95 - ETA: 18s - loss: 0.1303 - acc: 0.95 - ETA: 18s - loss: 0.1302 - acc: 0.95 - ETA: 17s - loss: 0.1305 - acc: 0.95 - ETA: 16s - loss: 0.1306 - acc: 0.95 - ETA: 16s - loss: 0.1305 - acc: 0.95 - ETA: 15s - loss: 0.1305 - acc: 0.95 - ETA: 15s - loss: 0.1305 - acc: 0.95 - ETA: 14s - loss: 0.1306 - acc: 0.95 - ETA: 13s - loss: 0.1306 - acc: 0.95 - ETA: 13s - loss: 0.1306 - acc: 0.95 - ETA: 12s - loss: 0.1308 - acc: 0.95 - ETA: 12s - loss: 0.1307 - acc: 0.95 - ETA: 11s - loss: 0.1308 - acc: 0.95 - ETA: 11s - loss: 0.1307 - acc: 0.95 - ETA: 10s - loss: 0.1306 - acc: 0.95 - ETA: 9s - loss: 0.1308 - acc: 0.9516 - ETA: 9s - loss: 0.1311 - acc: 0.951 - ETA: 8s - loss: 0.1311 - acc: 0.951 - ETA: 8s - loss: 0.1312 - acc: 0.951 - ETA: 7s - loss: 0.1312 - acc: 0.951 - ETA: 6s - loss: 0.1312 - acc: 0.951 - ETA: 6s - loss: 0.1312 - acc: 0.951 - ETA: 5s - loss: 0.1315 - acc: 0.951 - ETA: 5s - loss: 0.1318 - acc: 0.951 - ETA: 4s - loss: 0.1320 - acc: 0.951 - ETA: 4s - loss: 0.1320 - acc: 0.951 - ETA: 3s - loss: 0.1319 - acc: 0.951 - ETA: 2s - loss: 0.1319 - acc: 0.951 - ETA: 2s - loss: 0.1318 - acc: 0.951 - ETA: 1s - loss: 0.1318 - acc: 0.951 - ETA: 1s - loss: 0.1318 - acc: 0.951 - ETA: 0s - loss: 0.1319 - acc: 0.951 - 294s 9ms/step - loss: 0.1319 - acc: 0.9514\n",
      "Epoch 5/5\n"
     ]
    },
    {
     "name": "stdout",
     "output_type": "stream",
     "text": [
      "13056/32249 [===========>..................] - ETA: 4:51 - loss: 0.0580 - acc: 0.984 - ETA: 4:49 - loss: 0.0533 - acc: 0.992 - ETA: 4:47 - loss: 0.0576 - acc: 0.984 - ETA: 4:47 - loss: 0.0781 - acc: 0.976 - ETA: 4:46 - loss: 0.0765 - acc: 0.978 - ETA: 4:45 - loss: 0.0879 - acc: 0.971 - ETA: 4:45 - loss: 0.0875 - acc: 0.971 - ETA: 4:48 - loss: 0.0929 - acc: 0.966 - ETA: 4:50 - loss: 0.0913 - acc: 0.967 - ETA: 4:52 - loss: 0.0859 - acc: 0.970 - ETA: 4:51 - loss: 0.0860 - acc: 0.970 - ETA: 4:50 - loss: 0.0898 - acc: 0.967 - ETA: 4:47 - loss: 0.0849 - acc: 0.970 - ETA: 4:44 - loss: 0.0860 - acc: 0.968 - ETA: 4:41 - loss: 0.0839 - acc: 0.969 - ETA: 4:41 - loss: 0.0827 - acc: 0.970 - ETA: 4:40 - loss: 0.0842 - acc: 0.970 - ETA: 4:40 - loss: 0.0841 - acc: 0.970 - ETA: 4:39 - loss: 0.0865 - acc: 0.969 - ETA: 4:38 - loss: 0.0860 - acc: 0.970 - ETA: 4:38 - loss: 0.0855 - acc: 0.971 - ETA: 4:37 - loss: 0.0835 - acc: 0.972 - ETA: 4:37 - loss: 0.0846 - acc: 0.972 - ETA: 4:36 - loss: 0.0843 - acc: 0.972 - ETA: 4:36 - loss: 0.0871 - acc: 0.971 - ETA: 4:35 - loss: 0.0893 - acc: 0.970 - ETA: 4:34 - loss: 0.0896 - acc: 0.969 - ETA: 4:34 - loss: 0.0907 - acc: 0.968 - ETA: 4:33 - loss: 0.0898 - acc: 0.968 - ETA: 4:33 - loss: 0.0893 - acc: 0.968 - ETA: 4:32 - loss: 0.0919 - acc: 0.967 - ETA: 4:32 - loss: 0.0953 - acc: 0.966 - ETA: 4:31 - loss: 0.0941 - acc: 0.967 - ETA: 4:31 - loss: 0.0938 - acc: 0.967 - ETA: 4:30 - loss: 0.0952 - acc: 0.967 - ETA: 4:31 - loss: 0.0956 - acc: 0.967 - ETA: 4:31 - loss: 0.0976 - acc: 0.967 - ETA: 4:31 - loss: 0.0981 - acc: 0.967 - ETA: 4:30 - loss: 0.0967 - acc: 0.967 - ETA: 4:30 - loss: 0.0958 - acc: 0.968 - ETA: 4:29 - loss: 0.0956 - acc: 0.968 - ETA: 4:29 - loss: 0.0961 - acc: 0.967 - ETA: 4:28 - loss: 0.0961 - acc: 0.968 - ETA: 4:27 - loss: 0.0957 - acc: 0.968 - ETA: 4:27 - loss: 0.0946 - acc: 0.968 - ETA: 4:26 - loss: 0.0938 - acc: 0.968 - ETA: 4:25 - loss: 0.0928 - acc: 0.969 - ETA: 4:25 - loss: 0.0947 - acc: 0.968 - ETA: 4:24 - loss: 0.0951 - acc: 0.968 - ETA: 4:23 - loss: 0.0950 - acc: 0.968 - ETA: 4:22 - loss: 0.0952 - acc: 0.968 - ETA: 4:22 - loss: 0.0950 - acc: 0.968 - ETA: 4:21 - loss: 0.0952 - acc: 0.968 - ETA: 4:20 - loss: 0.0954 - acc: 0.968 - ETA: 4:20 - loss: 0.0941 - acc: 0.968 - ETA: 4:18 - loss: 0.0945 - acc: 0.968 - ETA: 4:17 - loss: 0.0940 - acc: 0.968 - ETA: 4:16 - loss: 0.0945 - acc: 0.968 - ETA: 4:16 - loss: 0.0935 - acc: 0.969 - ETA: 4:15 - loss: 0.0938 - acc: 0.969 - ETA: 4:15 - loss: 0.0936 - acc: 0.969 - ETA: 4:14 - loss: 0.0932 - acc: 0.969 - ETA: 4:14 - loss: 0.0927 - acc: 0.969 - ETA: 4:13 - loss: 0.0920 - acc: 0.969 - ETA: 4:13 - loss: 0.0921 - acc: 0.969 - ETA: 4:13 - loss: 0.0915 - acc: 0.969 - ETA: 4:12 - loss: 0.0937 - acc: 0.969 - ETA: 4:12 - loss: 0.0931 - acc: 0.969 - ETA: 4:11 - loss: 0.0926 - acc: 0.969 - ETA: 4:11 - loss: 0.0925 - acc: 0.969 - ETA: 4:10 - loss: 0.0929 - acc: 0.969 - ETA: 4:10 - loss: 0.0930 - acc: 0.968 - ETA: 4:09 - loss: 0.0925 - acc: 0.969 - ETA: 4:08 - loss: 0.0926 - acc: 0.969 - ETA: 4:08 - loss: 0.0924 - acc: 0.969 - ETA: 4:07 - loss: 0.0918 - acc: 0.969 - ETA: 4:07 - loss: 0.0924 - acc: 0.969 - ETA: 4:06 - loss: 0.0918 - acc: 0.969 - ETA: 4:06 - loss: 0.0918 - acc: 0.969 - ETA: 4:05 - loss: 0.0912 - acc: 0.970 - ETA: 4:04 - loss: 0.0920 - acc: 0.969 - ETA: 4:04 - loss: 0.0935 - acc: 0.969 - ETA: 4:03 - loss: 0.0935 - acc: 0.969 - ETA: 4:03 - loss: 0.0933 - acc: 0.969 - ETA: 4:02 - loss: 0.0931 - acc: 0.969 - ETA: 4:01 - loss: 0.0925 - acc: 0.969 - ETA: 4:01 - loss: 0.0936 - acc: 0.969 - ETA: 4:00 - loss: 0.0933 - acc: 0.969 - ETA: 4:00 - loss: 0.0932 - acc: 0.969 - ETA: 3:59 - loss: 0.0940 - acc: 0.969 - ETA: 3:59 - loss: 0.0934 - acc: 0.969 - ETA: 3:58 - loss: 0.0938 - acc: 0.969 - ETA: 3:58 - loss: 0.0940 - acc: 0.969 - ETA: 3:57 - loss: 0.0945 - acc: 0.969 - ETA: 3:57 - loss: 0.0943 - acc: 0.969 - ETA: 3:56 - loss: 0.0948 - acc: 0.968 - ETA: 3:56 - loss: 0.0950 - acc: 0.968 - ETA: 3:55 - loss: 0.0950 - acc: 0.968 - ETA: 3:54 - loss: 0.0951 - acc: 0.968 - ETA: 3:53 - loss: 0.0968 - acc: 0.968 - ETA: 3:53 - loss: 0.0977 - acc: 0.967 - ETA: 3:52 - loss: 0.0980 - acc: 0.967 - ETA: 3:51 - loss: 0.0984 - acc: 0.967 - ETA: 3:51 - loss: 0.0981 - acc: 0.967 - ETA: 3:50 - loss: 0.0984 - acc: 0.967 - ETA: 3:50 - loss: 0.0983 - acc: 0.967 - ETA: 3:49 - loss: 0.0984 - acc: 0.967 - ETA: 3:48 - loss: 0.0993 - acc: 0.966 - ETA: 3:48 - loss: 0.1000 - acc: 0.966 - ETA: 3:47 - loss: 0.0999 - acc: 0.966 - ETA: 3:47 - loss: 0.1004 - acc: 0.966 - ETA: 3:46 - loss: 0.1005 - acc: 0.966 - ETA: 3:46 - loss: 0.1007 - acc: 0.966 - ETA: 3:45 - loss: 0.1013 - acc: 0.966 - ETA: 3:44 - loss: 0.1017 - acc: 0.965 - ETA: 3:44 - loss: 0.1016 - acc: 0.965 - ETA: 3:43 - loss: 0.1018 - acc: 0.965 - ETA: 3:43 - loss: 0.1017 - acc: 0.965 - ETA: 3:42 - loss: 0.1021 - acc: 0.965 - ETA: 3:42 - loss: 0.1028 - acc: 0.965 - ETA: 3:42 - loss: 0.1029 - acc: 0.964 - ETA: 3:41 - loss: 0.1026 - acc: 0.964 - ETA: 3:40 - loss: 0.1027 - acc: 0.964 - ETA: 3:40 - loss: 0.1024 - acc: 0.964 - ETA: 3:39 - loss: 0.1023 - acc: 0.964 - ETA: 3:39 - loss: 0.1019 - acc: 0.965 - ETA: 3:38 - loss: 0.1028 - acc: 0.964 - ETA: 3:38 - loss: 0.1024 - acc: 0.965 - ETA: 3:37 - loss: 0.1019 - acc: 0.965 - ETA: 3:37 - loss: 0.1015 - acc: 0.965 - ETA: 3:36 - loss: 0.1026 - acc: 0.965 - ETA: 3:35 - loss: 0.1022 - acc: 0.965 - ETA: 3:35 - loss: 0.1018 - acc: 0.965 - ETA: 3:34 - loss: 0.1017 - acc: 0.965 - ETA: 3:34 - loss: 0.1012 - acc: 0.965 - ETA: 3:33 - loss: 0.1010 - acc: 0.965 - ETA: 3:33 - loss: 0.1007 - acc: 0.965 - ETA: 3:32 - loss: 0.1016 - acc: 0.965 - ETA: 3:31 - loss: 0.1014 - acc: 0.965 - ETA: 3:31 - loss: 0.1010 - acc: 0.965 - ETA: 3:30 - loss: 0.1016 - acc: 0.965 - ETA: 3:29 - loss: 0.1015 - acc: 0.965 - ETA: 3:29 - loss: 0.1013 - acc: 0.965 - ETA: 3:28 - loss: 0.1015 - acc: 0.965 - ETA: 3:28 - loss: 0.1013 - acc: 0.965 - ETA: 3:27 - loss: 0.1018 - acc: 0.965 - ETA: 3:27 - loss: 0.1019 - acc: 0.965 - ETA: 3:26 - loss: 0.1015 - acc: 0.965 - ETA: 3:26 - loss: 0.1018 - acc: 0.965 - ETA: 3:25 - loss: 0.1014 - acc: 0.965 - ETA: 3:25 - loss: 0.1019 - acc: 0.965 - ETA: 3:24 - loss: 0.1016 - acc: 0.965 - ETA: 3:24 - loss: 0.1020 - acc: 0.965 - ETA: 3:23 - loss: 0.1033 - acc: 0.965 - ETA: 3:22 - loss: 0.1033 - acc: 0.965 - ETA: 3:22 - loss: 0.1038 - acc: 0.964 - ETA: 3:21 - loss: 0.1038 - acc: 0.964 - ETA: 3:21 - loss: 0.1038 - acc: 0.964 - ETA: 3:20 - loss: 0.1038 - acc: 0.964 - ETA: 3:19 - loss: 0.1037 - acc: 0.964 - ETA: 3:19 - loss: 0.1039 - acc: 0.964 - ETA: 3:18 - loss: 0.1037 - acc: 0.964 - ETA: 3:18 - loss: 0.1037 - acc: 0.964 - ETA: 3:17 - loss: 0.1038 - acc: 0.964 - ETA: 3:17 - loss: 0.1041 - acc: 0.964 - ETA: 3:16 - loss: 0.1041 - acc: 0.964 - ETA: 3:16 - loss: 0.1040 - acc: 0.964 - ETA: 3:15 - loss: 0.1043 - acc: 0.964 - ETA: 3:15 - loss: 0.1039 - acc: 0.964 - ETA: 3:14 - loss: 0.1042 - acc: 0.964 - ETA: 3:13 - loss: 0.1039 - acc: 0.964 - ETA: 3:13 - loss: 0.1039 - acc: 0.964 - ETA: 3:13 - loss: 0.1037 - acc: 0.964 - ETA: 3:12 - loss: 0.1033 - acc: 0.964 - ETA: 3:12 - loss: 0.1032 - acc: 0.964 - ETA: 3:11 - loss: 0.1031 - acc: 0.964 - ETA: 3:11 - loss: 0.1032 - acc: 0.964 - ETA: 3:10 - loss: 0.1031 - acc: 0.964 - ETA: 3:09 - loss: 0.1026 - acc: 0.964 - ETA: 3:09 - loss: 0.1026 - acc: 0.964 - ETA: 3:08 - loss: 0.1022 - acc: 0.964 - ETA: 3:08 - loss: 0.1028 - acc: 0.964 - ETA: 3:07 - loss: 0.1025 - acc: 0.964 - ETA: 3:06 - loss: 0.1021 - acc: 0.964 - ETA: 3:06 - loss: 0.1018 - acc: 0.964 - ETA: 3:05 - loss: 0.1019 - acc: 0.964 - ETA: 3:05 - loss: 0.1018 - acc: 0.964 - ETA: 3:04 - loss: 0.1020 - acc: 0.964 - ETA: 3:03 - loss: 0.1019 - acc: 0.964 - ETA: 3:03 - loss: 0.1020 - acc: 0.964 - ETA: 3:02 - loss: 0.1018 - acc: 0.964 - ETA: 3:02 - loss: 0.1014 - acc: 0.964 - ETA: 3:01 - loss: 0.1013 - acc: 0.964 - ETA: 3:01 - loss: 0.1012 - acc: 0.964 - ETA: 3:00 - loss: 0.1016 - acc: 0.964 - ETA: 2:59 - loss: 0.1015 - acc: 0.964 - ETA: 2:59 - loss: 0.1016 - acc: 0.964 - ETA: 2:58 - loss: 0.1018 - acc: 0.964 - ETA: 2:58 - loss: 0.1018 - acc: 0.964 - ETA: 2:57 - loss: 0.1014 - acc: 0.964 - ETA: 2:57 - loss: 0.1016 - acc: 0.964 - ETA: 2:56 - loss: 0.1015 - acc: 0.965 - ETA: 2:56 - loss: 0.1017 - acc: 0.964 - ETA: 2:55 - loss: 0.1018 - acc: 0.9647"
     ]
    },
    {
     "name": "stdout",
     "output_type": "stream",
     "text": [
      "26112/32249 [=======================>......] - ETA: 2:55 - loss: 0.1021 - acc: 0.964 - ETA: 2:54 - loss: 0.1017 - acc: 0.964 - ETA: 2:53 - loss: 0.1019 - acc: 0.964 - ETA: 2:53 - loss: 0.1020 - acc: 0.964 - ETA: 2:52 - loss: 0.1019 - acc: 0.964 - ETA: 2:52 - loss: 0.1018 - acc: 0.964 - ETA: 2:51 - loss: 0.1020 - acc: 0.964 - ETA: 2:50 - loss: 0.1021 - acc: 0.964 - ETA: 2:50 - loss: 0.1019 - acc: 0.964 - ETA: 2:49 - loss: 0.1018 - acc: 0.964 - ETA: 2:49 - loss: 0.1022 - acc: 0.964 - ETA: 2:48 - loss: 0.1021 - acc: 0.964 - ETA: 2:48 - loss: 0.1025 - acc: 0.964 - ETA: 2:47 - loss: 0.1023 - acc: 0.964 - ETA: 2:46 - loss: 0.1020 - acc: 0.964 - ETA: 2:46 - loss: 0.1018 - acc: 0.964 - ETA: 2:45 - loss: 0.1019 - acc: 0.964 - ETA: 2:45 - loss: 0.1019 - acc: 0.964 - ETA: 2:44 - loss: 0.1020 - acc: 0.964 - ETA: 2:43 - loss: 0.1019 - acc: 0.964 - ETA: 2:43 - loss: 0.1019 - acc: 0.964 - ETA: 2:42 - loss: 0.1016 - acc: 0.964 - ETA: 2:42 - loss: 0.1018 - acc: 0.964 - ETA: 2:41 - loss: 0.1016 - acc: 0.964 - ETA: 2:40 - loss: 0.1013 - acc: 0.964 - ETA: 2:40 - loss: 0.1014 - acc: 0.964 - ETA: 2:39 - loss: 0.1013 - acc: 0.964 - ETA: 2:39 - loss: 0.1021 - acc: 0.964 - ETA: 2:38 - loss: 0.1020 - acc: 0.964 - ETA: 2:38 - loss: 0.1020 - acc: 0.964 - ETA: 2:37 - loss: 0.1019 - acc: 0.964 - ETA: 2:36 - loss: 0.1022 - acc: 0.964 - ETA: 2:36 - loss: 0.1024 - acc: 0.964 - ETA: 2:35 - loss: 0.1022 - acc: 0.964 - ETA: 2:35 - loss: 0.1026 - acc: 0.964 - ETA: 2:34 - loss: 0.1025 - acc: 0.964 - ETA: 2:33 - loss: 0.1027 - acc: 0.964 - ETA: 2:33 - loss: 0.1028 - acc: 0.964 - ETA: 2:32 - loss: 0.1027 - acc: 0.964 - ETA: 2:32 - loss: 0.1027 - acc: 0.964 - ETA: 2:31 - loss: 0.1033 - acc: 0.964 - ETA: 2:31 - loss: 0.1034 - acc: 0.964 - ETA: 2:30 - loss: 0.1036 - acc: 0.964 - ETA: 2:29 - loss: 0.1035 - acc: 0.964 - ETA: 2:29 - loss: 0.1036 - acc: 0.964 - ETA: 2:28 - loss: 0.1033 - acc: 0.964 - ETA: 2:28 - loss: 0.1039 - acc: 0.964 - ETA: 2:27 - loss: 0.1038 - acc: 0.964 - ETA: 2:26 - loss: 0.1039 - acc: 0.964 - ETA: 2:26 - loss: 0.1038 - acc: 0.964 - ETA: 2:25 - loss: 0.1037 - acc: 0.964 - ETA: 2:25 - loss: 0.1039 - acc: 0.964 - ETA: 2:24 - loss: 0.1038 - acc: 0.964 - ETA: 2:24 - loss: 0.1041 - acc: 0.964 - ETA: 2:23 - loss: 0.1041 - acc: 0.964 - ETA: 2:23 - loss: 0.1042 - acc: 0.963 - ETA: 2:22 - loss: 0.1040 - acc: 0.964 - ETA: 2:21 - loss: 0.1040 - acc: 0.964 - ETA: 2:21 - loss: 0.1040 - acc: 0.963 - ETA: 2:20 - loss: 0.1042 - acc: 0.963 - ETA: 2:20 - loss: 0.1040 - acc: 0.963 - ETA: 2:19 - loss: 0.1040 - acc: 0.963 - ETA: 2:18 - loss: 0.1039 - acc: 0.964 - ETA: 2:18 - loss: 0.1039 - acc: 0.964 - ETA: 2:17 - loss: 0.1042 - acc: 0.963 - ETA: 2:17 - loss: 0.1041 - acc: 0.963 - ETA: 2:16 - loss: 0.1041 - acc: 0.963 - ETA: 2:15 - loss: 0.1041 - acc: 0.963 - ETA: 2:15 - loss: 0.1039 - acc: 0.964 - ETA: 2:14 - loss: 0.1038 - acc: 0.964 - ETA: 2:14 - loss: 0.1037 - acc: 0.964 - ETA: 2:13 - loss: 0.1037 - acc: 0.964 - ETA: 2:13 - loss: 0.1035 - acc: 0.964 - ETA: 2:12 - loss: 0.1035 - acc: 0.964 - ETA: 2:11 - loss: 0.1035 - acc: 0.964 - ETA: 2:11 - loss: 0.1035 - acc: 0.964 - ETA: 2:10 - loss: 0.1037 - acc: 0.964 - ETA: 2:10 - loss: 0.1036 - acc: 0.964 - ETA: 2:09 - loss: 0.1037 - acc: 0.964 - ETA: 2:09 - loss: 0.1034 - acc: 0.964 - ETA: 2:08 - loss: 0.1034 - acc: 0.964 - ETA: 2:07 - loss: 0.1037 - acc: 0.964 - ETA: 2:07 - loss: 0.1037 - acc: 0.964 - ETA: 2:06 - loss: 0.1035 - acc: 0.964 - ETA: 2:06 - loss: 0.1038 - acc: 0.964 - ETA: 2:05 - loss: 0.1038 - acc: 0.964 - ETA: 2:05 - loss: 0.1041 - acc: 0.964 - ETA: 2:04 - loss: 0.1044 - acc: 0.963 - ETA: 2:03 - loss: 0.1053 - acc: 0.963 - ETA: 2:03 - loss: 0.1053 - acc: 0.963 - ETA: 2:02 - loss: 0.1051 - acc: 0.963 - ETA: 2:02 - loss: 0.1054 - acc: 0.963 - ETA: 2:01 - loss: 0.1056 - acc: 0.963 - ETA: 2:00 - loss: 0.1059 - acc: 0.963 - ETA: 2:00 - loss: 0.1059 - acc: 0.963 - ETA: 1:59 - loss: 0.1061 - acc: 0.963 - ETA: 1:59 - loss: 0.1063 - acc: 0.963 - ETA: 1:58 - loss: 0.1065 - acc: 0.962 - ETA: 1:57 - loss: 0.1067 - acc: 0.962 - ETA: 1:57 - loss: 0.1068 - acc: 0.962 - ETA: 1:56 - loss: 0.1068 - acc: 0.962 - ETA: 1:56 - loss: 0.1068 - acc: 0.962 - ETA: 1:55 - loss: 0.1069 - acc: 0.962 - ETA: 1:55 - loss: 0.1069 - acc: 0.962 - ETA: 1:54 - loss: 0.1070 - acc: 0.962 - ETA: 1:53 - loss: 0.1068 - acc: 0.962 - ETA: 1:53 - loss: 0.1066 - acc: 0.962 - ETA: 1:52 - loss: 0.1064 - acc: 0.962 - ETA: 1:52 - loss: 0.1063 - acc: 0.962 - ETA: 1:51 - loss: 0.1063 - acc: 0.962 - ETA: 1:50 - loss: 0.1062 - acc: 0.962 - ETA: 1:50 - loss: 0.1063 - acc: 0.962 - ETA: 1:49 - loss: 0.1061 - acc: 0.962 - ETA: 1:49 - loss: 0.1062 - acc: 0.962 - ETA: 1:48 - loss: 0.1061 - acc: 0.962 - ETA: 1:48 - loss: 0.1063 - acc: 0.962 - ETA: 1:47 - loss: 0.1063 - acc: 0.962 - ETA: 1:46 - loss: 0.1063 - acc: 0.962 - ETA: 1:46 - loss: 0.1062 - acc: 0.962 - ETA: 1:45 - loss: 0.1061 - acc: 0.962 - ETA: 1:45 - loss: 0.1061 - acc: 0.962 - ETA: 1:44 - loss: 0.1060 - acc: 0.962 - ETA: 1:43 - loss: 0.1061 - acc: 0.962 - ETA: 1:43 - loss: 0.1064 - acc: 0.962 - ETA: 1:42 - loss: 0.1062 - acc: 0.962 - ETA: 1:42 - loss: 0.1063 - acc: 0.962 - ETA: 1:41 - loss: 0.1063 - acc: 0.962 - ETA: 1:41 - loss: 0.1061 - acc: 0.962 - ETA: 1:40 - loss: 0.1062 - acc: 0.962 - ETA: 1:39 - loss: 0.1061 - acc: 0.962 - ETA: 1:39 - loss: 0.1062 - acc: 0.962 - ETA: 1:38 - loss: 0.1061 - acc: 0.962 - ETA: 1:38 - loss: 0.1066 - acc: 0.962 - ETA: 1:37 - loss: 0.1066 - acc: 0.962 - ETA: 1:37 - loss: 0.1070 - acc: 0.962 - ETA: 1:36 - loss: 0.1071 - acc: 0.962 - ETA: 1:35 - loss: 0.1072 - acc: 0.962 - ETA: 1:35 - loss: 0.1072 - acc: 0.962 - ETA: 1:34 - loss: 0.1072 - acc: 0.962 - ETA: 1:34 - loss: 0.1071 - acc: 0.962 - ETA: 1:33 - loss: 0.1072 - acc: 0.962 - ETA: 1:33 - loss: 0.1072 - acc: 0.962 - ETA: 1:32 - loss: 0.1076 - acc: 0.962 - ETA: 1:31 - loss: 0.1077 - acc: 0.962 - ETA: 1:31 - loss: 0.1076 - acc: 0.962 - ETA: 1:30 - loss: 0.1077 - acc: 0.962 - ETA: 1:30 - loss: 0.1076 - acc: 0.962 - ETA: 1:29 - loss: 0.1078 - acc: 0.962 - ETA: 1:28 - loss: 0.1080 - acc: 0.962 - ETA: 1:28 - loss: 0.1079 - acc: 0.962 - ETA: 1:27 - loss: 0.1079 - acc: 0.962 - ETA: 1:27 - loss: 0.1080 - acc: 0.962 - ETA: 1:26 - loss: 0.1081 - acc: 0.962 - ETA: 1:25 - loss: 0.1079 - acc: 0.962 - ETA: 1:25 - loss: 0.1078 - acc: 0.962 - ETA: 1:24 - loss: 0.1077 - acc: 0.962 - ETA: 1:24 - loss: 0.1074 - acc: 0.962 - ETA: 1:23 - loss: 0.1074 - acc: 0.962 - ETA: 1:23 - loss: 0.1078 - acc: 0.962 - ETA: 1:22 - loss: 0.1078 - acc: 0.962 - ETA: 1:21 - loss: 0.1078 - acc: 0.962 - ETA: 1:21 - loss: 0.1078 - acc: 0.962 - ETA: 1:20 - loss: 0.1077 - acc: 0.962 - ETA: 1:20 - loss: 0.1080 - acc: 0.962 - ETA: 1:19 - loss: 0.1079 - acc: 0.962 - ETA: 1:18 - loss: 0.1077 - acc: 0.962 - ETA: 1:18 - loss: 0.1077 - acc: 0.962 - ETA: 1:17 - loss: 0.1081 - acc: 0.962 - ETA: 1:17 - loss: 0.1085 - acc: 0.961 - ETA: 1:16 - loss: 0.1088 - acc: 0.961 - ETA: 1:16 - loss: 0.1089 - acc: 0.961 - ETA: 1:15 - loss: 0.1088 - acc: 0.961 - ETA: 1:14 - loss: 0.1087 - acc: 0.961 - ETA: 1:14 - loss: 0.1086 - acc: 0.962 - ETA: 1:13 - loss: 0.1087 - acc: 0.962 - ETA: 1:13 - loss: 0.1086 - acc: 0.962 - ETA: 1:12 - loss: 0.1088 - acc: 0.962 - ETA: 1:11 - loss: 0.1088 - acc: 0.962 - ETA: 1:11 - loss: 0.1089 - acc: 0.962 - ETA: 1:10 - loss: 0.1087 - acc: 0.962 - ETA: 1:10 - loss: 0.1088 - acc: 0.962 - ETA: 1:09 - loss: 0.1087 - acc: 0.962 - ETA: 1:08 - loss: 0.1088 - acc: 0.961 - ETA: 1:08 - loss: 0.1087 - acc: 0.961 - ETA: 1:07 - loss: 0.1090 - acc: 0.961 - ETA: 1:07 - loss: 0.1092 - acc: 0.961 - ETA: 1:06 - loss: 0.1090 - acc: 0.961 - ETA: 1:06 - loss: 0.1093 - acc: 0.961 - ETA: 1:05 - loss: 0.1094 - acc: 0.961 - ETA: 1:04 - loss: 0.1098 - acc: 0.961 - ETA: 1:04 - loss: 0.1096 - acc: 0.961 - ETA: 1:03 - loss: 0.1098 - acc: 0.961 - ETA: 1:03 - loss: 0.1096 - acc: 0.961 - ETA: 1:02 - loss: 0.1095 - acc: 0.961 - ETA: 1:01 - loss: 0.1096 - acc: 0.961 - ETA: 1:01 - loss: 0.1097 - acc: 0.961 - ETA: 1:00 - loss: 0.1098 - acc: 0.961 - ETA: 1:00 - loss: 0.1099 - acc: 0.961 - ETA: 59s - loss: 0.1100 - acc: 0.961 - ETA: 58s - loss: 0.1099 - acc: 0.96 - ETA: 58s - loss: 0.1100 - acc: 0.96 - ETA: 57s - loss: 0.1100 - acc: 0.96 - ETA: 57s - loss: 0.1099 - acc: 0.96 - ETA: 56s - loss: 0.1104 - acc: 0.9611"
     ]
    },
    {
     "name": "stdout",
     "output_type": "stream",
     "text": [
      "32249/32249 [==============================] - ETA: 56s - loss: 0.1104 - acc: 0.96 - ETA: 55s - loss: 0.1107 - acc: 0.96 - ETA: 54s - loss: 0.1107 - acc: 0.96 - ETA: 54s - loss: 0.1109 - acc: 0.96 - ETA: 53s - loss: 0.1112 - acc: 0.96 - ETA: 53s - loss: 0.1115 - acc: 0.96 - ETA: 52s - loss: 0.1118 - acc: 0.96 - ETA: 51s - loss: 0.1118 - acc: 0.96 - ETA: 51s - loss: 0.1119 - acc: 0.96 - ETA: 50s - loss: 0.1119 - acc: 0.96 - ETA: 50s - loss: 0.1120 - acc: 0.96 - ETA: 49s - loss: 0.1120 - acc: 0.96 - ETA: 48s - loss: 0.1121 - acc: 0.96 - ETA: 48s - loss: 0.1122 - acc: 0.96 - ETA: 47s - loss: 0.1125 - acc: 0.96 - ETA: 47s - loss: 0.1125 - acc: 0.96 - ETA: 46s - loss: 0.1124 - acc: 0.96 - ETA: 46s - loss: 0.1125 - acc: 0.96 - ETA: 45s - loss: 0.1124 - acc: 0.96 - ETA: 44s - loss: 0.1123 - acc: 0.96 - ETA: 44s - loss: 0.1122 - acc: 0.96 - ETA: 43s - loss: 0.1122 - acc: 0.96 - ETA: 43s - loss: 0.1121 - acc: 0.96 - ETA: 42s - loss: 0.1120 - acc: 0.96 - ETA: 41s - loss: 0.1121 - acc: 0.96 - ETA: 41s - loss: 0.1120 - acc: 0.96 - ETA: 40s - loss: 0.1120 - acc: 0.96 - ETA: 40s - loss: 0.1118 - acc: 0.96 - ETA: 39s - loss: 0.1120 - acc: 0.96 - ETA: 38s - loss: 0.1120 - acc: 0.96 - ETA: 38s - loss: 0.1118 - acc: 0.96 - ETA: 37s - loss: 0.1117 - acc: 0.96 - ETA: 37s - loss: 0.1117 - acc: 0.96 - ETA: 36s - loss: 0.1116 - acc: 0.96 - ETA: 35s - loss: 0.1119 - acc: 0.96 - ETA: 35s - loss: 0.1119 - acc: 0.96 - ETA: 34s - loss: 0.1120 - acc: 0.96 - ETA: 34s - loss: 0.1120 - acc: 0.96 - ETA: 33s - loss: 0.1121 - acc: 0.96 - ETA: 33s - loss: 0.1120 - acc: 0.96 - ETA: 32s - loss: 0.1122 - acc: 0.96 - ETA: 31s - loss: 0.1123 - acc: 0.96 - ETA: 31s - loss: 0.1123 - acc: 0.96 - ETA: 30s - loss: 0.1121 - acc: 0.96 - ETA: 30s - loss: 0.1122 - acc: 0.96 - ETA: 29s - loss: 0.1122 - acc: 0.96 - ETA: 28s - loss: 0.1121 - acc: 0.96 - ETA: 28s - loss: 0.1123 - acc: 0.96 - ETA: 27s - loss: 0.1125 - acc: 0.96 - ETA: 27s - loss: 0.1124 - acc: 0.96 - ETA: 26s - loss: 0.1123 - acc: 0.96 - ETA: 25s - loss: 0.1123 - acc: 0.96 - ETA: 25s - loss: 0.1122 - acc: 0.96 - ETA: 24s - loss: 0.1122 - acc: 0.96 - ETA: 24s - loss: 0.1123 - acc: 0.96 - ETA: 23s - loss: 0.1121 - acc: 0.96 - ETA: 22s - loss: 0.1122 - acc: 0.96 - ETA: 22s - loss: 0.1122 - acc: 0.96 - ETA: 21s - loss: 0.1121 - acc: 0.96 - ETA: 21s - loss: 0.1121 - acc: 0.96 - ETA: 20s - loss: 0.1120 - acc: 0.96 - ETA: 20s - loss: 0.1121 - acc: 0.96 - ETA: 19s - loss: 0.1121 - acc: 0.96 - ETA: 18s - loss: 0.1120 - acc: 0.96 - ETA: 18s - loss: 0.1121 - acc: 0.96 - ETA: 17s - loss: 0.1124 - acc: 0.96 - ETA: 17s - loss: 0.1126 - acc: 0.96 - ETA: 16s - loss: 0.1126 - acc: 0.96 - ETA: 15s - loss: 0.1126 - acc: 0.96 - ETA: 15s - loss: 0.1125 - acc: 0.96 - ETA: 14s - loss: 0.1123 - acc: 0.96 - ETA: 14s - loss: 0.1123 - acc: 0.96 - ETA: 13s - loss: 0.1123 - acc: 0.96 - ETA: 12s - loss: 0.1124 - acc: 0.96 - ETA: 12s - loss: 0.1125 - acc: 0.96 - ETA: 11s - loss: 0.1125 - acc: 0.96 - ETA: 11s - loss: 0.1124 - acc: 0.96 - ETA: 10s - loss: 0.1123 - acc: 0.96 - ETA: 9s - loss: 0.1124 - acc: 0.9606 - ETA: 9s - loss: 0.1123 - acc: 0.960 - ETA: 8s - loss: 0.1122 - acc: 0.960 - ETA: 8s - loss: 0.1123 - acc: 0.960 - ETA: 7s - loss: 0.1123 - acc: 0.960 - ETA: 7s - loss: 0.1122 - acc: 0.960 - ETA: 6s - loss: 0.1121 - acc: 0.960 - ETA: 5s - loss: 0.1121 - acc: 0.960 - ETA: 5s - loss: 0.1120 - acc: 0.960 - ETA: 4s - loss: 0.1120 - acc: 0.960 - ETA: 4s - loss: 0.1122 - acc: 0.960 - ETA: 3s - loss: 0.1122 - acc: 0.960 - ETA: 2s - loss: 0.1122 - acc: 0.960 - ETA: 2s - loss: 0.1122 - acc: 0.960 - ETA: 1s - loss: 0.1120 - acc: 0.960 - ETA: 1s - loss: 0.1120 - acc: 0.960 - ETA: 0s - loss: 0.1121 - acc: 0.960 - 298s 9ms/step - loss: 0.1122 - acc: 0.9605\n",
      "13822/13822 [==============================] - ETA: 2: - ETA: 1: - ETA: 1: - ETA: 1: - ETA: 59s - ETA: 55 - ETA: 52 - ETA: 49 - ETA: 48 - ETA: 46 - ETA: 45 - ETA: 44 - ETA: 43 - ETA: 43 - ETA: 42 - ETA: 41 - ETA: 41 - ETA: 41 - ETA: 40 - ETA: 40 - ETA: 39 - ETA: 39 - ETA: 39 - ETA: 39 - ETA: 38 - ETA: 38 - ETA: 38 - ETA: 38 - ETA: 38 - ETA: 37 - ETA: 37 - ETA: 37 - ETA: 37 - ETA: 37 - ETA: 37 - ETA: 36 - ETA: 36 - ETA: 36 - ETA: 36 - ETA: 36 - ETA: 36 - ETA: 36 - ETA: 35 - ETA: 35 - ETA: 35 - ETA: 35 - ETA: 35 - ETA: 35 - ETA: 35 - ETA: 35 - ETA: 35 - ETA: 34 - ETA: 34 - ETA: 34 - ETA: 34 - ETA: 34 - ETA: 34 - ETA: 34 - ETA: 34 - ETA: 34 - ETA: 33 - ETA: 33 - ETA: 33 - ETA: 33 - ETA: 33 - ETA: 33 - ETA: 33 - ETA: 33 - ETA: 33 - ETA: 32 - ETA: 32 - ETA: 32 - ETA: 32 - ETA: 32 - ETA: 32 - ETA: 32 - ETA: 32 - ETA: 32 - ETA: 31 - ETA: 31 - ETA: 31 - ETA: 31 - ETA: 31 - ETA: 31 - ETA: 31 - ETA: 31 - ETA: 31 - ETA: 31 - ETA: 31 - ETA: 30 - ETA: 30 - ETA: 30 - ETA: 30 - ETA: 30 - ETA: 30 - ETA: 30 - ETA: 30 - ETA: 30 - ETA: 30 - ETA: 29 - ETA: 29 - ETA: 29 - ETA: 29 - ETA: 29 - ETA: 29 - ETA: 29 - ETA: 29 - ETA: 29 - ETA: 29 - ETA: 28 - ETA: 28 - ETA: 28 - ETA: 28 - ETA: 28 - ETA: 28 - ETA: 28 - ETA: 28 - ETA: 28 - ETA: 28 - ETA: 28 - ETA: 27 - ETA: 27 - ETA: 27 - ETA: 27 - ETA: 27 - ETA: 27 - ETA: 27 - ETA: 27 - ETA: 27 - ETA: 27 - ETA: 27 - ETA: 27 - ETA: 27 - ETA: 26 - ETA: 26 - ETA: 26 - ETA: 26 - ETA: 26 - ETA: 26 - ETA: 26 - ETA: 26 - ETA: 26 - ETA: 26 - ETA: 26 - ETA: 25 - ETA: 25 - ETA: 25 - ETA: 25 - ETA: 25 - ETA: 25 - ETA: 25 - ETA: 25 - ETA: 25 - ETA: 25 - ETA: 25 - ETA: 24 - ETA: 24 - ETA: 24 - ETA: 24 - ETA: 24 - ETA: 24 - ETA: 24 - ETA: 24 - ETA: 24 - ETA: 24 - ETA: 24 - ETA: 23 - ETA: 23 - ETA: 23 - ETA: 23 - ETA: 23 - ETA: 23 - ETA: 23 - ETA: 23 - ETA: 23 - ETA: 23 - ETA: 23 - ETA: 22 - ETA: 22 - ETA: 22 - ETA: 22 - ETA: 22 - ETA: 22 - ETA: 22 - ETA: 22 - ETA: 22 - ETA: 22 - ETA: 21 - ETA: 21 - ETA: 21 - ETA: 21 - ETA: 21 - ETA: 21 - ETA: 21 - ETA: 21 - ETA: 21 - ETA: 21 - ETA: 21 - ETA: 20 - ETA: 20 - ETA: 20 - ETA: 20 - ETA: 20 - ETA: 20 - ETA: 20 - ETA: 20 - ETA: 20 - ETA: 20 - ETA: 20 - ETA: 19 - ETA: 19 - ETA: 19 - ETA: 19 - ETA: 19 - ETA: 19 - ETA: 19 - ETA: 19 - ETA: 19 - ETA: 19 - ETA: 19 - ETA: 18 - ETA: 18 - ETA: 18 - ETA: 18 - ETA: 18 - ETA: 18 - ETA: 18 - ETA: 18 - ETA: 18 - ETA: 18 - ETA: 18 - ETA: 17 - ETA: 17 - ETA: 17 - ETA: 17 - ETA: 17 - ETA: 17 - ETA: 17 - ETA: 17 - ETA: 17 - ETA: 17 - ETA: 17 - ETA: 16 - ETA: 16 - ETA: 16 - ETA: 16 - ETA: 16 - ETA: 16 - ETA: 16 - ETA: 16 - ETA: 16 - ETA: 16 - ETA: 16 - ETA: 15 - ETA: 15 - ETA: 15 - ETA: 15 - ETA: 15 - ETA: 15 - ETA: 15 - ETA: 15 - ETA: 15 - ETA: 15 - ETA: 15 - ETA: 14 - ETA: 14 - ETA: 14 - ETA: 14 - ETA: 14 - ETA: 14 - ETA: 14 - ETA: 14 - ETA: 14 - ETA: 14 - ETA: 14 - ETA: 13 - ETA: 13 - ETA: 13 - ETA: 13 - ETA: 13 - ETA: 13 - ETA: 13 - ETA: 13 - ETA: 13 - ETA: 13 - ETA: 13 - ETA: 12 - ETA: 12 - ETA: 12 - ETA: 12 - ETA: 12 - ETA: 12 - ETA: 12 - ETA: 12 - ETA: 12 - ETA: 12 - ETA: 12 - ETA: 11 - ETA: 11 - ETA: 11 - ETA: 11 - ETA: 11 - ETA: 11 - ETA: 11 - ETA: 11 - ETA: 11 - ETA: 11 - ETA: 11 - ETA: 11 - ETA: 10 - ETA: 10 - ETA: 10 - ETA: 10 - ETA: 10 - ETA: 10 - ETA: 10 - ETA: 10 - ETA: 10 - ETA: 10 - ETA: 10 - ETA: 9 - ETA:  - ETA:  - ETA:  - ETA:  - ETA:  - ETA:  - ETA:  - ETA:  - ETA:  - ETA:  - ETA:  - ETA:  - ETA:  - ETA:  - ETA:  - ETA:  - ETA:  - ETA:  - ETA:  - ETA:  - ETA:  - ETA:  - ETA:  - ETA:  - ETA:  - ETA:  - ETA:  - ETA:  - ETA:  - ETA:  - ETA:  - ETA:  - ETA:  - ETA:  - ETA:  - ETA:  - ETA:  - ETA:  - ETA:  - ETA:  - ETA:  - ETA:  - ETA:  - ETA:  - ETA:  - ETA:  - ETA:  - ETA:  - ETA:  - ETA:  - ETA:  - ETA:  - ETA:  - ETA:  - ETA:  - ETA:  - ETA:  - ETA:  - ETA:  - ETA:  - ETA:  - ETA:  - ETA:  - ETA:  - ETA:  - ETA:  - ETA:  - ETA:  - ETA:  - ETA:  - ETA:  - ETA:  - ETA:  - ETA:  - ETA:  - ETA:  - ETA:  - ETA:  - ETA:  - ETA:  - ETA:  - ETA:  - ETA:  - ETA:  - ETA:  - ETA:  - ETA:  - ETA:  - ETA:  - ETA:  - ETA:  - ETA:  - ETA:  - ETA:  - ETA:  - ETA:  - ETA:  - ETA:  - ETA:  - ETA:  - ETA:  - ETA:  - ETA:  - ETA:  - ETA:  - ETA:  - ETA:  - ETA:  - ETA:  - ETA:  - 39s 3ms/step\n",
      "Accuracy: 91.32%\n"
     ]
    }
   ],
   "source": [
    "model.fit(X_train, y_train, nb_epoch=5, batch_size=64)\n",
    "scores = model.evaluate(X_test, y_test, verbose=1)\n",
    "print(\"Accuracy: %.2f%%\" % (scores[1]*100))"
   ]
  },
  {
   "cell_type": "markdown",
   "metadata": {},
   "source": [
    "# Model 2"
   ]
  },
  {
   "cell_type": "code",
   "execution_count": 46,
   "metadata": {},
   "outputs": [
    {
     "name": "stdout",
     "output_type": "stream",
     "text": [
      "_________________________________________________________________\n",
      "Layer (type)                 Output Shape              Param #   \n",
      "=================================================================\n",
      "embedding_3 (Embedding)      (None, 500, 32)           160000    \n",
      "_________________________________________________________________\n",
      "lstm_3 (LSTM)                (None, 500, 100)          53200     \n",
      "_________________________________________________________________\n",
      "lstm_4 (LSTM)                (None, 100)               80400     \n",
      "_________________________________________________________________\n",
      "dense_3 (Dense)              (None, 1)                 101       \n",
      "=================================================================\n",
      "Total params: 293,701\n",
      "Trainable params: 293,701\n",
      "Non-trainable params: 0\n",
      "_________________________________________________________________\n",
      "None\n"
     ]
    }
   ],
   "source": [
    "embedding_vecor_length = 32\n",
    "model1 = Sequential()\n",
    "model1.add(Embedding(5000, embedding_vecor_length, input_length=max_review_length))\n",
    "model1.add(LSTM(100, return_sequences=True))\n",
    "model1.add(LSTM(100))\n",
    "model1.add(Dense(1, activation='sigmoid'))\n",
    "model1.compile(loss='binary_crossentropy', optimizer='adam', metrics=['accuracy'])\n",
    "print(model1.summary())"
   ]
  },
  {
   "cell_type": "code",
   "execution_count": 47,
   "metadata": {},
   "outputs": [
    {
     "name": "stdout",
     "output_type": "stream",
     "text": [
      "Epoch 1/3\n"
     ]
    },
    {
     "name": "stdout",
     "output_type": "stream",
     "text": [
      "13056/32249 [===========>..................] - ETA: 27:32 - loss: 0.6931 - acc: 0.53 - ETA: 20:10 - loss: 0.6896 - acc: 0.67 - ETA: 17:13 - loss: 0.6865 - acc: 0.71 - ETA: 15:36 - loss: 0.6815 - acc: 0.74 - ETA: 14:39 - loss: 0.6751 - acc: 0.77 - ETA: 14:00 - loss: 0.6722 - acc: 0.76 - ETA: 13:37 - loss: 0.6647 - acc: 0.76 - ETA: 13:15 - loss: 0.6538 - acc: 0.76 - ETA: 12:58 - loss: 0.6430 - acc: 0.76 - ETA: 12:44 - loss: 0.6177 - acc: 0.77 - ETA: 12:31 - loss: 0.6262 - acc: 0.77 - ETA: 12:21 - loss: 0.6132 - acc: 0.78 - ETA: 12:14 - loss: 0.6006 - acc: 0.78 - ETA: 12:10 - loss: 0.5905 - acc: 0.78 - ETA: 12:04 - loss: 0.5794 - acc: 0.79 - ETA: 11:58 - loss: 0.5711 - acc: 0.79 - ETA: 11:53 - loss: 0.5696 - acc: 0.79 - ETA: 11:48 - loss: 0.5635 - acc: 0.79 - ETA: 11:43 - loss: 0.5601 - acc: 0.79 - ETA: 11:38 - loss: 0.5535 - acc: 0.79 - ETA: 11:34 - loss: 0.5549 - acc: 0.79 - ETA: 11:32 - loss: 0.5503 - acc: 0.79 - ETA: 11:31 - loss: 0.5488 - acc: 0.79 - ETA: 11:27 - loss: 0.5450 - acc: 0.79 - ETA: 11:24 - loss: 0.5418 - acc: 0.79 - ETA: 11:23 - loss: 0.5409 - acc: 0.79 - ETA: 11:20 - loss: 0.5340 - acc: 0.79 - ETA: 11:17 - loss: 0.5288 - acc: 0.80 - ETA: 11:14 - loss: 0.5251 - acc: 0.80 - ETA: 11:11 - loss: 0.5246 - acc: 0.80 - ETA: 11:08 - loss: 0.5213 - acc: 0.80 - ETA: 11:06 - loss: 0.5215 - acc: 0.80 - ETA: 11:04 - loss: 0.5246 - acc: 0.80 - ETA: 11:01 - loss: 0.5219 - acc: 0.80 - ETA: 10:59 - loss: 0.5181 - acc: 0.80 - ETA: 10:57 - loss: 0.5195 - acc: 0.80 - ETA: 10:55 - loss: 0.5196 - acc: 0.80 - ETA: 10:54 - loss: 0.5152 - acc: 0.80 - ETA: 10:52 - loss: 0.5134 - acc: 0.80 - ETA: 10:50 - loss: 0.5110 - acc: 0.80 - ETA: 10:48 - loss: 0.5103 - acc: 0.80 - ETA: 10:46 - loss: 0.5073 - acc: 0.80 - ETA: 10:44 - loss: 0.5057 - acc: 0.80 - ETA: 10:42 - loss: 0.5026 - acc: 0.80 - ETA: 10:39 - loss: 0.5007 - acc: 0.81 - ETA: 10:37 - loss: 0.5004 - acc: 0.81 - ETA: 10:35 - loss: 0.4987 - acc: 0.81 - ETA: 10:34 - loss: 0.4984 - acc: 0.81 - ETA: 10:32 - loss: 0.4975 - acc: 0.81 - ETA: 10:31 - loss: 0.4952 - acc: 0.81 - ETA: 10:30 - loss: 0.4946 - acc: 0.81 - ETA: 10:28 - loss: 0.4931 - acc: 0.81 - ETA: 10:26 - loss: 0.4912 - acc: 0.81 - ETA: 10:24 - loss: 0.4898 - acc: 0.81 - ETA: 10:22 - loss: 0.4905 - acc: 0.81 - ETA: 10:20 - loss: 0.4894 - acc: 0.81 - ETA: 10:18 - loss: 0.4872 - acc: 0.81 - ETA: 10:17 - loss: 0.4860 - acc: 0.81 - ETA: 10:15 - loss: 0.4856 - acc: 0.81 - ETA: 10:13 - loss: 0.4840 - acc: 0.81 - ETA: 10:13 - loss: 0.4826 - acc: 0.81 - ETA: 10:12 - loss: 0.4794 - acc: 0.81 - ETA: 10:11 - loss: 0.4779 - acc: 0.81 - ETA: 10:09 - loss: 0.4752 - acc: 0.81 - ETA: 10:08 - loss: 0.4741 - acc: 0.81 - ETA: 10:06 - loss: 0.4727 - acc: 0.81 - ETA: 10:05 - loss: 0.4724 - acc: 0.81 - ETA: 10:03 - loss: 0.4708 - acc: 0.81 - ETA: 10:02 - loss: 0.4681 - acc: 0.81 - ETA: 10:00 - loss: 0.4654 - acc: 0.81 - ETA: 9:59 - loss: 0.4632 - acc: 0.8169 - ETA: 9:58 - loss: 0.4616 - acc: 0.817 - ETA: 9:57 - loss: 0.4590 - acc: 0.818 - ETA: 9:56 - loss: 0.4573 - acc: 0.819 - ETA: 9:54 - loss: 0.4538 - acc: 0.820 - ETA: 9:53 - loss: 0.4543 - acc: 0.820 - ETA: 9:51 - loss: 0.4525 - acc: 0.821 - ETA: 9:50 - loss: 0.4506 - acc: 0.821 - ETA: 9:48 - loss: 0.4481 - acc: 0.822 - ETA: 9:47 - loss: 0.4458 - acc: 0.823 - ETA: 9:45 - loss: 0.4449 - acc: 0.824 - ETA: 9:44 - loss: 0.4423 - acc: 0.824 - ETA: 9:42 - loss: 0.4408 - acc: 0.825 - ETA: 9:41 - loss: 0.4386 - acc: 0.825 - ETA: 9:40 - loss: 0.4355 - acc: 0.827 - ETA: 9:38 - loss: 0.4348 - acc: 0.827 - ETA: 9:37 - loss: 0.4329 - acc: 0.828 - ETA: 9:35 - loss: 0.4304 - acc: 0.829 - ETA: 9:34 - loss: 0.4291 - acc: 0.830 - ETA: 9:32 - loss: 0.4281 - acc: 0.831 - ETA: 9:31 - loss: 0.4252 - acc: 0.831 - ETA: 9:29 - loss: 0.4235 - acc: 0.832 - ETA: 9:28 - loss: 0.4218 - acc: 0.832 - ETA: 9:26 - loss: 0.4200 - acc: 0.833 - ETA: 9:25 - loss: 0.4184 - acc: 0.834 - ETA: 9:24 - loss: 0.4179 - acc: 0.834 - ETA: 9:22 - loss: 0.4166 - acc: 0.834 - ETA: 9:21 - loss: 0.4157 - acc: 0.835 - ETA: 9:19 - loss: 0.4136 - acc: 0.835 - ETA: 9:18 - loss: 0.4119 - acc: 0.836 - ETA: 9:16 - loss: 0.4098 - acc: 0.837 - ETA: 9:15 - loss: 0.4084 - acc: 0.838 - ETA: 9:14 - loss: 0.4086 - acc: 0.838 - ETA: 9:12 - loss: 0.4073 - acc: 0.838 - ETA: 9:11 - loss: 0.4063 - acc: 0.838 - ETA: 9:10 - loss: 0.4053 - acc: 0.838 - ETA: 9:09 - loss: 0.4039 - acc: 0.839 - ETA: 9:08 - loss: 0.4032 - acc: 0.840 - ETA: 9:07 - loss: 0.4023 - acc: 0.840 - ETA: 9:05 - loss: 0.4011 - acc: 0.841 - ETA: 9:04 - loss: 0.4005 - acc: 0.841 - ETA: 9:03 - loss: 0.4001 - acc: 0.841 - ETA: 9:01 - loss: 0.3990 - acc: 0.842 - ETA: 9:00 - loss: 0.3985 - acc: 0.842 - ETA: 8:59 - loss: 0.3972 - acc: 0.842 - ETA: 8:58 - loss: 0.3956 - acc: 0.843 - ETA: 8:56 - loss: 0.3949 - acc: 0.843 - ETA: 8:55 - loss: 0.3938 - acc: 0.843 - ETA: 8:54 - loss: 0.3921 - acc: 0.844 - ETA: 8:53 - loss: 0.3906 - acc: 0.845 - ETA: 8:52 - loss: 0.3901 - acc: 0.845 - ETA: 8:50 - loss: 0.3893 - acc: 0.846 - ETA: 8:49 - loss: 0.3873 - acc: 0.846 - ETA: 8:48 - loss: 0.3855 - acc: 0.847 - ETA: 8:46 - loss: 0.3837 - acc: 0.848 - ETA: 8:45 - loss: 0.3822 - acc: 0.849 - ETA: 8:44 - loss: 0.3811 - acc: 0.849 - ETA: 8:42 - loss: 0.3793 - acc: 0.850 - ETA: 8:41 - loss: 0.3781 - acc: 0.850 - ETA: 8:40 - loss: 0.3775 - acc: 0.850 - ETA: 8:39 - loss: 0.3776 - acc: 0.850 - ETA: 8:37 - loss: 0.3766 - acc: 0.850 - ETA: 8:36 - loss: 0.3757 - acc: 0.851 - ETA: 8:35 - loss: 0.3745 - acc: 0.851 - ETA: 8:33 - loss: 0.3736 - acc: 0.852 - ETA: 8:32 - loss: 0.3728 - acc: 0.852 - ETA: 8:31 - loss: 0.3715 - acc: 0.852 - ETA: 8:29 - loss: 0.3703 - acc: 0.853 - ETA: 8:28 - loss: 0.3699 - acc: 0.853 - ETA: 8:27 - loss: 0.3686 - acc: 0.854 - ETA: 8:26 - loss: 0.3677 - acc: 0.854 - ETA: 8:25 - loss: 0.3668 - acc: 0.854 - ETA: 8:24 - loss: 0.3658 - acc: 0.855 - ETA: 8:22 - loss: 0.3649 - acc: 0.855 - ETA: 8:21 - loss: 0.3645 - acc: 0.856 - ETA: 8:19 - loss: 0.3637 - acc: 0.856 - ETA: 8:18 - loss: 0.3626 - acc: 0.856 - ETA: 8:17 - loss: 0.3626 - acc: 0.856 - ETA: 8:15 - loss: 0.3615 - acc: 0.856 - ETA: 8:14 - loss: 0.3612 - acc: 0.856 - ETA: 8:13 - loss: 0.3601 - acc: 0.857 - ETA: 8:11 - loss: 0.3598 - acc: 0.857 - ETA: 8:10 - loss: 0.3587 - acc: 0.857 - ETA: 8:09 - loss: 0.3582 - acc: 0.857 - ETA: 8:08 - loss: 0.3578 - acc: 0.857 - ETA: 8:06 - loss: 0.3574 - acc: 0.857 - ETA: 8:05 - loss: 0.3572 - acc: 0.857 - ETA: 8:04 - loss: 0.3571 - acc: 0.857 - ETA: 8:02 - loss: 0.3571 - acc: 0.857 - ETA: 8:01 - loss: 0.3565 - acc: 0.857 - ETA: 8:00 - loss: 0.3563 - acc: 0.857 - ETA: 7:58 - loss: 0.3556 - acc: 0.857 - ETA: 7:57 - loss: 0.3545 - acc: 0.858 - ETA: 7:56 - loss: 0.3539 - acc: 0.858 - ETA: 7:55 - loss: 0.3529 - acc: 0.858 - ETA: 7:53 - loss: 0.3519 - acc: 0.859 - ETA: 7:52 - loss: 0.3507 - acc: 0.859 - ETA: 7:51 - loss: 0.3503 - acc: 0.860 - ETA: 7:49 - loss: 0.3505 - acc: 0.860 - ETA: 7:48 - loss: 0.3493 - acc: 0.860 - ETA: 7:46 - loss: 0.3486 - acc: 0.860 - ETA: 7:45 - loss: 0.3480 - acc: 0.861 - ETA: 7:44 - loss: 0.3469 - acc: 0.861 - ETA: 7:42 - loss: 0.3461 - acc: 0.861 - ETA: 7:41 - loss: 0.3452 - acc: 0.862 - ETA: 7:40 - loss: 0.3442 - acc: 0.862 - ETA: 7:39 - loss: 0.3438 - acc: 0.862 - ETA: 7:37 - loss: 0.3438 - acc: 0.862 - ETA: 7:36 - loss: 0.3444 - acc: 0.862 - ETA: 7:34 - loss: 0.3434 - acc: 0.863 - ETA: 7:33 - loss: 0.3437 - acc: 0.863 - ETA: 7:32 - loss: 0.3428 - acc: 0.863 - ETA: 7:30 - loss: 0.3421 - acc: 0.863 - ETA: 7:29 - loss: 0.3417 - acc: 0.863 - ETA: 7:27 - loss: 0.3412 - acc: 0.864 - ETA: 7:26 - loss: 0.3401 - acc: 0.864 - ETA: 7:25 - loss: 0.3391 - acc: 0.865 - ETA: 7:24 - loss: 0.3381 - acc: 0.865 - ETA: 7:22 - loss: 0.3378 - acc: 0.865 - ETA: 7:21 - loss: 0.3372 - acc: 0.865 - ETA: 7:19 - loss: 0.3363 - acc: 0.866 - ETA: 7:18 - loss: 0.3355 - acc: 0.866 - ETA: 7:17 - loss: 0.3355 - acc: 0.866 - ETA: 7:15 - loss: 0.3360 - acc: 0.866 - ETA: 7:14 - loss: 0.3352 - acc: 0.866 - ETA: 7:12 - loss: 0.3351 - acc: 0.866 - ETA: 7:11 - loss: 0.3342 - acc: 0.866 - ETA: 7:10 - loss: 0.3342 - acc: 0.866 - ETA: 7:08 - loss: 0.3335 - acc: 0.867 - ETA: 7:07 - loss: 0.3325 - acc: 0.867 - ETA: 7:06 - loss: 0.3319 - acc: 0.867 - ETA: 7:04 - loss: 0.3323 - acc: 0.867 - ETA: 7:03 - loss: 0.3319 - acc: 0.867 - ETA: 7:01 - loss: 0.3317 - acc: 0.8676\b\b\b\b\b\b\b\b\b\b\b\b\b\b\b\b\b\b\b\b\b\b\b\b\b\b\b\b\b\b\b\b\b\b\b\b\b\b\b\b\b\b\b\b\b\b\b\b\b\b\b\b\b\b\b\b\b\b\b\b\b\b\b\b\b\b\b\b\b\b\b\b\b\b\b\b\b\b\b\b\b\b\b\b\b"
     ]
    },
    {
     "name": "stdout",
     "output_type": "stream",
     "text": [
      "26112/32249 [=======================>......] - ETA: 7:00 - loss: 0.3314 - acc: 0.867 - ETA: 6:59 - loss: 0.3314 - acc: 0.867 - ETA: 6:57 - loss: 0.3309 - acc: 0.867 - ETA: 6:56 - loss: 0.3308 - acc: 0.867 - ETA: 6:55 - loss: 0.3301 - acc: 0.868 - ETA: 6:53 - loss: 0.3295 - acc: 0.868 - ETA: 6:52 - loss: 0.3290 - acc: 0.868 - ETA: 6:51 - loss: 0.3286 - acc: 0.868 - ETA: 6:49 - loss: 0.3282 - acc: 0.868 - ETA: 6:48 - loss: 0.3286 - acc: 0.868 - ETA: 6:46 - loss: 0.3280 - acc: 0.868 - ETA: 6:45 - loss: 0.3272 - acc: 0.869 - ETA: 6:44 - loss: 0.3266 - acc: 0.869 - ETA: 6:42 - loss: 0.3260 - acc: 0.869 - ETA: 6:41 - loss: 0.3262 - acc: 0.869 - ETA: 6:40 - loss: 0.3255 - acc: 0.870 - ETA: 6:38 - loss: 0.3248 - acc: 0.870 - ETA: 6:37 - loss: 0.3245 - acc: 0.870 - ETA: 6:36 - loss: 0.3240 - acc: 0.870 - ETA: 6:34 - loss: 0.3234 - acc: 0.870 - ETA: 6:33 - loss: 0.3231 - acc: 0.871 - ETA: 6:31 - loss: 0.3228 - acc: 0.871 - ETA: 6:30 - loss: 0.3220 - acc: 0.871 - ETA: 6:29 - loss: 0.3220 - acc: 0.871 - ETA: 6:27 - loss: 0.3224 - acc: 0.871 - ETA: 6:26 - loss: 0.3223 - acc: 0.871 - ETA: 6:25 - loss: 0.3220 - acc: 0.871 - ETA: 6:23 - loss: 0.3214 - acc: 0.871 - ETA: 6:22 - loss: 0.3206 - acc: 0.872 - ETA: 6:20 - loss: 0.3203 - acc: 0.871 - ETA: 6:19 - loss: 0.3197 - acc: 0.872 - ETA: 6:18 - loss: 0.3196 - acc: 0.872 - ETA: 6:16 - loss: 0.3191 - acc: 0.872 - ETA: 6:15 - loss: 0.3184 - acc: 0.872 - ETA: 6:13 - loss: 0.3178 - acc: 0.872 - ETA: 6:12 - loss: 0.3175 - acc: 0.872 - ETA: 6:11 - loss: 0.3171 - acc: 0.873 - ETA: 6:09 - loss: 0.3168 - acc: 0.873 - ETA: 6:08 - loss: 0.3164 - acc: 0.873 - ETA: 6:06 - loss: 0.3156 - acc: 0.873 - ETA: 6:05 - loss: 0.3156 - acc: 0.873 - ETA: 6:04 - loss: 0.3151 - acc: 0.873 - ETA: 6:02 - loss: 0.3144 - acc: 0.874 - ETA: 6:01 - loss: 0.3144 - acc: 0.874 - ETA: 5:59 - loss: 0.3140 - acc: 0.874 - ETA: 5:58 - loss: 0.3139 - acc: 0.874 - ETA: 5:57 - loss: 0.3139 - acc: 0.874 - ETA: 5:55 - loss: 0.3134 - acc: 0.874 - ETA: 5:54 - loss: 0.3130 - acc: 0.874 - ETA: 5:53 - loss: 0.3127 - acc: 0.874 - ETA: 5:51 - loss: 0.3128 - acc: 0.874 - ETA: 5:50 - loss: 0.3133 - acc: 0.874 - ETA: 5:48 - loss: 0.3128 - acc: 0.874 - ETA: 5:47 - loss: 0.3125 - acc: 0.874 - ETA: 5:45 - loss: 0.3122 - acc: 0.875 - ETA: 5:44 - loss: 0.3120 - acc: 0.875 - ETA: 5:43 - loss: 0.3113 - acc: 0.875 - ETA: 5:41 - loss: 0.3109 - acc: 0.875 - ETA: 5:40 - loss: 0.3107 - acc: 0.875 - ETA: 5:39 - loss: 0.3103 - acc: 0.875 - ETA: 5:37 - loss: 0.3102 - acc: 0.875 - ETA: 5:36 - loss: 0.3099 - acc: 0.875 - ETA: 5:34 - loss: 0.3093 - acc: 0.876 - ETA: 5:33 - loss: 0.3096 - acc: 0.875 - ETA: 5:31 - loss: 0.3092 - acc: 0.876 - ETA: 5:30 - loss: 0.3090 - acc: 0.876 - ETA: 5:29 - loss: 0.3090 - acc: 0.875 - ETA: 5:27 - loss: 0.3088 - acc: 0.876 - ETA: 5:26 - loss: 0.3085 - acc: 0.876 - ETA: 5:24 - loss: 0.3080 - acc: 0.876 - ETA: 5:23 - loss: 0.3075 - acc: 0.876 - ETA: 5:22 - loss: 0.3073 - acc: 0.876 - ETA: 5:20 - loss: 0.3071 - acc: 0.876 - ETA: 5:19 - loss: 0.3069 - acc: 0.876 - ETA: 5:17 - loss: 0.3065 - acc: 0.877 - ETA: 5:16 - loss: 0.3060 - acc: 0.877 - ETA: 5:15 - loss: 0.3060 - acc: 0.877 - ETA: 5:13 - loss: 0.3062 - acc: 0.877 - ETA: 5:12 - loss: 0.3055 - acc: 0.877 - ETA: 5:10 - loss: 0.3054 - acc: 0.877 - ETA: 5:09 - loss: 0.3049 - acc: 0.877 - ETA: 5:08 - loss: 0.3045 - acc: 0.878 - ETA: 5:06 - loss: 0.3044 - acc: 0.878 - ETA: 5:05 - loss: 0.3044 - acc: 0.877 - ETA: 5:04 - loss: 0.3042 - acc: 0.878 - ETA: 5:02 - loss: 0.3040 - acc: 0.878 - ETA: 5:01 - loss: 0.3039 - acc: 0.878 - ETA: 4:59 - loss: 0.3039 - acc: 0.878 - ETA: 4:58 - loss: 0.3032 - acc: 0.878 - ETA: 4:56 - loss: 0.3034 - acc: 0.878 - ETA: 4:55 - loss: 0.3039 - acc: 0.878 - ETA: 4:54 - loss: 0.3037 - acc: 0.878 - ETA: 4:52 - loss: 0.3035 - acc: 0.878 - ETA: 4:51 - loss: 0.3033 - acc: 0.878 - ETA: 4:50 - loss: 0.3030 - acc: 0.878 - ETA: 4:48 - loss: 0.3030 - acc: 0.878 - ETA: 4:47 - loss: 0.3028 - acc: 0.878 - ETA: 4:45 - loss: 0.3027 - acc: 0.878 - ETA: 4:44 - loss: 0.3027 - acc: 0.878 - ETA: 4:43 - loss: 0.3029 - acc: 0.878 - ETA: 4:41 - loss: 0.3028 - acc: 0.878 - ETA: 4:40 - loss: 0.3024 - acc: 0.878 - ETA: 4:38 - loss: 0.3027 - acc: 0.878 - ETA: 4:37 - loss: 0.3022 - acc: 0.878 - ETA: 4:36 - loss: 0.3019 - acc: 0.878 - ETA: 4:34 - loss: 0.3017 - acc: 0.878 - ETA: 4:33 - loss: 0.3018 - acc: 0.878 - ETA: 4:31 - loss: 0.3019 - acc: 0.878 - ETA: 4:30 - loss: 0.3014 - acc: 0.879 - ETA: 4:29 - loss: 0.3010 - acc: 0.879 - ETA: 4:27 - loss: 0.3009 - acc: 0.879 - ETA: 4:26 - loss: 0.3009 - acc: 0.879 - ETA: 4:25 - loss: 0.3006 - acc: 0.879 - ETA: 4:23 - loss: 0.3004 - acc: 0.879 - ETA: 4:22 - loss: 0.2999 - acc: 0.879 - ETA: 4:20 - loss: 0.2992 - acc: 0.880 - ETA: 4:19 - loss: 0.2991 - acc: 0.880 - ETA: 4:18 - loss: 0.2985 - acc: 0.880 - ETA: 4:16 - loss: 0.2983 - acc: 0.880 - ETA: 4:15 - loss: 0.2979 - acc: 0.880 - ETA: 4:13 - loss: 0.2976 - acc: 0.880 - ETA: 4:12 - loss: 0.2972 - acc: 0.880 - ETA: 4:11 - loss: 0.2970 - acc: 0.881 - ETA: 4:09 - loss: 0.2966 - acc: 0.881 - ETA: 4:08 - loss: 0.2966 - acc: 0.881 - ETA: 4:06 - loss: 0.2962 - acc: 0.881 - ETA: 4:05 - loss: 0.2959 - acc: 0.881 - ETA: 4:04 - loss: 0.2954 - acc: 0.881 - ETA: 4:02 - loss: 0.2957 - acc: 0.881 - ETA: 4:01 - loss: 0.2957 - acc: 0.881 - ETA: 3:59 - loss: 0.2956 - acc: 0.881 - ETA: 3:58 - loss: 0.2956 - acc: 0.881 - ETA: 3:56 - loss: 0.2956 - acc: 0.881 - ETA: 3:55 - loss: 0.2956 - acc: 0.881 - ETA: 3:54 - loss: 0.2955 - acc: 0.881 - ETA: 3:52 - loss: 0.2954 - acc: 0.881 - ETA: 3:51 - loss: 0.2953 - acc: 0.881 - ETA: 3:49 - loss: 0.2952 - acc: 0.881 - ETA: 3:48 - loss: 0.2946 - acc: 0.881 - ETA: 3:47 - loss: 0.2942 - acc: 0.881 - ETA: 3:45 - loss: 0.2942 - acc: 0.882 - ETA: 3:44 - loss: 0.2940 - acc: 0.882 - ETA: 3:42 - loss: 0.2937 - acc: 0.882 - ETA: 3:41 - loss: 0.2936 - acc: 0.882 - ETA: 3:40 - loss: 0.2932 - acc: 0.882 - ETA: 3:38 - loss: 0.2932 - acc: 0.882 - ETA: 3:37 - loss: 0.2931 - acc: 0.882 - ETA: 3:35 - loss: 0.2930 - acc: 0.882 - ETA: 3:34 - loss: 0.2934 - acc: 0.882 - ETA: 3:33 - loss: 0.2933 - acc: 0.882 - ETA: 3:31 - loss: 0.2929 - acc: 0.882 - ETA: 3:30 - loss: 0.2929 - acc: 0.882 - ETA: 3:28 - loss: 0.2928 - acc: 0.882 - ETA: 3:27 - loss: 0.2925 - acc: 0.883 - ETA: 3:25 - loss: 0.2925 - acc: 0.883 - ETA: 3:24 - loss: 0.2924 - acc: 0.882 - ETA: 3:23 - loss: 0.2926 - acc: 0.882 - ETA: 3:21 - loss: 0.2924 - acc: 0.882 - ETA: 3:20 - loss: 0.2921 - acc: 0.883 - ETA: 3:18 - loss: 0.2921 - acc: 0.883 - ETA: 3:17 - loss: 0.2917 - acc: 0.883 - ETA: 3:16 - loss: 0.2917 - acc: 0.883 - ETA: 3:14 - loss: 0.2914 - acc: 0.883 - ETA: 3:13 - loss: 0.2911 - acc: 0.883 - ETA: 3:11 - loss: 0.2907 - acc: 0.883 - ETA: 3:10 - loss: 0.2909 - acc: 0.883 - ETA: 3:08 - loss: 0.2910 - acc: 0.883 - ETA: 3:07 - loss: 0.2911 - acc: 0.883 - ETA: 3:06 - loss: 0.2907 - acc: 0.883 - ETA: 3:04 - loss: 0.2906 - acc: 0.883 - ETA: 3:03 - loss: 0.2903 - acc: 0.883 - ETA: 3:01 - loss: 0.2902 - acc: 0.883 - ETA: 3:00 - loss: 0.2899 - acc: 0.883 - ETA: 2:59 - loss: 0.2900 - acc: 0.883 - ETA: 2:57 - loss: 0.2897 - acc: 0.883 - ETA: 2:56 - loss: 0.2894 - acc: 0.883 - ETA: 2:54 - loss: 0.2892 - acc: 0.883 - ETA: 2:53 - loss: 0.2889 - acc: 0.884 - ETA: 2:52 - loss: 0.2886 - acc: 0.884 - ETA: 2:50 - loss: 0.2884 - acc: 0.884 - ETA: 2:49 - loss: 0.2883 - acc: 0.884 - ETA: 2:47 - loss: 0.2881 - acc: 0.884 - ETA: 2:46 - loss: 0.2879 - acc: 0.884 - ETA: 2:44 - loss: 0.2874 - acc: 0.884 - ETA: 2:43 - loss: 0.2871 - acc: 0.884 - ETA: 2:42 - loss: 0.2872 - acc: 0.884 - ETA: 2:40 - loss: 0.2874 - acc: 0.884 - ETA: 2:39 - loss: 0.2872 - acc: 0.884 - ETA: 2:37 - loss: 0.2871 - acc: 0.884 - ETA: 2:36 - loss: 0.2869 - acc: 0.885 - ETA: 2:35 - loss: 0.2867 - acc: 0.885 - ETA: 2:33 - loss: 0.2865 - acc: 0.885 - ETA: 2:32 - loss: 0.2863 - acc: 0.885 - ETA: 2:30 - loss: 0.2861 - acc: 0.885 - ETA: 2:29 - loss: 0.2860 - acc: 0.885 - ETA: 2:28 - loss: 0.2858 - acc: 0.885 - ETA: 2:26 - loss: 0.2856 - acc: 0.885 - ETA: 2:25 - loss: 0.2852 - acc: 0.885 - ETA: 2:23 - loss: 0.2848 - acc: 0.885 - ETA: 2:22 - loss: 0.2846 - acc: 0.885 - ETA: 2:20 - loss: 0.2843 - acc: 0.886 - ETA: 2:19 - loss: 0.2841 - acc: 0.886 - ETA: 2:18 - loss: 0.2840 - acc: 0.886 - ETA: 2:16 - loss: 0.2839 - acc: 0.8861"
     ]
    },
    {
     "name": "stdout",
     "output_type": "stream",
     "text": [
      "32249/32249 [==============================] - ETA: 2:15 - loss: 0.2841 - acc: 0.886 - ETA: 2:13 - loss: 0.2841 - acc: 0.885 - ETA: 2:12 - loss: 0.2838 - acc: 0.886 - ETA: 2:11 - loss: 0.2835 - acc: 0.886 - ETA: 2:09 - loss: 0.2835 - acc: 0.886 - ETA: 2:08 - loss: 0.2833 - acc: 0.886 - ETA: 2:06 - loss: 0.2833 - acc: 0.886 - ETA: 2:05 - loss: 0.2834 - acc: 0.886 - ETA: 2:03 - loss: 0.2832 - acc: 0.886 - ETA: 2:02 - loss: 0.2829 - acc: 0.886 - ETA: 2:01 - loss: 0.2830 - acc: 0.886 - ETA: 1:59 - loss: 0.2828 - acc: 0.886 - ETA: 1:58 - loss: 0.2825 - acc: 0.886 - ETA: 1:56 - loss: 0.2822 - acc: 0.886 - ETA: 1:55 - loss: 0.2824 - acc: 0.886 - ETA: 1:54 - loss: 0.2820 - acc: 0.886 - ETA: 1:52 - loss: 0.2819 - acc: 0.886 - ETA: 1:51 - loss: 0.2820 - acc: 0.886 - ETA: 1:49 - loss: 0.2821 - acc: 0.886 - ETA: 1:48 - loss: 0.2819 - acc: 0.887 - ETA: 1:46 - loss: 0.2817 - acc: 0.887 - ETA: 1:45 - loss: 0.2815 - acc: 0.887 - ETA: 1:44 - loss: 0.2811 - acc: 0.887 - ETA: 1:42 - loss: 0.2808 - acc: 0.887 - ETA: 1:41 - loss: 0.2805 - acc: 0.887 - ETA: 1:39 - loss: 0.2805 - acc: 0.887 - ETA: 1:38 - loss: 0.2806 - acc: 0.887 - ETA: 1:36 - loss: 0.2803 - acc: 0.887 - ETA: 1:35 - loss: 0.2804 - acc: 0.887 - ETA: 1:34 - loss: 0.2804 - acc: 0.887 - ETA: 1:32 - loss: 0.2806 - acc: 0.887 - ETA: 1:31 - loss: 0.2806 - acc: 0.887 - ETA: 1:29 - loss: 0.2803 - acc: 0.887 - ETA: 1:28 - loss: 0.2803 - acc: 0.887 - ETA: 1:26 - loss: 0.2800 - acc: 0.887 - ETA: 1:25 - loss: 0.2799 - acc: 0.887 - ETA: 1:24 - loss: 0.2797 - acc: 0.888 - ETA: 1:22 - loss: 0.2798 - acc: 0.888 - ETA: 1:21 - loss: 0.2797 - acc: 0.888 - ETA: 1:19 - loss: 0.2797 - acc: 0.888 - ETA: 1:18 - loss: 0.2795 - acc: 0.888 - ETA: 1:16 - loss: 0.2792 - acc: 0.888 - ETA: 1:15 - loss: 0.2788 - acc: 0.888 - ETA: 1:14 - loss: 0.2790 - acc: 0.888 - ETA: 1:12 - loss: 0.2787 - acc: 0.888 - ETA: 1:11 - loss: 0.2789 - acc: 0.888 - ETA: 1:09 - loss: 0.2789 - acc: 0.888 - ETA: 1:08 - loss: 0.2785 - acc: 0.888 - ETA: 1:07 - loss: 0.2787 - acc: 0.888 - ETA: 1:05 - loss: 0.2786 - acc: 0.888 - ETA: 1:04 - loss: 0.2784 - acc: 0.888 - ETA: 1:02 - loss: 0.2785 - acc: 0.888 - ETA: 1:01 - loss: 0.2782 - acc: 0.889 - ETA: 59s - loss: 0.2780 - acc: 0.889 - ETA: 58s - loss: 0.2778 - acc: 0.88 - ETA: 57s - loss: 0.2778 - acc: 0.88 - ETA: 55s - loss: 0.2777 - acc: 0.88 - ETA: 54s - loss: 0.2778 - acc: 0.88 - ETA: 52s - loss: 0.2779 - acc: 0.88 - ETA: 51s - loss: 0.2778 - acc: 0.88 - ETA: 49s - loss: 0.2775 - acc: 0.88 - ETA: 48s - loss: 0.2772 - acc: 0.88 - ETA: 47s - loss: 0.2771 - acc: 0.88 - ETA: 45s - loss: 0.2768 - acc: 0.88 - ETA: 44s - loss: 0.2768 - acc: 0.88 - ETA: 42s - loss: 0.2766 - acc: 0.88 - ETA: 41s - loss: 0.2764 - acc: 0.88 - ETA: 39s - loss: 0.2763 - acc: 0.88 - ETA: 38s - loss: 0.2760 - acc: 0.88 - ETA: 37s - loss: 0.2757 - acc: 0.89 - ETA: 35s - loss: 0.2754 - acc: 0.89 - ETA: 34s - loss: 0.2752 - acc: 0.89 - ETA: 32s - loss: 0.2750 - acc: 0.89 - ETA: 31s - loss: 0.2747 - acc: 0.89 - ETA: 29s - loss: 0.2747 - acc: 0.89 - ETA: 28s - loss: 0.2746 - acc: 0.89 - ETA: 27s - loss: 0.2746 - acc: 0.89 - ETA: 25s - loss: 0.2747 - acc: 0.89 - ETA: 24s - loss: 0.2746 - acc: 0.89 - ETA: 22s - loss: 0.2744 - acc: 0.89 - ETA: 21s - loss: 0.2742 - acc: 0.89 - ETA: 19s - loss: 0.2740 - acc: 0.89 - ETA: 18s - loss: 0.2739 - acc: 0.89 - ETA: 17s - loss: 0.2737 - acc: 0.89 - ETA: 15s - loss: 0.2736 - acc: 0.89 - ETA: 14s - loss: 0.2736 - acc: 0.89 - ETA: 12s - loss: 0.2735 - acc: 0.89 - ETA: 11s - loss: 0.2734 - acc: 0.89 - ETA: 9s - loss: 0.2733 - acc: 0.8911 - ETA: 8s - loss: 0.2732 - acc: 0.891 - ETA: 7s - loss: 0.2732 - acc: 0.891 - ETA: 5s - loss: 0.2732 - acc: 0.891 - ETA: 4s - loss: 0.2729 - acc: 0.891 - ETA: 2s - loss: 0.2727 - acc: 0.891 - ETA: 1s - loss: 0.2725 - acc: 0.891 - 722s 22ms/step - loss: 0.2724 - acc: 0.8916\n",
      "Epoch 2/3\n"
     ]
    },
    {
     "name": "stdout",
     "output_type": "stream",
     "text": [
      "13056/32249 [===========>..................] - ETA: 11:34 - loss: 0.1565 - acc: 0.93 - ETA: 11:58 - loss: 0.1810 - acc: 0.93 - ETA: 12:05 - loss: 0.2083 - acc: 0.90 - ETA: 11:58 - loss: 0.2051 - acc: 0.90 - ETA: 11:50 - loss: 0.2014 - acc: 0.90 - ETA: 11:48 - loss: 0.1870 - acc: 0.91 - ETA: 11:45 - loss: 0.1896 - acc: 0.91 - ETA: 11:41 - loss: 0.1738 - acc: 0.91 - ETA: 11:39 - loss: 0.1707 - acc: 0.92 - ETA: 11:36 - loss: 0.1796 - acc: 0.92 - ETA: 11:34 - loss: 0.1734 - acc: 0.92 - ETA: 11:32 - loss: 0.1638 - acc: 0.93 - ETA: 11:31 - loss: 0.1574 - acc: 0.93 - ETA: 11:32 - loss: 0.1569 - acc: 0.93 - ETA: 11:31 - loss: 0.1500 - acc: 0.93 - ETA: 11:28 - loss: 0.1481 - acc: 0.93 - ETA: 11:26 - loss: 0.1534 - acc: 0.93 - ETA: 11:24 - loss: 0.1536 - acc: 0.93 - ETA: 11:22 - loss: 0.1562 - acc: 0.93 - ETA: 11:20 - loss: 0.1597 - acc: 0.93 - ETA: 11:18 - loss: 0.1626 - acc: 0.93 - ETA: 11:16 - loss: 0.1639 - acc: 0.93 - ETA: 11:14 - loss: 0.1645 - acc: 0.93 - ETA: 11:13 - loss: 0.1649 - acc: 0.93 - ETA: 11:13 - loss: 0.1640 - acc: 0.93 - ETA: 11:11 - loss: 0.1683 - acc: 0.93 - ETA: 11:09 - loss: 0.1658 - acc: 0.93 - ETA: 11:07 - loss: 0.1655 - acc: 0.93 - ETA: 11:05 - loss: 0.1669 - acc: 0.93 - ETA: 11:03 - loss: 0.1690 - acc: 0.93 - ETA: 11:01 - loss: 0.1733 - acc: 0.93 - ETA: 10:58 - loss: 0.1724 - acc: 0.93 - ETA: 10:56 - loss: 0.1723 - acc: 0.93 - ETA: 10:54 - loss: 0.1750 - acc: 0.93 - ETA: 10:52 - loss: 0.1790 - acc: 0.92 - ETA: 10:50 - loss: 0.1787 - acc: 0.92 - ETA: 10:50 - loss: 0.1769 - acc: 0.93 - ETA: 10:48 - loss: 0.1737 - acc: 0.93 - ETA: 10:47 - loss: 0.1742 - acc: 0.93 - ETA: 10:45 - loss: 0.1737 - acc: 0.93 - ETA: 10:43 - loss: 0.1718 - acc: 0.93 - ETA: 10:41 - loss: 0.1721 - acc: 0.93 - ETA: 10:39 - loss: 0.1740 - acc: 0.93 - ETA: 10:38 - loss: 0.1745 - acc: 0.93 - ETA: 10:36 - loss: 0.1735 - acc: 0.93 - ETA: 10:34 - loss: 0.1725 - acc: 0.93 - ETA: 10:32 - loss: 0.1710 - acc: 0.93 - ETA: 10:31 - loss: 0.1709 - acc: 0.93 - ETA: 10:30 - loss: 0.1696 - acc: 0.93 - ETA: 10:29 - loss: 0.1698 - acc: 0.93 - ETA: 10:27 - loss: 0.1694 - acc: 0.93 - ETA: 10:25 - loss: 0.1692 - acc: 0.93 - ETA: 10:24 - loss: 0.1715 - acc: 0.93 - ETA: 10:22 - loss: 0.1736 - acc: 0.93 - ETA: 10:20 - loss: 0.1733 - acc: 0.93 - ETA: 10:18 - loss: 0.1726 - acc: 0.93 - ETA: 10:16 - loss: 0.1733 - acc: 0.93 - ETA: 10:15 - loss: 0.1724 - acc: 0.93 - ETA: 10:13 - loss: 0.1738 - acc: 0.93 - ETA: 10:12 - loss: 0.1735 - acc: 0.93 - ETA: 10:11 - loss: 0.1740 - acc: 0.93 - ETA: 10:09 - loss: 0.1736 - acc: 0.93 - ETA: 10:08 - loss: 0.1732 - acc: 0.93 - ETA: 10:06 - loss: 0.1754 - acc: 0.93 - ETA: 10:04 - loss: 0.1744 - acc: 0.93 - ETA: 10:03 - loss: 0.1750 - acc: 0.93 - ETA: 10:01 - loss: 0.1758 - acc: 0.93 - ETA: 9:59 - loss: 0.1757 - acc: 0.9304 - ETA: 9:58 - loss: 0.1746 - acc: 0.930 - ETA: 9:56 - loss: 0.1743 - acc: 0.931 - ETA: 9:54 - loss: 0.1743 - acc: 0.930 - ETA: 9:54 - loss: 0.1740 - acc: 0.930 - ETA: 9:52 - loss: 0.1728 - acc: 0.931 - ETA: 9:51 - loss: 0.1739 - acc: 0.930 - ETA: 9:49 - loss: 0.1743 - acc: 0.930 - ETA: 9:48 - loss: 0.1739 - acc: 0.930 - ETA: 9:46 - loss: 0.1740 - acc: 0.930 - ETA: 9:45 - loss: 0.1739 - acc: 0.931 - ETA: 9:43 - loss: 0.1738 - acc: 0.931 - ETA: 9:41 - loss: 0.1730 - acc: 0.931 - ETA: 9:40 - loss: 0.1724 - acc: 0.931 - ETA: 9:38 - loss: 0.1707 - acc: 0.932 - ETA: 9:37 - loss: 0.1701 - acc: 0.932 - ETA: 9:36 - loss: 0.1703 - acc: 0.931 - ETA: 9:35 - loss: 0.1700 - acc: 0.932 - ETA: 9:33 - loss: 0.1702 - acc: 0.932 - ETA: 9:32 - loss: 0.1707 - acc: 0.932 - ETA: 9:30 - loss: 0.1717 - acc: 0.931 - ETA: 9:29 - loss: 0.1721 - acc: 0.931 - ETA: 9:27 - loss: 0.1746 - acc: 0.931 - ETA: 9:25 - loss: 0.1746 - acc: 0.931 - ETA: 9:24 - loss: 0.1747 - acc: 0.931 - ETA: 9:22 - loss: 0.1746 - acc: 0.931 - ETA: 9:21 - loss: 0.1742 - acc: 0.931 - ETA: 9:19 - loss: 0.1732 - acc: 0.932 - ETA: 9:18 - loss: 0.1730 - acc: 0.932 - ETA: 9:17 - loss: 0.1722 - acc: 0.932 - ETA: 9:15 - loss: 0.1713 - acc: 0.933 - ETA: 9:14 - loss: 0.1706 - acc: 0.933 - ETA: 9:12 - loss: 0.1709 - acc: 0.933 - ETA: 9:11 - loss: 0.1703 - acc: 0.933 - ETA: 9:09 - loss: 0.1703 - acc: 0.933 - ETA: 9:08 - loss: 0.1699 - acc: 0.933 - ETA: 9:06 - loss: 0.1692 - acc: 0.933 - ETA: 9:05 - loss: 0.1695 - acc: 0.933 - ETA: 9:03 - loss: 0.1687 - acc: 0.934 - ETA: 9:02 - loss: 0.1686 - acc: 0.933 - ETA: 9:01 - loss: 0.1688 - acc: 0.933 - ETA: 9:00 - loss: 0.1680 - acc: 0.934 - ETA: 8:58 - loss: 0.1668 - acc: 0.934 - ETA: 8:57 - loss: 0.1668 - acc: 0.934 - ETA: 8:55 - loss: 0.1664 - acc: 0.934 - ETA: 8:54 - loss: 0.1681 - acc: 0.934 - ETA: 8:52 - loss: 0.1682 - acc: 0.934 - ETA: 8:51 - loss: 0.1681 - acc: 0.934 - ETA: 8:49 - loss: 0.1680 - acc: 0.934 - ETA: 8:48 - loss: 0.1689 - acc: 0.934 - ETA: 8:46 - loss: 0.1682 - acc: 0.934 - ETA: 8:45 - loss: 0.1688 - acc: 0.934 - ETA: 8:44 - loss: 0.1692 - acc: 0.933 - ETA: 8:43 - loss: 0.1690 - acc: 0.933 - ETA: 8:42 - loss: 0.1686 - acc: 0.934 - ETA: 8:41 - loss: 0.1686 - acc: 0.934 - ETA: 8:40 - loss: 0.1686 - acc: 0.934 - ETA: 8:38 - loss: 0.1684 - acc: 0.934 - ETA: 8:37 - loss: 0.1691 - acc: 0.934 - ETA: 8:35 - loss: 0.1693 - acc: 0.934 - ETA: 8:34 - loss: 0.1700 - acc: 0.933 - ETA: 8:32 - loss: 0.1698 - acc: 0.933 - ETA: 8:31 - loss: 0.1698 - acc: 0.933 - ETA: 8:30 - loss: 0.1701 - acc: 0.933 - ETA: 8:28 - loss: 0.1697 - acc: 0.933 - ETA: 8:27 - loss: 0.1692 - acc: 0.933 - ETA: 8:26 - loss: 0.1697 - acc: 0.933 - ETA: 8:24 - loss: 0.1691 - acc: 0.933 - ETA: 8:23 - loss: 0.1690 - acc: 0.933 - ETA: 8:21 - loss: 0.1686 - acc: 0.934 - ETA: 8:20 - loss: 0.1688 - acc: 0.934 - ETA: 8:18 - loss: 0.1682 - acc: 0.934 - ETA: 8:17 - loss: 0.1680 - acc: 0.934 - ETA: 8:16 - loss: 0.1677 - acc: 0.934 - ETA: 8:14 - loss: 0.1677 - acc: 0.934 - ETA: 8:13 - loss: 0.1679 - acc: 0.933 - ETA: 8:12 - loss: 0.1687 - acc: 0.933 - ETA: 8:10 - loss: 0.1688 - acc: 0.933 - ETA: 8:09 - loss: 0.1682 - acc: 0.934 - ETA: 8:08 - loss: 0.1683 - acc: 0.934 - ETA: 8:06 - loss: 0.1685 - acc: 0.933 - ETA: 8:05 - loss: 0.1683 - acc: 0.933 - ETA: 8:03 - loss: 0.1698 - acc: 0.933 - ETA: 8:02 - loss: 0.1702 - acc: 0.932 - ETA: 8:00 - loss: 0.1702 - acc: 0.932 - ETA: 7:59 - loss: 0.1698 - acc: 0.933 - ETA: 7:57 - loss: 0.1701 - acc: 0.932 - ETA: 7:56 - loss: 0.1704 - acc: 0.932 - ETA: 7:55 - loss: 0.1700 - acc: 0.933 - ETA: 7:53 - loss: 0.1704 - acc: 0.932 - ETA: 7:52 - loss: 0.1704 - acc: 0.933 - ETA: 7:51 - loss: 0.1714 - acc: 0.932 - ETA: 7:49 - loss: 0.1721 - acc: 0.932 - ETA: 7:48 - loss: 0.1716 - acc: 0.932 - ETA: 7:46 - loss: 0.1714 - acc: 0.932 - ETA: 7:45 - loss: 0.1716 - acc: 0.932 - ETA: 7:43 - loss: 0.1716 - acc: 0.932 - ETA: 7:42 - loss: 0.1713 - acc: 0.933 - ETA: 7:41 - loss: 0.1716 - acc: 0.933 - ETA: 7:39 - loss: 0.1716 - acc: 0.932 - ETA: 7:38 - loss: 0.1716 - acc: 0.932 - ETA: 7:37 - loss: 0.1720 - acc: 0.932 - ETA: 7:35 - loss: 0.1719 - acc: 0.932 - ETA: 7:34 - loss: 0.1719 - acc: 0.932 - ETA: 7:32 - loss: 0.1717 - acc: 0.932 - ETA: 7:31 - loss: 0.1720 - acc: 0.932 - ETA: 7:29 - loss: 0.1717 - acc: 0.932 - ETA: 7:28 - loss: 0.1716 - acc: 0.932 - ETA: 7:26 - loss: 0.1718 - acc: 0.932 - ETA: 7:25 - loss: 0.1718 - acc: 0.932 - ETA: 7:24 - loss: 0.1721 - acc: 0.932 - ETA: 7:22 - loss: 0.1720 - acc: 0.932 - ETA: 7:21 - loss: 0.1718 - acc: 0.932 - ETA: 7:20 - loss: 0.1719 - acc: 0.932 - ETA: 7:18 - loss: 0.1718 - acc: 0.932 - ETA: 7:17 - loss: 0.1721 - acc: 0.932 - ETA: 7:15 - loss: 0.1727 - acc: 0.932 - ETA: 7:14 - loss: 0.1725 - acc: 0.932 - ETA: 7:12 - loss: 0.1722 - acc: 0.932 - ETA: 7:11 - loss: 0.1724 - acc: 0.932 - ETA: 7:10 - loss: 0.1724 - acc: 0.932 - ETA: 7:08 - loss: 0.1721 - acc: 0.932 - ETA: 7:07 - loss: 0.1720 - acc: 0.932 - ETA: 7:06 - loss: 0.1727 - acc: 0.932 - ETA: 7:04 - loss: 0.1728 - acc: 0.932 - ETA: 7:03 - loss: 0.1727 - acc: 0.932 - ETA: 7:01 - loss: 0.1728 - acc: 0.932 - ETA: 7:00 - loss: 0.1728 - acc: 0.932 - ETA: 6:59 - loss: 0.1731 - acc: 0.932 - ETA: 6:57 - loss: 0.1733 - acc: 0.932 - ETA: 6:56 - loss: 0.1733 - acc: 0.932 - ETA: 6:54 - loss: 0.1731 - acc: 0.932 - ETA: 6:53 - loss: 0.1732 - acc: 0.932 - ETA: 6:52 - loss: 0.1738 - acc: 0.932 - ETA: 6:50 - loss: 0.1741 - acc: 0.932 - ETA: 6:49 - loss: 0.1733 - acc: 0.932 - ETA: 6:48 - loss: 0.1733 - acc: 0.9327"
     ]
    },
    {
     "name": "stdout",
     "output_type": "stream",
     "text": [
      "26112/32249 [=======================>......] - ETA: 6:46 - loss: 0.1735 - acc: 0.932 - ETA: 6:45 - loss: 0.1737 - acc: 0.932 - ETA: 6:43 - loss: 0.1735 - acc: 0.932 - ETA: 6:42 - loss: 0.1730 - acc: 0.932 - ETA: 6:41 - loss: 0.1733 - acc: 0.932 - ETA: 6:39 - loss: 0.1734 - acc: 0.932 - ETA: 6:38 - loss: 0.1733 - acc: 0.932 - ETA: 6:36 - loss: 0.1729 - acc: 0.932 - ETA: 6:35 - loss: 0.1728 - acc: 0.932 - ETA: 6:34 - loss: 0.1738 - acc: 0.932 - ETA: 6:33 - loss: 0.1741 - acc: 0.932 - ETA: 6:31 - loss: 0.1743 - acc: 0.932 - ETA: 6:30 - loss: 0.1746 - acc: 0.932 - ETA: 6:28 - loss: 0.1749 - acc: 0.932 - ETA: 6:27 - loss: 0.1746 - acc: 0.932 - ETA: 6:26 - loss: 0.1746 - acc: 0.932 - ETA: 6:24 - loss: 0.1751 - acc: 0.932 - ETA: 6:23 - loss: 0.1754 - acc: 0.932 - ETA: 6:21 - loss: 0.1754 - acc: 0.932 - ETA: 6:20 - loss: 0.1754 - acc: 0.932 - ETA: 6:18 - loss: 0.1757 - acc: 0.931 - ETA: 6:17 - loss: 0.1755 - acc: 0.931 - ETA: 6:16 - loss: 0.1752 - acc: 0.931 - ETA: 6:14 - loss: 0.1752 - acc: 0.931 - ETA: 6:13 - loss: 0.1751 - acc: 0.931 - ETA: 6:12 - loss: 0.1753 - acc: 0.931 - ETA: 6:10 - loss: 0.1752 - acc: 0.931 - ETA: 6:09 - loss: 0.1747 - acc: 0.931 - ETA: 6:08 - loss: 0.1745 - acc: 0.932 - ETA: 6:06 - loss: 0.1748 - acc: 0.932 - ETA: 6:05 - loss: 0.1746 - acc: 0.932 - ETA: 6:04 - loss: 0.1747 - acc: 0.932 - ETA: 6:02 - loss: 0.1749 - acc: 0.932 - ETA: 6:01 - loss: 0.1748 - acc: 0.932 - ETA: 6:00 - loss: 0.1749 - acc: 0.931 - ETA: 5:58 - loss: 0.1754 - acc: 0.931 - ETA: 5:57 - loss: 0.1753 - acc: 0.931 - ETA: 5:56 - loss: 0.1754 - acc: 0.931 - ETA: 5:54 - loss: 0.1754 - acc: 0.931 - ETA: 5:53 - loss: 0.1754 - acc: 0.931 - ETA: 5:51 - loss: 0.1750 - acc: 0.931 - ETA: 5:50 - loss: 0.1751 - acc: 0.931 - ETA: 5:49 - loss: 0.1749 - acc: 0.931 - ETA: 5:47 - loss: 0.1753 - acc: 0.931 - ETA: 5:46 - loss: 0.1752 - acc: 0.931 - ETA: 5:45 - loss: 0.1749 - acc: 0.931 - ETA: 5:43 - loss: 0.1747 - acc: 0.932 - ETA: 5:42 - loss: 0.1753 - acc: 0.931 - ETA: 5:41 - loss: 0.1752 - acc: 0.931 - ETA: 5:39 - loss: 0.1755 - acc: 0.931 - ETA: 5:38 - loss: 0.1754 - acc: 0.932 - ETA: 5:36 - loss: 0.1755 - acc: 0.931 - ETA: 5:35 - loss: 0.1754 - acc: 0.932 - ETA: 5:34 - loss: 0.1753 - acc: 0.932 - ETA: 5:32 - loss: 0.1752 - acc: 0.932 - ETA: 5:31 - loss: 0.1751 - acc: 0.932 - ETA: 5:29 - loss: 0.1751 - acc: 0.932 - ETA: 5:28 - loss: 0.1754 - acc: 0.932 - ETA: 5:27 - loss: 0.1753 - acc: 0.932 - ETA: 5:25 - loss: 0.1748 - acc: 0.932 - ETA: 5:24 - loss: 0.1750 - acc: 0.932 - ETA: 5:23 - loss: 0.1750 - acc: 0.932 - ETA: 5:21 - loss: 0.1751 - acc: 0.932 - ETA: 5:20 - loss: 0.1748 - acc: 0.932 - ETA: 5:18 - loss: 0.1750 - acc: 0.932 - ETA: 5:17 - loss: 0.1752 - acc: 0.932 - ETA: 5:16 - loss: 0.1751 - acc: 0.932 - ETA: 5:14 - loss: 0.1750 - acc: 0.932 - ETA: 5:13 - loss: 0.1750 - acc: 0.932 - ETA: 5:12 - loss: 0.1749 - acc: 0.932 - ETA: 5:10 - loss: 0.1749 - acc: 0.932 - ETA: 5:09 - loss: 0.1747 - acc: 0.932 - ETA: 5:08 - loss: 0.1745 - acc: 0.932 - ETA: 5:06 - loss: 0.1747 - acc: 0.932 - ETA: 5:05 - loss: 0.1750 - acc: 0.932 - ETA: 5:04 - loss: 0.1757 - acc: 0.932 - ETA: 5:02 - loss: 0.1758 - acc: 0.931 - ETA: 5:01 - loss: 0.1757 - acc: 0.931 - ETA: 4:59 - loss: 0.1756 - acc: 0.932 - ETA: 4:58 - loss: 0.1758 - acc: 0.931 - ETA: 4:57 - loss: 0.1758 - acc: 0.931 - ETA: 4:56 - loss: 0.1761 - acc: 0.931 - ETA: 4:54 - loss: 0.1765 - acc: 0.931 - ETA: 4:53 - loss: 0.1763 - acc: 0.931 - ETA: 4:51 - loss: 0.1765 - acc: 0.931 - ETA: 4:50 - loss: 0.1767 - acc: 0.931 - ETA: 4:49 - loss: 0.1767 - acc: 0.931 - ETA: 4:47 - loss: 0.1767 - acc: 0.931 - ETA: 4:46 - loss: 0.1765 - acc: 0.931 - ETA: 4:45 - loss: 0.1768 - acc: 0.931 - ETA: 4:43 - loss: 0.1768 - acc: 0.931 - ETA: 4:42 - loss: 0.1767 - acc: 0.931 - ETA: 4:41 - loss: 0.1765 - acc: 0.931 - ETA: 4:39 - loss: 0.1767 - acc: 0.931 - ETA: 4:38 - loss: 0.1769 - acc: 0.931 - ETA: 4:36 - loss: 0.1768 - acc: 0.931 - ETA: 4:35 - loss: 0.1772 - acc: 0.931 - ETA: 4:34 - loss: 0.1771 - acc: 0.931 - ETA: 4:32 - loss: 0.1772 - acc: 0.931 - ETA: 4:31 - loss: 0.1779 - acc: 0.931 - ETA: 4:30 - loss: 0.1779 - acc: 0.931 - ETA: 4:28 - loss: 0.1779 - acc: 0.931 - ETA: 4:27 - loss: 0.1777 - acc: 0.931 - ETA: 4:26 - loss: 0.1776 - acc: 0.931 - ETA: 4:24 - loss: 0.1775 - acc: 0.931 - ETA: 4:23 - loss: 0.1775 - acc: 0.931 - ETA: 4:22 - loss: 0.1777 - acc: 0.931 - ETA: 4:20 - loss: 0.1774 - acc: 0.931 - ETA: 4:19 - loss: 0.1771 - acc: 0.931 - ETA: 4:17 - loss: 0.1771 - acc: 0.931 - ETA: 4:16 - loss: 0.1773 - acc: 0.931 - ETA: 4:15 - loss: 0.1774 - acc: 0.931 - ETA: 4:13 - loss: 0.1775 - acc: 0.931 - ETA: 4:12 - loss: 0.1776 - acc: 0.931 - ETA: 4:11 - loss: 0.1776 - acc: 0.931 - ETA: 4:09 - loss: 0.1775 - acc: 0.931 - ETA: 4:08 - loss: 0.1779 - acc: 0.931 - ETA: 4:07 - loss: 0.1779 - acc: 0.931 - ETA: 4:05 - loss: 0.1781 - acc: 0.931 - ETA: 4:04 - loss: 0.1781 - acc: 0.931 - ETA: 4:03 - loss: 0.1782 - acc: 0.931 - ETA: 4:01 - loss: 0.1781 - acc: 0.931 - ETA: 4:00 - loss: 0.1780 - acc: 0.931 - ETA: 3:59 - loss: 0.1780 - acc: 0.931 - ETA: 3:57 - loss: 0.1784 - acc: 0.931 - ETA: 3:56 - loss: 0.1787 - acc: 0.931 - ETA: 3:54 - loss: 0.1786 - acc: 0.931 - ETA: 3:53 - loss: 0.1785 - acc: 0.931 - ETA: 3:52 - loss: 0.1785 - acc: 0.931 - ETA: 3:50 - loss: 0.1784 - acc: 0.931 - ETA: 3:49 - loss: 0.1783 - acc: 0.931 - ETA: 3:48 - loss: 0.1783 - acc: 0.931 - ETA: 3:46 - loss: 0.1781 - acc: 0.931 - ETA: 3:45 - loss: 0.1780 - acc: 0.931 - ETA: 3:44 - loss: 0.1780 - acc: 0.931 - ETA: 3:42 - loss: 0.1782 - acc: 0.931 - ETA: 3:41 - loss: 0.1783 - acc: 0.931 - ETA: 3:40 - loss: 0.1787 - acc: 0.930 - ETA: 3:38 - loss: 0.1790 - acc: 0.930 - ETA: 3:37 - loss: 0.1788 - acc: 0.930 - ETA: 3:36 - loss: 0.1788 - acc: 0.930 - ETA: 3:34 - loss: 0.1789 - acc: 0.930 - ETA: 3:33 - loss: 0.1790 - acc: 0.930 - ETA: 3:32 - loss: 0.1788 - acc: 0.930 - ETA: 3:30 - loss: 0.1788 - acc: 0.931 - ETA: 3:29 - loss: 0.1786 - acc: 0.931 - ETA: 3:28 - loss: 0.1787 - acc: 0.931 - ETA: 3:26 - loss: 0.1788 - acc: 0.930 - ETA: 3:25 - loss: 0.1789 - acc: 0.930 - ETA: 3:23 - loss: 0.1788 - acc: 0.931 - ETA: 3:22 - loss: 0.1792 - acc: 0.930 - ETA: 3:21 - loss: 0.1791 - acc: 0.930 - ETA: 3:19 - loss: 0.1788 - acc: 0.931 - ETA: 3:18 - loss: 0.1790 - acc: 0.931 - ETA: 3:17 - loss: 0.1793 - acc: 0.930 - ETA: 3:15 - loss: 0.1792 - acc: 0.930 - ETA: 3:14 - loss: 0.1790 - acc: 0.931 - ETA: 3:13 - loss: 0.1790 - acc: 0.930 - ETA: 3:11 - loss: 0.1791 - acc: 0.930 - ETA: 3:10 - loss: 0.1789 - acc: 0.930 - ETA: 3:09 - loss: 0.1788 - acc: 0.930 - ETA: 3:07 - loss: 0.1788 - acc: 0.930 - ETA: 3:06 - loss: 0.1789 - acc: 0.930 - ETA: 3:05 - loss: 0.1791 - acc: 0.930 - ETA: 3:03 - loss: 0.1791 - acc: 0.930 - ETA: 3:02 - loss: 0.1791 - acc: 0.930 - ETA: 3:00 - loss: 0.1791 - acc: 0.930 - ETA: 2:59 - loss: 0.1788 - acc: 0.930 - ETA: 2:58 - loss: 0.1791 - acc: 0.930 - ETA: 2:56 - loss: 0.1792 - acc: 0.930 - ETA: 2:55 - loss: 0.1792 - acc: 0.930 - ETA: 2:54 - loss: 0.1792 - acc: 0.930 - ETA: 2:52 - loss: 0.1790 - acc: 0.930 - ETA: 2:51 - loss: 0.1789 - acc: 0.930 - ETA: 2:50 - loss: 0.1789 - acc: 0.930 - ETA: 2:48 - loss: 0.1791 - acc: 0.930 - ETA: 2:47 - loss: 0.1794 - acc: 0.930 - ETA: 2:46 - loss: 0.1793 - acc: 0.930 - ETA: 2:44 - loss: 0.1791 - acc: 0.930 - ETA: 2:43 - loss: 0.1793 - acc: 0.930 - ETA: 2:41 - loss: 0.1796 - acc: 0.930 - ETA: 2:40 - loss: 0.1796 - acc: 0.930 - ETA: 2:39 - loss: 0.1794 - acc: 0.930 - ETA: 2:37 - loss: 0.1794 - acc: 0.930 - ETA: 2:36 - loss: 0.1795 - acc: 0.930 - ETA: 2:35 - loss: 0.1795 - acc: 0.930 - ETA: 2:33 - loss: 0.1794 - acc: 0.930 - ETA: 2:32 - loss: 0.1793 - acc: 0.930 - ETA: 2:31 - loss: 0.1794 - acc: 0.930 - ETA: 2:29 - loss: 0.1795 - acc: 0.930 - ETA: 2:28 - loss: 0.1796 - acc: 0.930 - ETA: 2:27 - loss: 0.1798 - acc: 0.930 - ETA: 2:25 - loss: 0.1796 - acc: 0.930 - ETA: 2:24 - loss: 0.1795 - acc: 0.930 - ETA: 2:22 - loss: 0.1797 - acc: 0.930 - ETA: 2:21 - loss: 0.1800 - acc: 0.930 - ETA: 2:20 - loss: 0.1798 - acc: 0.930 - ETA: 2:18 - loss: 0.1797 - acc: 0.930 - ETA: 2:17 - loss: 0.1800 - acc: 0.930 - ETA: 2:16 - loss: 0.1800 - acc: 0.930 - ETA: 2:14 - loss: 0.1801 - acc: 0.930 - ETA: 2:13 - loss: 0.1800 - acc: 0.930 - ETA: 2:12 - loss: 0.1799 - acc: 0.930 - ETA: 2:10 - loss: 0.1799 - acc: 0.9303"
     ]
    },
    {
     "name": "stdout",
     "output_type": "stream",
     "text": [
      "32249/32249 [==============================] - ETA: 2:09 - loss: 0.1801 - acc: 0.930 - ETA: 2:07 - loss: 0.1802 - acc: 0.930 - ETA: 2:06 - loss: 0.1801 - acc: 0.930 - ETA: 2:05 - loss: 0.1800 - acc: 0.930 - ETA: 2:03 - loss: 0.1800 - acc: 0.930 - ETA: 2:02 - loss: 0.1799 - acc: 0.930 - ETA: 2:01 - loss: 0.1799 - acc: 0.930 - ETA: 1:59 - loss: 0.1797 - acc: 0.930 - ETA: 1:58 - loss: 0.1794 - acc: 0.930 - ETA: 1:57 - loss: 0.1792 - acc: 0.930 - ETA: 1:55 - loss: 0.1796 - acc: 0.930 - ETA: 1:54 - loss: 0.1797 - acc: 0.930 - ETA: 1:53 - loss: 0.1795 - acc: 0.930 - ETA: 1:51 - loss: 0.1797 - acc: 0.930 - ETA: 1:50 - loss: 0.1796 - acc: 0.930 - ETA: 1:48 - loss: 0.1796 - acc: 0.930 - ETA: 1:47 - loss: 0.1794 - acc: 0.930 - ETA: 1:46 - loss: 0.1792 - acc: 0.930 - ETA: 1:44 - loss: 0.1791 - acc: 0.930 - ETA: 1:43 - loss: 0.1792 - acc: 0.930 - ETA: 1:42 - loss: 0.1793 - acc: 0.930 - ETA: 1:40 - loss: 0.1792 - acc: 0.930 - ETA: 1:39 - loss: 0.1793 - acc: 0.930 - ETA: 1:38 - loss: 0.1792 - acc: 0.930 - ETA: 1:36 - loss: 0.1792 - acc: 0.930 - ETA: 1:35 - loss: 0.1793 - acc: 0.930 - ETA: 1:33 - loss: 0.1792 - acc: 0.930 - ETA: 1:32 - loss: 0.1791 - acc: 0.930 - ETA: 1:31 - loss: 0.1791 - acc: 0.930 - ETA: 1:29 - loss: 0.1790 - acc: 0.930 - ETA: 1:28 - loss: 0.1789 - acc: 0.931 - ETA: 1:27 - loss: 0.1786 - acc: 0.931 - ETA: 1:25 - loss: 0.1784 - acc: 0.931 - ETA: 1:24 - loss: 0.1782 - acc: 0.931 - ETA: 1:23 - loss: 0.1782 - acc: 0.931 - ETA: 1:21 - loss: 0.1781 - acc: 0.931 - ETA: 1:20 - loss: 0.1779 - acc: 0.931 - ETA: 1:18 - loss: 0.1780 - acc: 0.931 - ETA: 1:17 - loss: 0.1778 - acc: 0.931 - ETA: 1:16 - loss: 0.1775 - acc: 0.931 - ETA: 1:14 - loss: 0.1773 - acc: 0.931 - ETA: 1:13 - loss: 0.1773 - acc: 0.931 - ETA: 1:12 - loss: 0.1772 - acc: 0.931 - ETA: 1:10 - loss: 0.1770 - acc: 0.931 - ETA: 1:09 - loss: 0.1772 - acc: 0.931 - ETA: 1:08 - loss: 0.1774 - acc: 0.931 - ETA: 1:06 - loss: 0.1773 - acc: 0.931 - ETA: 1:05 - loss: 0.1775 - acc: 0.931 - ETA: 1:03 - loss: 0.1779 - acc: 0.931 - ETA: 1:02 - loss: 0.1778 - acc: 0.931 - ETA: 1:01 - loss: 0.1779 - acc: 0.931 - ETA: 59s - loss: 0.1781 - acc: 0.931 - ETA: 58s - loss: 0.1781 - acc: 0.93 - ETA: 57s - loss: 0.1781 - acc: 0.93 - ETA: 55s - loss: 0.1782 - acc: 0.93 - ETA: 54s - loss: 0.1783 - acc: 0.93 - ETA: 53s - loss: 0.1783 - acc: 0.93 - ETA: 51s - loss: 0.1784 - acc: 0.93 - ETA: 50s - loss: 0.1785 - acc: 0.93 - ETA: 49s - loss: 0.1784 - acc: 0.93 - ETA: 47s - loss: 0.1784 - acc: 0.93 - ETA: 46s - loss: 0.1783 - acc: 0.93 - ETA: 44s - loss: 0.1783 - acc: 0.93 - ETA: 43s - loss: 0.1787 - acc: 0.93 - ETA: 42s - loss: 0.1787 - acc: 0.93 - ETA: 40s - loss: 0.1788 - acc: 0.93 - ETA: 39s - loss: 0.1787 - acc: 0.93 - ETA: 38s - loss: 0.1785 - acc: 0.93 - ETA: 36s - loss: 0.1788 - acc: 0.93 - ETA: 35s - loss: 0.1786 - acc: 0.93 - ETA: 33s - loss: 0.1785 - acc: 0.93 - ETA: 32s - loss: 0.1786 - acc: 0.93 - ETA: 31s - loss: 0.1786 - acc: 0.93 - ETA: 29s - loss: 0.1788 - acc: 0.93 - ETA: 28s - loss: 0.1788 - acc: 0.93 - ETA: 27s - loss: 0.1786 - acc: 0.93 - ETA: 25s - loss: 0.1786 - acc: 0.93 - ETA: 24s - loss: 0.1790 - acc: 0.93 - ETA: 23s - loss: 0.1789 - acc: 0.93 - ETA: 21s - loss: 0.1791 - acc: 0.93 - ETA: 20s - loss: 0.1793 - acc: 0.93 - ETA: 18s - loss: 0.1792 - acc: 0.93 - ETA: 17s - loss: 0.1794 - acc: 0.93 - ETA: 16s - loss: 0.1795 - acc: 0.93 - ETA: 14s - loss: 0.1795 - acc: 0.93 - ETA: 13s - loss: 0.1796 - acc: 0.93 - ETA: 12s - loss: 0.1796 - acc: 0.93 - ETA: 10s - loss: 0.1796 - acc: 0.93 - ETA: 9s - loss: 0.1797 - acc: 0.9309 - ETA: 8s - loss: 0.1797 - acc: 0.930 - ETA: 6s - loss: 0.1796 - acc: 0.931 - ETA: 5s - loss: 0.1795 - acc: 0.931 - ETA: 3s - loss: 0.1795 - acc: 0.931 - ETA: 2s - loss: 0.1796 - acc: 0.931 - ETA: 1s - loss: 0.1797 - acc: 0.931 - 689s 21ms/step - loss: 0.1798 - acc: 0.9311\n",
      "Epoch 3/3\n"
     ]
    },
    {
     "name": "stdout",
     "output_type": "stream",
     "text": [
      "13056/32249 [===========>..................] - ETA: 11:39 - loss: 0.1433 - acc: 0.90 - ETA: 12:00 - loss: 0.1052 - acc: 0.95 - ETA: 11:55 - loss: 0.1056 - acc: 0.95 - ETA: 11:44 - loss: 0.1006 - acc: 0.96 - ETA: 11:37 - loss: 0.1049 - acc: 0.96 - ETA: 11:33 - loss: 0.1085 - acc: 0.95 - ETA: 11:29 - loss: 0.1237 - acc: 0.95 - ETA: 11:23 - loss: 0.1527 - acc: 0.94 - ETA: 11:21 - loss: 0.1563 - acc: 0.94 - ETA: 11:20 - loss: 0.1570 - acc: 0.94 - ETA: 11:17 - loss: 0.1522 - acc: 0.94 - ETA: 11:15 - loss: 0.1477 - acc: 0.94 - ETA: 11:15 - loss: 0.1463 - acc: 0.94 - ETA: 11:17 - loss: 0.1505 - acc: 0.94 - ETA: 11:15 - loss: 0.1508 - acc: 0.95 - ETA: 11:13 - loss: 0.1514 - acc: 0.94 - ETA: 11:11 - loss: 0.1504 - acc: 0.94 - ETA: 11:09 - loss: 0.1515 - acc: 0.94 - ETA: 11:07 - loss: 0.1521 - acc: 0.94 - ETA: 11:05 - loss: 0.1500 - acc: 0.94 - ETA: 11:03 - loss: 0.1468 - acc: 0.94 - ETA: 11:02 - loss: 0.1434 - acc: 0.94 - ETA: 11:00 - loss: 0.1461 - acc: 0.94 - ETA: 10:58 - loss: 0.1518 - acc: 0.94 - ETA: 10:59 - loss: 0.1548 - acc: 0.94 - ETA: 10:57 - loss: 0.1500 - acc: 0.94 - ETA: 10:55 - loss: 0.1456 - acc: 0.94 - ETA: 10:54 - loss: 0.1443 - acc: 0.94 - ETA: 10:52 - loss: 0.1446 - acc: 0.94 - ETA: 10:51 - loss: 0.1460 - acc: 0.94 - ETA: 10:50 - loss: 0.1463 - acc: 0.94 - ETA: 10:48 - loss: 0.1430 - acc: 0.95 - ETA: 10:46 - loss: 0.1421 - acc: 0.95 - ETA: 10:45 - loss: 0.1431 - acc: 0.95 - ETA: 10:42 - loss: 0.1410 - acc: 0.95 - ETA: 10:41 - loss: 0.1391 - acc: 0.95 - ETA: 10:41 - loss: 0.1422 - acc: 0.95 - ETA: 10:39 - loss: 0.1417 - acc: 0.95 - ETA: 10:38 - loss: 0.1397 - acc: 0.95 - ETA: 10:36 - loss: 0.1385 - acc: 0.95 - ETA: 10:34 - loss: 0.1422 - acc: 0.95 - ETA: 10:32 - loss: 0.1412 - acc: 0.95 - ETA: 10:31 - loss: 0.1410 - acc: 0.95 - ETA: 10:29 - loss: 0.1400 - acc: 0.95 - ETA: 10:28 - loss: 0.1407 - acc: 0.95 - ETA: 10:26 - loss: 0.1385 - acc: 0.95 - ETA: 10:25 - loss: 0.1398 - acc: 0.95 - ETA: 10:24 - loss: 0.1394 - acc: 0.95 - ETA: 10:23 - loss: 0.1381 - acc: 0.95 - ETA: 10:23 - loss: 0.1370 - acc: 0.95 - ETA: 10:23 - loss: 0.1371 - acc: 0.95 - ETA: 10:22 - loss: 0.1356 - acc: 0.95 - ETA: 10:21 - loss: 0.1355 - acc: 0.95 - ETA: 10:22 - loss: 0.1354 - acc: 0.95 - ETA: 10:20 - loss: 0.1351 - acc: 0.95 - ETA: 10:21 - loss: 0.1343 - acc: 0.95 - ETA: 10:20 - loss: 0.1330 - acc: 0.95 - ETA: 10:19 - loss: 0.1329 - acc: 0.95 - ETA: 10:18 - loss: 0.1330 - acc: 0.95 - ETA: 10:17 - loss: 0.1322 - acc: 0.95 - ETA: 10:16 - loss: 0.1323 - acc: 0.95 - ETA: 10:14 - loss: 0.1317 - acc: 0.95 - ETA: 10:12 - loss: 0.1305 - acc: 0.95 - ETA: 10:10 - loss: 0.1302 - acc: 0.95 - ETA: 10:08 - loss: 0.1307 - acc: 0.95 - ETA: 10:06 - loss: 0.1302 - acc: 0.95 - ETA: 10:04 - loss: 0.1302 - acc: 0.95 - ETA: 10:03 - loss: 0.1293 - acc: 0.95 - ETA: 10:01 - loss: 0.1329 - acc: 0.95 - ETA: 9:59 - loss: 0.1333 - acc: 0.9516 - ETA: 9:58 - loss: 0.1325 - acc: 0.951 - ETA: 9:58 - loss: 0.1325 - acc: 0.951 - ETA: 9:56 - loss: 0.1317 - acc: 0.952 - ETA: 9:55 - loss: 0.1303 - acc: 0.952 - ETA: 9:54 - loss: 0.1304 - acc: 0.952 - ETA: 9:52 - loss: 0.1310 - acc: 0.952 - ETA: 9:51 - loss: 0.1307 - acc: 0.952 - ETA: 9:50 - loss: 0.1299 - acc: 0.952 - ETA: 9:49 - loss: 0.1319 - acc: 0.952 - ETA: 9:48 - loss: 0.1313 - acc: 0.952 - ETA: 9:46 - loss: 0.1321 - acc: 0.952 - ETA: 9:45 - loss: 0.1322 - acc: 0.952 - ETA: 9:44 - loss: 0.1326 - acc: 0.951 - ETA: 9:43 - loss: 0.1331 - acc: 0.951 - ETA: 9:42 - loss: 0.1332 - acc: 0.950 - ETA: 9:40 - loss: 0.1335 - acc: 0.950 - ETA: 9:39 - loss: 0.1328 - acc: 0.951 - ETA: 9:37 - loss: 0.1332 - acc: 0.951 - ETA: 9:36 - loss: 0.1329 - acc: 0.951 - ETA: 9:34 - loss: 0.1323 - acc: 0.951 - ETA: 9:33 - loss: 0.1324 - acc: 0.951 - ETA: 9:32 - loss: 0.1334 - acc: 0.951 - ETA: 9:30 - loss: 0.1324 - acc: 0.951 - ETA: 9:30 - loss: 0.1323 - acc: 0.951 - ETA: 9:29 - loss: 0.1319 - acc: 0.951 - ETA: 9:27 - loss: 0.1310 - acc: 0.952 - ETA: 9:26 - loss: 0.1313 - acc: 0.952 - ETA: 9:24 - loss: 0.1328 - acc: 0.951 - ETA: 9:22 - loss: 0.1320 - acc: 0.951 - ETA: 9:21 - loss: 0.1319 - acc: 0.951 - ETA: 9:20 - loss: 0.1329 - acc: 0.951 - ETA: 9:18 - loss: 0.1336 - acc: 0.951 - ETA: 9:17 - loss: 0.1335 - acc: 0.951 - ETA: 9:16 - loss: 0.1334 - acc: 0.951 - ETA: 9:15 - loss: 0.1332 - acc: 0.951 - ETA: 9:14 - loss: 0.1330 - acc: 0.951 - ETA: 9:12 - loss: 0.1327 - acc: 0.951 - ETA: 9:11 - loss: 0.1328 - acc: 0.951 - ETA: 9:09 - loss: 0.1345 - acc: 0.950 - ETA: 9:08 - loss: 0.1337 - acc: 0.951 - ETA: 9:06 - loss: 0.1331 - acc: 0.951 - ETA: 9:05 - loss: 0.1333 - acc: 0.950 - ETA: 9:04 - loss: 0.1334 - acc: 0.950 - ETA: 9:02 - loss: 0.1333 - acc: 0.950 - ETA: 9:01 - loss: 0.1333 - acc: 0.950 - ETA: 8:59 - loss: 0.1332 - acc: 0.950 - ETA: 8:58 - loss: 0.1333 - acc: 0.950 - ETA: 8:57 - loss: 0.1331 - acc: 0.950 - ETA: 8:56 - loss: 0.1340 - acc: 0.950 - ETA: 8:54 - loss: 0.1343 - acc: 0.950 - ETA: 8:53 - loss: 0.1344 - acc: 0.950 - ETA: 8:52 - loss: 0.1352 - acc: 0.949 - ETA: 8:50 - loss: 0.1354 - acc: 0.949 - ETA: 8:49 - loss: 0.1367 - acc: 0.949 - ETA: 8:47 - loss: 0.1364 - acc: 0.949 - ETA: 8:46 - loss: 0.1367 - acc: 0.949 - ETA: 8:44 - loss: 0.1364 - acc: 0.949 - ETA: 8:43 - loss: 0.1369 - acc: 0.949 - ETA: 8:42 - loss: 0.1375 - acc: 0.949 - ETA: 8:41 - loss: 0.1380 - acc: 0.949 - ETA: 8:39 - loss: 0.1386 - acc: 0.948 - ETA: 8:38 - loss: 0.1383 - acc: 0.949 - ETA: 8:37 - loss: 0.1385 - acc: 0.948 - ETA: 8:35 - loss: 0.1389 - acc: 0.948 - ETA: 8:34 - loss: 0.1390 - acc: 0.948 - ETA: 8:32 - loss: 0.1385 - acc: 0.949 - ETA: 8:31 - loss: 0.1386 - acc: 0.948 - ETA: 8:29 - loss: 0.1386 - acc: 0.948 - ETA: 8:28 - loss: 0.1384 - acc: 0.949 - ETA: 8:27 - loss: 0.1384 - acc: 0.948 - ETA: 8:26 - loss: 0.1382 - acc: 0.948 - ETA: 8:24 - loss: 0.1380 - acc: 0.948 - ETA: 8:23 - loss: 0.1375 - acc: 0.949 - ETA: 8:21 - loss: 0.1378 - acc: 0.949 - ETA: 8:20 - loss: 0.1382 - acc: 0.949 - ETA: 8:19 - loss: 0.1377 - acc: 0.949 - ETA: 8:17 - loss: 0.1390 - acc: 0.949 - ETA: 8:16 - loss: 0.1385 - acc: 0.949 - ETA: 8:14 - loss: 0.1381 - acc: 0.949 - ETA: 8:13 - loss: 0.1377 - acc: 0.949 - ETA: 8:12 - loss: 0.1376 - acc: 0.949 - ETA: 8:11 - loss: 0.1374 - acc: 0.949 - ETA: 8:09 - loss: 0.1374 - acc: 0.949 - ETA: 8:08 - loss: 0.1385 - acc: 0.949 - ETA: 8:06 - loss: 0.1395 - acc: 0.949 - ETA: 8:05 - loss: 0.1397 - acc: 0.948 - ETA: 8:04 - loss: 0.1391 - acc: 0.949 - ETA: 8:02 - loss: 0.1394 - acc: 0.949 - ETA: 8:01 - loss: 0.1391 - acc: 0.949 - ETA: 8:00 - loss: 0.1391 - acc: 0.949 - ETA: 7:58 - loss: 0.1394 - acc: 0.949 - ETA: 7:57 - loss: 0.1397 - acc: 0.949 - ETA: 7:56 - loss: 0.1393 - acc: 0.949 - ETA: 7:54 - loss: 0.1388 - acc: 0.949 - ETA: 7:53 - loss: 0.1383 - acc: 0.949 - ETA: 7:52 - loss: 0.1385 - acc: 0.949 - ETA: 7:50 - loss: 0.1387 - acc: 0.949 - ETA: 7:49 - loss: 0.1387 - acc: 0.949 - ETA: 7:48 - loss: 0.1386 - acc: 0.949 - ETA: 7:46 - loss: 0.1395 - acc: 0.949 - ETA: 7:45 - loss: 0.1398 - acc: 0.948 - ETA: 7:43 - loss: 0.1392 - acc: 0.949 - ETA: 7:42 - loss: 0.1397 - acc: 0.948 - ETA: 7:41 - loss: 0.1395 - acc: 0.948 - ETA: 7:40 - loss: 0.1397 - acc: 0.948 - ETA: 7:38 - loss: 0.1399 - acc: 0.948 - ETA: 7:37 - loss: 0.1400 - acc: 0.948 - ETA: 7:35 - loss: 0.1398 - acc: 0.949 - ETA: 7:34 - loss: 0.1397 - acc: 0.948 - ETA: 7:32 - loss: 0.1395 - acc: 0.948 - ETA: 7:31 - loss: 0.1406 - acc: 0.948 - ETA: 7:30 - loss: 0.1404 - acc: 0.948 - ETA: 7:28 - loss: 0.1408 - acc: 0.948 - ETA: 7:27 - loss: 0.1414 - acc: 0.948 - ETA: 7:26 - loss: 0.1420 - acc: 0.948 - ETA: 7:24 - loss: 0.1421 - acc: 0.948 - ETA: 7:23 - loss: 0.1424 - acc: 0.948 - ETA: 7:21 - loss: 0.1427 - acc: 0.948 - ETA: 7:20 - loss: 0.1428 - acc: 0.947 - ETA: 7:19 - loss: 0.1427 - acc: 0.947 - ETA: 7:17 - loss: 0.1429 - acc: 0.947 - ETA: 7:16 - loss: 0.1428 - acc: 0.947 - ETA: 7:14 - loss: 0.1423 - acc: 0.947 - ETA: 7:13 - loss: 0.1426 - acc: 0.947 - ETA: 7:12 - loss: 0.1426 - acc: 0.947 - ETA: 7:10 - loss: 0.1428 - acc: 0.947 - ETA: 7:09 - loss: 0.1433 - acc: 0.947 - ETA: 7:08 - loss: 0.1434 - acc: 0.947 - ETA: 7:06 - loss: 0.1435 - acc: 0.947 - ETA: 7:05 - loss: 0.1433 - acc: 0.947 - ETA: 7:03 - loss: 0.1432 - acc: 0.947 - ETA: 7:02 - loss: 0.1431 - acc: 0.947 - ETA: 7:01 - loss: 0.1427 - acc: 0.947 - ETA: 6:59 - loss: 0.1427 - acc: 0.9473"
     ]
    },
    {
     "name": "stdout",
     "output_type": "stream",
     "text": [
      "26112/32249 [=======================>......] - ETA: 6:58 - loss: 0.1425 - acc: 0.947 - ETA: 6:56 - loss: 0.1422 - acc: 0.947 - ETA: 6:55 - loss: 0.1421 - acc: 0.947 - ETA: 6:54 - loss: 0.1421 - acc: 0.947 - ETA: 6:52 - loss: 0.1420 - acc: 0.947 - ETA: 6:51 - loss: 0.1418 - acc: 0.947 - ETA: 6:50 - loss: 0.1417 - acc: 0.947 - ETA: 6:48 - loss: 0.1419 - acc: 0.947 - ETA: 6:47 - loss: 0.1414 - acc: 0.947 - ETA: 6:45 - loss: 0.1413 - acc: 0.947 - ETA: 6:44 - loss: 0.1414 - acc: 0.947 - ETA: 6:42 - loss: 0.1411 - acc: 0.947 - ETA: 6:41 - loss: 0.1411 - acc: 0.947 - ETA: 6:40 - loss: 0.1413 - acc: 0.947 - ETA: 6:38 - loss: 0.1412 - acc: 0.947 - ETA: 6:37 - loss: 0.1414 - acc: 0.947 - ETA: 6:36 - loss: 0.1414 - acc: 0.947 - ETA: 6:34 - loss: 0.1412 - acc: 0.947 - ETA: 6:33 - loss: 0.1414 - acc: 0.947 - ETA: 6:32 - loss: 0.1414 - acc: 0.947 - ETA: 6:30 - loss: 0.1420 - acc: 0.947 - ETA: 6:29 - loss: 0.1422 - acc: 0.947 - ETA: 6:27 - loss: 0.1421 - acc: 0.947 - ETA: 6:26 - loss: 0.1425 - acc: 0.947 - ETA: 6:25 - loss: 0.1430 - acc: 0.947 - ETA: 6:23 - loss: 0.1429 - acc: 0.947 - ETA: 6:22 - loss: 0.1430 - acc: 0.947 - ETA: 6:20 - loss: 0.1433 - acc: 0.946 - ETA: 6:19 - loss: 0.1432 - acc: 0.947 - ETA: 6:18 - loss: 0.1439 - acc: 0.946 - ETA: 6:16 - loss: 0.1441 - acc: 0.946 - ETA: 6:15 - loss: 0.1443 - acc: 0.946 - ETA: 6:13 - loss: 0.1443 - acc: 0.946 - ETA: 6:12 - loss: 0.1440 - acc: 0.946 - ETA: 6:11 - loss: 0.1442 - acc: 0.946 - ETA: 6:09 - loss: 0.1446 - acc: 0.946 - ETA: 6:08 - loss: 0.1448 - acc: 0.945 - ETA: 6:07 - loss: 0.1447 - acc: 0.946 - ETA: 6:05 - loss: 0.1446 - acc: 0.946 - ETA: 6:04 - loss: 0.1446 - acc: 0.946 - ETA: 6:02 - loss: 0.1449 - acc: 0.945 - ETA: 6:01 - loss: 0.1453 - acc: 0.945 - ETA: 6:00 - loss: 0.1451 - acc: 0.945 - ETA: 5:58 - loss: 0.1452 - acc: 0.945 - ETA: 5:57 - loss: 0.1452 - acc: 0.945 - ETA: 5:55 - loss: 0.1451 - acc: 0.945 - ETA: 5:54 - loss: 0.1459 - acc: 0.945 - ETA: 5:53 - loss: 0.1460 - acc: 0.945 - ETA: 5:51 - loss: 0.1461 - acc: 0.945 - ETA: 5:50 - loss: 0.1465 - acc: 0.945 - ETA: 5:49 - loss: 0.1464 - acc: 0.945 - ETA: 5:47 - loss: 0.1463 - acc: 0.945 - ETA: 5:46 - loss: 0.1460 - acc: 0.945 - ETA: 5:44 - loss: 0.1464 - acc: 0.945 - ETA: 5:43 - loss: 0.1460 - acc: 0.945 - ETA: 5:42 - loss: 0.1456 - acc: 0.945 - ETA: 5:40 - loss: 0.1454 - acc: 0.945 - ETA: 5:39 - loss: 0.1453 - acc: 0.946 - ETA: 5:37 - loss: 0.1453 - acc: 0.946 - ETA: 5:36 - loss: 0.1454 - acc: 0.946 - ETA: 5:35 - loss: 0.1449 - acc: 0.946 - ETA: 5:33 - loss: 0.1455 - acc: 0.946 - ETA: 5:32 - loss: 0.1456 - acc: 0.946 - ETA: 5:30 - loss: 0.1455 - acc: 0.946 - ETA: 5:29 - loss: 0.1455 - acc: 0.946 - ETA: 5:28 - loss: 0.1458 - acc: 0.946 - ETA: 5:26 - loss: 0.1463 - acc: 0.945 - ETA: 5:25 - loss: 0.1462 - acc: 0.945 - ETA: 5:23 - loss: 0.1460 - acc: 0.946 - ETA: 5:22 - loss: 0.1462 - acc: 0.945 - ETA: 5:21 - loss: 0.1460 - acc: 0.946 - ETA: 5:19 - loss: 0.1460 - acc: 0.946 - ETA: 5:18 - loss: 0.1458 - acc: 0.946 - ETA: 5:16 - loss: 0.1461 - acc: 0.946 - ETA: 5:15 - loss: 0.1464 - acc: 0.946 - ETA: 5:14 - loss: 0.1468 - acc: 0.945 - ETA: 5:12 - loss: 0.1469 - acc: 0.945 - ETA: 5:11 - loss: 0.1467 - acc: 0.945 - ETA: 5:09 - loss: 0.1467 - acc: 0.945 - ETA: 5:08 - loss: 0.1469 - acc: 0.945 - ETA: 5:07 - loss: 0.1473 - acc: 0.945 - ETA: 5:05 - loss: 0.1479 - acc: 0.945 - ETA: 5:04 - loss: 0.1479 - acc: 0.945 - ETA: 5:02 - loss: 0.1478 - acc: 0.945 - ETA: 5:01 - loss: 0.1475 - acc: 0.945 - ETA: 5:00 - loss: 0.1477 - acc: 0.945 - ETA: 4:58 - loss: 0.1479 - acc: 0.945 - ETA: 4:57 - loss: 0.1484 - acc: 0.944 - ETA: 4:55 - loss: 0.1486 - acc: 0.944 - ETA: 4:54 - loss: 0.1486 - acc: 0.944 - ETA: 4:53 - loss: 0.1483 - acc: 0.944 - ETA: 4:51 - loss: 0.1479 - acc: 0.944 - ETA: 4:50 - loss: 0.1482 - acc: 0.944 - ETA: 4:49 - loss: 0.1484 - acc: 0.944 - ETA: 4:47 - loss: 0.1485 - acc: 0.944 - ETA: 4:46 - loss: 0.1485 - acc: 0.944 - ETA: 4:44 - loss: 0.1483 - acc: 0.944 - ETA: 4:43 - loss: 0.1484 - acc: 0.944 - ETA: 4:42 - loss: 0.1486 - acc: 0.944 - ETA: 4:40 - loss: 0.1487 - acc: 0.944 - ETA: 4:39 - loss: 0.1489 - acc: 0.944 - ETA: 4:37 - loss: 0.1487 - acc: 0.944 - ETA: 4:36 - loss: 0.1488 - acc: 0.944 - ETA: 4:34 - loss: 0.1488 - acc: 0.944 - ETA: 4:33 - loss: 0.1486 - acc: 0.944 - ETA: 4:32 - loss: 0.1487 - acc: 0.944 - ETA: 4:30 - loss: 0.1485 - acc: 0.944 - ETA: 4:29 - loss: 0.1483 - acc: 0.945 - ETA: 4:28 - loss: 0.1483 - acc: 0.944 - ETA: 4:26 - loss: 0.1482 - acc: 0.944 - ETA: 4:25 - loss: 0.1480 - acc: 0.945 - ETA: 4:23 - loss: 0.1479 - acc: 0.945 - ETA: 4:22 - loss: 0.1482 - acc: 0.945 - ETA: 4:20 - loss: 0.1482 - acc: 0.945 - ETA: 4:19 - loss: 0.1482 - acc: 0.945 - ETA: 4:18 - loss: 0.1483 - acc: 0.945 - ETA: 4:16 - loss: 0.1482 - acc: 0.945 - ETA: 4:15 - loss: 0.1484 - acc: 0.945 - ETA: 4:13 - loss: 0.1484 - acc: 0.945 - ETA: 4:12 - loss: 0.1485 - acc: 0.945 - ETA: 4:11 - loss: 0.1484 - acc: 0.945 - ETA: 4:09 - loss: 0.1484 - acc: 0.945 - ETA: 4:08 - loss: 0.1489 - acc: 0.944 - ETA: 4:06 - loss: 0.1499 - acc: 0.944 - ETA: 4:05 - loss: 0.1496 - acc: 0.944 - ETA: 4:04 - loss: 0.1497 - acc: 0.944 - ETA: 4:02 - loss: 0.1496 - acc: 0.944 - ETA: 4:01 - loss: 0.1497 - acc: 0.944 - ETA: 4:00 - loss: 0.1498 - acc: 0.944 - ETA: 3:58 - loss: 0.1499 - acc: 0.944 - ETA: 3:57 - loss: 0.1500 - acc: 0.944 - ETA: 3:55 - loss: 0.1502 - acc: 0.944 - ETA: 3:54 - loss: 0.1501 - acc: 0.944 - ETA: 3:53 - loss: 0.1502 - acc: 0.944 - ETA: 3:51 - loss: 0.1502 - acc: 0.944 - ETA: 3:50 - loss: 0.1503 - acc: 0.944 - ETA: 3:48 - loss: 0.1502 - acc: 0.944 - ETA: 3:47 - loss: 0.1503 - acc: 0.944 - ETA: 3:46 - loss: 0.1503 - acc: 0.944 - ETA: 3:44 - loss: 0.1505 - acc: 0.944 - ETA: 3:43 - loss: 0.1504 - acc: 0.944 - ETA: 3:41 - loss: 0.1504 - acc: 0.944 - ETA: 3:40 - loss: 0.1504 - acc: 0.944 - ETA: 3:39 - loss: 0.1505 - acc: 0.944 - ETA: 3:37 - loss: 0.1505 - acc: 0.944 - ETA: 3:36 - loss: 0.1506 - acc: 0.944 - ETA: 3:34 - loss: 0.1506 - acc: 0.944 - ETA: 3:33 - loss: 0.1509 - acc: 0.944 - ETA: 3:32 - loss: 0.1510 - acc: 0.944 - ETA: 3:30 - loss: 0.1510 - acc: 0.944 - ETA: 3:29 - loss: 0.1508 - acc: 0.944 - ETA: 3:27 - loss: 0.1507 - acc: 0.944 - ETA: 3:26 - loss: 0.1507 - acc: 0.944 - ETA: 3:25 - loss: 0.1505 - acc: 0.944 - ETA: 3:23 - loss: 0.1505 - acc: 0.944 - ETA: 3:22 - loss: 0.1505 - acc: 0.944 - ETA: 3:20 - loss: 0.1503 - acc: 0.944 - ETA: 3:19 - loss: 0.1505 - acc: 0.944 - ETA: 3:18 - loss: 0.1506 - acc: 0.944 - ETA: 3:16 - loss: 0.1508 - acc: 0.944 - ETA: 3:15 - loss: 0.1513 - acc: 0.943 - ETA: 3:13 - loss: 0.1513 - acc: 0.943 - ETA: 3:12 - loss: 0.1514 - acc: 0.943 - ETA: 3:11 - loss: 0.1517 - acc: 0.943 - ETA: 3:09 - loss: 0.1518 - acc: 0.943 - ETA: 3:08 - loss: 0.1520 - acc: 0.943 - ETA: 3:06 - loss: 0.1521 - acc: 0.943 - ETA: 3:05 - loss: 0.1520 - acc: 0.943 - ETA: 3:04 - loss: 0.1523 - acc: 0.943 - ETA: 3:02 - loss: 0.1522 - acc: 0.943 - ETA: 3:01 - loss: 0.1522 - acc: 0.943 - ETA: 2:59 - loss: 0.1522 - acc: 0.943 - ETA: 2:58 - loss: 0.1524 - acc: 0.943 - ETA: 2:57 - loss: 0.1528 - acc: 0.943 - ETA: 2:55 - loss: 0.1527 - acc: 0.943 - ETA: 2:54 - loss: 0.1532 - acc: 0.942 - ETA: 2:53 - loss: 0.1532 - acc: 0.942 - ETA: 2:51 - loss: 0.1533 - acc: 0.942 - ETA: 2:50 - loss: 0.1532 - acc: 0.942 - ETA: 2:48 - loss: 0.1534 - acc: 0.942 - ETA: 2:47 - loss: 0.1534 - acc: 0.942 - ETA: 2:45 - loss: 0.1537 - acc: 0.942 - ETA: 2:44 - loss: 0.1538 - acc: 0.942 - ETA: 2:43 - loss: 0.1538 - acc: 0.942 - ETA: 2:41 - loss: 0.1538 - acc: 0.942 - ETA: 2:40 - loss: 0.1542 - acc: 0.942 - ETA: 2:39 - loss: 0.1540 - acc: 0.942 - ETA: 2:37 - loss: 0.1538 - acc: 0.942 - ETA: 2:36 - loss: 0.1537 - acc: 0.942 - ETA: 2:34 - loss: 0.1537 - acc: 0.942 - ETA: 2:33 - loss: 0.1535 - acc: 0.942 - ETA: 2:32 - loss: 0.1535 - acc: 0.942 - ETA: 2:30 - loss: 0.1533 - acc: 0.942 - ETA: 2:29 - loss: 0.1531 - acc: 0.942 - ETA: 2:27 - loss: 0.1529 - acc: 0.942 - ETA: 2:26 - loss: 0.1535 - acc: 0.942 - ETA: 2:25 - loss: 0.1536 - acc: 0.942 - ETA: 2:23 - loss: 0.1541 - acc: 0.942 - ETA: 2:22 - loss: 0.1540 - acc: 0.942 - ETA: 2:20 - loss: 0.1542 - acc: 0.942 - ETA: 2:19 - loss: 0.1542 - acc: 0.942 - ETA: 2:18 - loss: 0.1542 - acc: 0.942 - ETA: 2:16 - loss: 0.1542 - acc: 0.942 - ETA: 2:15 - loss: 0.1541 - acc: 0.9424"
     ]
    },
    {
     "name": "stdout",
     "output_type": "stream",
     "text": [
      "32249/32249 [==============================] - ETA: 2:13 - loss: 0.1541 - acc: 0.942 - ETA: 2:12 - loss: 0.1542 - acc: 0.942 - ETA: 2:11 - loss: 0.1541 - acc: 0.942 - ETA: 2:09 - loss: 0.1541 - acc: 0.942 - ETA: 2:08 - loss: 0.1541 - acc: 0.942 - ETA: 2:06 - loss: 0.1544 - acc: 0.942 - ETA: 2:05 - loss: 0.1542 - acc: 0.942 - ETA: 2:04 - loss: 0.1542 - acc: 0.942 - ETA: 2:02 - loss: 0.1542 - acc: 0.942 - ETA: 2:01 - loss: 0.1543 - acc: 0.942 - ETA: 1:59 - loss: 0.1543 - acc: 0.942 - ETA: 1:58 - loss: 0.1542 - acc: 0.942 - ETA: 1:57 - loss: 0.1543 - acc: 0.942 - ETA: 1:55 - loss: 0.1546 - acc: 0.942 - ETA: 1:54 - loss: 0.1545 - acc: 0.942 - ETA: 1:52 - loss: 0.1546 - acc: 0.942 - ETA: 1:51 - loss: 0.1545 - acc: 0.942 - ETA: 1:50 - loss: 0.1545 - acc: 0.942 - ETA: 1:48 - loss: 0.1546 - acc: 0.942 - ETA: 1:47 - loss: 0.1547 - acc: 0.942 - ETA: 1:45 - loss: 0.1545 - acc: 0.942 - ETA: 1:44 - loss: 0.1546 - acc: 0.942 - ETA: 1:42 - loss: 0.1544 - acc: 0.942 - ETA: 1:41 - loss: 0.1544 - acc: 0.942 - ETA: 1:40 - loss: 0.1548 - acc: 0.942 - ETA: 1:38 - loss: 0.1548 - acc: 0.942 - ETA: 1:37 - loss: 0.1547 - acc: 0.942 - ETA: 1:35 - loss: 0.1544 - acc: 0.942 - ETA: 1:34 - loss: 0.1544 - acc: 0.942 - ETA: 1:33 - loss: 0.1544 - acc: 0.942 - ETA: 1:31 - loss: 0.1546 - acc: 0.942 - ETA: 1:30 - loss: 0.1544 - acc: 0.942 - ETA: 1:28 - loss: 0.1544 - acc: 0.942 - ETA: 1:27 - loss: 0.1548 - acc: 0.942 - ETA: 1:26 - loss: 0.1550 - acc: 0.941 - ETA: 1:24 - loss: 0.1551 - acc: 0.941 - ETA: 1:23 - loss: 0.1549 - acc: 0.942 - ETA: 1:21 - loss: 0.1548 - acc: 0.941 - ETA: 1:20 - loss: 0.1546 - acc: 0.942 - ETA: 1:19 - loss: 0.1546 - acc: 0.942 - ETA: 1:17 - loss: 0.1545 - acc: 0.942 - ETA: 1:16 - loss: 0.1546 - acc: 0.942 - ETA: 1:14 - loss: 0.1544 - acc: 0.942 - ETA: 1:13 - loss: 0.1543 - acc: 0.942 - ETA: 1:11 - loss: 0.1543 - acc: 0.942 - ETA: 1:10 - loss: 0.1544 - acc: 0.942 - ETA: 1:09 - loss: 0.1544 - acc: 0.942 - ETA: 1:07 - loss: 0.1544 - acc: 0.942 - ETA: 1:06 - loss: 0.1544 - acc: 0.942 - ETA: 1:04 - loss: 0.1546 - acc: 0.942 - ETA: 1:03 - loss: 0.1546 - acc: 0.942 - ETA: 1:02 - loss: 0.1544 - acc: 0.942 - ETA: 1:00 - loss: 0.1542 - acc: 0.942 - ETA: 59s - loss: 0.1544 - acc: 0.942 - ETA: 57s - loss: 0.1542 - acc: 0.94 - ETA: 56s - loss: 0.1543 - acc: 0.94 - ETA: 55s - loss: 0.1546 - acc: 0.94 - ETA: 53s - loss: 0.1546 - acc: 0.94 - ETA: 52s - loss: 0.1547 - acc: 0.94 - ETA: 50s - loss: 0.1548 - acc: 0.94 - ETA: 49s - loss: 0.1547 - acc: 0.94 - ETA: 47s - loss: 0.1545 - acc: 0.94 - ETA: 46s - loss: 0.1547 - acc: 0.94 - ETA: 45s - loss: 0.1548 - acc: 0.94 - ETA: 43s - loss: 0.1547 - acc: 0.94 - ETA: 42s - loss: 0.1547 - acc: 0.94 - ETA: 40s - loss: 0.1549 - acc: 0.94 - ETA: 39s - loss: 0.1548 - acc: 0.94 - ETA: 38s - loss: 0.1548 - acc: 0.94 - ETA: 36s - loss: 0.1549 - acc: 0.94 - ETA: 35s - loss: 0.1549 - acc: 0.94 - ETA: 33s - loss: 0.1550 - acc: 0.94 - ETA: 32s - loss: 0.1554 - acc: 0.94 - ETA: 30s - loss: 0.1556 - acc: 0.94 - ETA: 29s - loss: 0.1555 - acc: 0.94 - ETA: 28s - loss: 0.1557 - acc: 0.94 - ETA: 26s - loss: 0.1558 - acc: 0.94 - ETA: 25s - loss: 0.1557 - acc: 0.94 - ETA: 23s - loss: 0.1557 - acc: 0.94 - ETA: 22s - loss: 0.1556 - acc: 0.94 - ETA: 21s - loss: 0.1554 - acc: 0.94 - ETA: 19s - loss: 0.1557 - acc: 0.94 - ETA: 18s - loss: 0.1562 - acc: 0.94 - ETA: 16s - loss: 0.1562 - acc: 0.94 - ETA: 15s - loss: 0.1560 - acc: 0.94 - ETA: 14s - loss: 0.1560 - acc: 0.94 - ETA: 12s - loss: 0.1561 - acc: 0.94 - ETA: 11s - loss: 0.1561 - acc: 0.94 - ETA: 9s - loss: 0.1561 - acc: 0.9416 - ETA: 8s - loss: 0.1559 - acc: 0.941 - ETA: 6s - loss: 0.1560 - acc: 0.941 - ETA: 5s - loss: 0.1560 - acc: 0.941 - ETA: 4s - loss: 0.1560 - acc: 0.941 - ETA: 2s - loss: 0.1559 - acc: 0.941 - ETA: 1s - loss: 0.1560 - acc: 0.941 - 714s 22ms/step - loss: 0.1560 - acc: 0.9415\n",
      "Accuracy: 91.37%\n"
     ]
    }
   ],
   "source": [
    "model1.fit(X_train, y_train, nb_epoch=3, batch_size=64)\n",
    "scores = model1.evaluate(X_test, y_test, verbose=0)\n",
    "print(\"Accuracy: %.2f%%\" % (scores[1]*100))"
   ]
  },
  {
   "cell_type": "markdown",
   "metadata": {},
   "source": [
    "# Summary"
   ]
  },
  {
   "cell_type": "markdown",
   "metadata": {},
   "source": [
    "1. Model1 with one LSTM layer ran for 5 epochs go1 accuracy of 91.32%.\n",
    "2. Model2 with 2 LSTM layers ran for 3 epochs got accuracy of 91.37%."
   ]
  }
 ],
 "metadata": {
  "kernelspec": {
   "display_name": "Python 3",
   "language": "python",
   "name": "python3"
  },
  "language_info": {
   "codemirror_mode": {
    "name": "ipython",
    "version": 3
   },
   "file_extension": ".py",
   "mimetype": "text/x-python",
   "name": "python",
   "nbconvert_exporter": "python",
   "pygments_lexer": "ipython3",
   "version": "3.6.8"
  }
 },
 "nbformat": 4,
 "nbformat_minor": 2
}
